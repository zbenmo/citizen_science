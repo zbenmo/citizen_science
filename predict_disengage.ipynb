{
 "cells": [
  {
   "cell_type": "code",
   "execution_count": 1,
   "id": "192a54bb-1e71-46b8-a63f-c11a826b658e",
   "metadata": {},
   "outputs": [],
   "source": [
    "import polars as pl\n",
    "\n",
    "#from sklearn.model_selection import GroupShuffleSplit\n",
    "import numpy as np\n",
    "\n",
    "from sklearn.model_selection import StratifiedGroupKFold"
   ]
  },
  {
   "cell_type": "markdown",
   "id": "d986f7d5-e7c9-4b25-aafb-2662efdb59d2",
   "metadata": {},
   "source": [
    "## The data was dowloaded locally, and is read from there (the local disk).\n",
    "### apparently no header"
   ]
  },
  {
   "cell_type": "code",
   "execution_count": 2,
   "id": "388efbcf-1975-4bad-8ef5-d4c7545216b8",
   "metadata": {},
   "outputs": [],
   "source": [
    "df = (\n",
    "    pl.read_excel('Data for Student Hiring Project - Citizen Science .xlsx', read_options={\"has_header\": False})\n",
    "    .rename({'column_1': 'user_id', 'column_2': 'timestamp'})\n",
    "    .with_columns(pl.col('timestamp').str.to_datetime())\n",
    ")"
   ]
  },
  {
   "cell_type": "code",
   "execution_count": 3,
   "id": "0ced6585-1b12-4b29-9367-5b4f21e05c07",
   "metadata": {},
   "outputs": [
    {
     "data": {
      "text/plain": [
       "(99999, 2)"
      ]
     },
     "execution_count": 3,
     "metadata": {},
     "output_type": "execute_result"
    }
   ],
   "source": [
    "df.shape"
   ]
  },
  {
   "cell_type": "code",
   "execution_count": 4,
   "id": "b297567c-76e5-451d-addb-7f7a3cdf64c8",
   "metadata": {},
   "outputs": [
    {
     "data": {
      "text/html": [
       "<div><style>\n",
       ".dataframe > thead > tr,\n",
       ".dataframe > tbody > tr {\n",
       "  text-align: right;\n",
       "  white-space: pre-wrap;\n",
       "}\n",
       "</style>\n",
       "<small>shape: (5, 2)</small><table border=\"1\" class=\"dataframe\"><thead><tr><th>user_id</th><th>timestamp</th></tr><tr><td>str</td><td>datetime[μs]</td></tr></thead><tbody><tr><td>&quot;54999c8d9cd118282b001784&quot;</td><td>2014-12-23 04:53:19</td></tr><tr><td>&quot;54999c91bb7b56040d0011e8&quot;</td><td>2014-12-23 04:53:20</td></tr><tr><td>&quot;54999c8fbb7b565d7e000a7c&quot;</td><td>2014-12-23 04:53:21</td></tr><tr><td>&quot;54999cb29cd1184d77000539&quot;</td><td>2014-12-23 04:53:24</td></tr><tr><td>&quot;54068fab91ad6b597e000f97&quot;</td><td>2014-12-23 04:53:28</td></tr></tbody></table></div>"
      ],
      "text/plain": [
       "shape: (5, 2)\n",
       "┌──────────────────────────┬─────────────────────┐\n",
       "│ user_id                  ┆ timestamp           │\n",
       "│ ---                      ┆ ---                 │\n",
       "│ str                      ┆ datetime[μs]        │\n",
       "╞══════════════════════════╪═════════════════════╡\n",
       "│ 54999c8d9cd118282b001784 ┆ 2014-12-23 04:53:19 │\n",
       "│ 54999c91bb7b56040d0011e8 ┆ 2014-12-23 04:53:20 │\n",
       "│ 54999c8fbb7b565d7e000a7c ┆ 2014-12-23 04:53:21 │\n",
       "│ 54999cb29cd1184d77000539 ┆ 2014-12-23 04:53:24 │\n",
       "│ 54068fab91ad6b597e000f97 ┆ 2014-12-23 04:53:28 │\n",
       "└──────────────────────────┴─────────────────────┘"
      ]
     },
     "execution_count": 4,
     "metadata": {},
     "output_type": "execute_result"
    }
   ],
   "source": [
    "df.head()"
   ]
  },
  {
   "cell_type": "code",
   "execution_count": 136,
   "id": "8ae5fb9a-fc2f-4323-9224-00d8e6b1ce4a",
   "metadata": {},
   "outputs": [],
   "source": [
    "def find_sessions(df, threshold_in_sec: int):\n",
    "    \"\"\"Identifing the sessions. giving an id for each session. Also giving a numeric id to a user.\n",
    "    \"\"\"\n",
    "    return (\n",
    "        df.sort(['user_id', 'timestamp'])\n",
    "        .with_columns((pl.col('timestamp').diff().dt.total_seconds() > threshold_in_sec).fill_null(True).alias('ts_diff'))\n",
    "        .with_columns((pl.col('user_id').ne(pl.col('user_id').shift())).fill_null(True).alias('user_diff'))\n",
    "        .with_columns([\n",
    "            (pl.col(\"ts_diff\") | pl.col(\"user_diff\")).alias(\"new_session_mark\")\n",
    "        ])\n",
    "        .with_columns([\n",
    "            pl.col(\"new_session_mark\").cum_sum().alias(\"session\")\n",
    "        ])\n",
    "        .with_columns([\n",
    "            pl.col(\"user_diff\").cum_sum().alias(\"user\")\n",
    "        ])\n",
    "    )"
   ]
  },
  {
   "cell_type": "markdown",
   "id": "55d566ce-56de-4a71-b595-62df5f80fd21",
   "metadata": {},
   "source": [
    "### We add session ids based on the user_id and whether 30 minutes have passed."
   ]
  },
  {
   "cell_type": "code",
   "execution_count": 137,
   "id": "a87675b1-806e-4e85-a9a3-b73640bbaf79",
   "metadata": {},
   "outputs": [],
   "source": [
    "df_with_sessions = df.pipe(find_sessions, threshold_in_sec=60 * 30)"
   ]
  },
  {
   "cell_type": "code",
   "execution_count": 138,
   "id": "e2b43560-2f99-4968-bd2d-54ef567d864b",
   "metadata": {},
   "outputs": [
    {
     "data": {
      "text/html": [
       "<div><style>\n",
       ".dataframe > thead > tr,\n",
       ".dataframe > tbody > tr {\n",
       "  text-align: right;\n",
       "  white-space: pre-wrap;\n",
       "}\n",
       "</style>\n",
       "<small>shape: (10, 7)</small><table border=\"1\" class=\"dataframe\"><thead><tr><th>user_id</th><th>timestamp</th><th>ts_diff</th><th>user_diff</th><th>new_session_mark</th><th>session</th><th>user</th></tr><tr><td>str</td><td>datetime[μs]</td><td>bool</td><td>bool</td><td>bool</td><td>u32</td><td>u32</td></tr></thead><tbody><tr><td>&quot;54aaaba29cd1180cf7000070&quot;</td><td>2015-01-05 03:23:09</td><td>false</td><td>false</td><td>false</td><td>2288</td><td>942</td></tr><tr><td>&quot;54aaaba29cd1180cf7000070&quot;</td><td>2015-01-05 03:23:37</td><td>false</td><td>false</td><td>false</td><td>2288</td><td>942</td></tr><tr><td>&quot;54aaaba29cd1180cf7000070&quot;</td><td>2015-01-05 03:24:01</td><td>false</td><td>false</td><td>false</td><td>2288</td><td>942</td></tr><tr><td>&quot;54aaaba29cd1180cf7000070&quot;</td><td>2015-01-05 03:24:17</td><td>false</td><td>false</td><td>false</td><td>2288</td><td>942</td></tr><tr><td>&quot;54aaaba29cd1180cf7000070&quot;</td><td>2015-01-05 03:24:30</td><td>false</td><td>false</td><td>false</td><td>2288</td><td>942</td></tr><tr><td>&quot;54aac9549cd11825500000f8&quot;</td><td>2015-01-05 05:26:57</td><td>true</td><td>true</td><td>true</td><td>2289</td><td>943</td></tr><tr><td>&quot;54aac9549cd11825500000f8&quot;</td><td>2015-01-05 05:27:23</td><td>false</td><td>false</td><td>false</td><td>2289</td><td>943</td></tr><tr><td>&quot;54aac9549cd11825500000f8&quot;</td><td>2015-01-05 05:27:48</td><td>false</td><td>false</td><td>false</td><td>2289</td><td>943</td></tr><tr><td>&quot;54aac9549cd11825500000f8&quot;</td><td>2015-01-05 05:27:52</td><td>false</td><td>false</td><td>false</td><td>2289</td><td>943</td></tr><tr><td>&quot;54aac9549cd11825500000f8&quot;</td><td>2015-01-05 05:28:02</td><td>false</td><td>false</td><td>false</td><td>2289</td><td>943</td></tr></tbody></table></div>"
      ],
      "text/plain": [
       "shape: (10, 7)\n",
       "┌─────────────────────────┬──────────────┬─────────┬───────────┬──────────────────┬─────────┬──────┐\n",
       "│ user_id                 ┆ timestamp    ┆ ts_diff ┆ user_diff ┆ new_session_mark ┆ session ┆ user │\n",
       "│ ---                     ┆ ---          ┆ ---     ┆ ---       ┆ ---              ┆ ---     ┆ ---  │\n",
       "│ str                     ┆ datetime[μs] ┆ bool    ┆ bool      ┆ bool             ┆ u32     ┆ u32  │\n",
       "╞═════════════════════════╪══════════════╪═════════╪═══════════╪══════════════════╪═════════╪══════╡\n",
       "│ 54aaaba29cd1180cf700007 ┆ 2015-01-05   ┆ false   ┆ false     ┆ false            ┆ 2288    ┆ 942  │\n",
       "│ 0                       ┆ 03:23:09     ┆         ┆           ┆                  ┆         ┆      │\n",
       "│ 54aaaba29cd1180cf700007 ┆ 2015-01-05   ┆ false   ┆ false     ┆ false            ┆ 2288    ┆ 942  │\n",
       "│ 0                       ┆ 03:23:37     ┆         ┆           ┆                  ┆         ┆      │\n",
       "│ 54aaaba29cd1180cf700007 ┆ 2015-01-05   ┆ false   ┆ false     ┆ false            ┆ 2288    ┆ 942  │\n",
       "│ 0                       ┆ 03:24:01     ┆         ┆           ┆                  ┆         ┆      │\n",
       "│ 54aaaba29cd1180cf700007 ┆ 2015-01-05   ┆ false   ┆ false     ┆ false            ┆ 2288    ┆ 942  │\n",
       "│ 0                       ┆ 03:24:17     ┆         ┆           ┆                  ┆         ┆      │\n",
       "│ 54aaaba29cd1180cf700007 ┆ 2015-01-05   ┆ false   ┆ false     ┆ false            ┆ 2288    ┆ 942  │\n",
       "│ 0                       ┆ 03:24:30     ┆         ┆           ┆                  ┆         ┆      │\n",
       "│ 54aac9549cd11825500000f ┆ 2015-01-05   ┆ true    ┆ true      ┆ true             ┆ 2289    ┆ 943  │\n",
       "│ 8                       ┆ 05:26:57     ┆         ┆           ┆                  ┆         ┆      │\n",
       "│ 54aac9549cd11825500000f ┆ 2015-01-05   ┆ false   ┆ false     ┆ false            ┆ 2289    ┆ 943  │\n",
       "│ 8                       ┆ 05:27:23     ┆         ┆           ┆                  ┆         ┆      │\n",
       "│ 54aac9549cd11825500000f ┆ 2015-01-05   ┆ false   ┆ false     ┆ false            ┆ 2289    ┆ 943  │\n",
       "│ 8                       ┆ 05:27:48     ┆         ┆           ┆                  ┆         ┆      │\n",
       "│ 54aac9549cd11825500000f ┆ 2015-01-05   ┆ false   ┆ false     ┆ false            ┆ 2289    ┆ 943  │\n",
       "│ 8                       ┆ 05:27:52     ┆         ┆           ┆                  ┆         ┆      │\n",
       "│ 54aac9549cd11825500000f ┆ 2015-01-05   ┆ false   ┆ false     ┆ false            ┆ 2289    ┆ 943  │\n",
       "│ 8                       ┆ 05:28:02     ┆         ┆           ┆                  ┆         ┆      │\n",
       "└─────────────────────────┴──────────────┴─────────┴───────────┴──────────────────┴─────────┴──────┘"
      ]
     },
     "execution_count": 138,
     "metadata": {},
     "output_type": "execute_result"
    }
   ],
   "source": [
    "df_with_sessions.tail(10)"
   ]
  },
  {
   "cell_type": "code",
   "execution_count": 139,
   "id": "376dd759-d148-44a9-afe0-86e9e071a2c6",
   "metadata": {},
   "outputs": [
    {
     "data": {
      "text/html": [
       "<div><style>\n",
       ".dataframe > thead > tr,\n",
       ".dataframe > tbody > tr {\n",
       "  text-align: right;\n",
       "  white-space: pre-wrap;\n",
       "}\n",
       "</style>\n",
       "<small>shape: (5, 7)</small><table border=\"1\" class=\"dataframe\"><thead><tr><th>user_id</th><th>timestamp</th><th>ts_diff</th><th>user_diff</th><th>new_session_mark</th><th>session</th><th>user</th></tr><tr><td>str</td><td>datetime[μs]</td><td>bool</td><td>bool</td><td>bool</td><td>u32</td><td>u32</td></tr></thead><tbody><tr><td>&quot;4d5835cc2a82e278e6000028&quot;</td><td>2015-01-05 03:04:02</td><td>true</td><td>true</td><td>true</td><td>1</td><td>1</td></tr><tr><td>&quot;4d5835cc2a82e278e6000028&quot;</td><td>2015-01-05 03:04:53</td><td>false</td><td>false</td><td>false</td><td>1</td><td>1</td></tr><tr><td>&quot;4d5835cc2a82e278e6000028&quot;</td><td>2015-01-05 03:05:45</td><td>false</td><td>false</td><td>false</td><td>1</td><td>1</td></tr><tr><td>&quot;4d5835cc2a82e278e6000028&quot;</td><td>2015-01-05 03:06:10</td><td>false</td><td>false</td><td>false</td><td>1</td><td>1</td></tr><tr><td>&quot;4d5835cc2a82e278e6000028&quot;</td><td>2015-01-05 03:06:25</td><td>false</td><td>false</td><td>false</td><td>1</td><td>1</td></tr></tbody></table></div>"
      ],
      "text/plain": [
       "shape: (5, 7)\n",
       "┌─────────────────────────┬──────────────┬─────────┬───────────┬──────────────────┬─────────┬──────┐\n",
       "│ user_id                 ┆ timestamp    ┆ ts_diff ┆ user_diff ┆ new_session_mark ┆ session ┆ user │\n",
       "│ ---                     ┆ ---          ┆ ---     ┆ ---       ┆ ---              ┆ ---     ┆ ---  │\n",
       "│ str                     ┆ datetime[μs] ┆ bool    ┆ bool      ┆ bool             ┆ u32     ┆ u32  │\n",
       "╞═════════════════════════╪══════════════╪═════════╪═══════════╪══════════════════╪═════════╪══════╡\n",
       "│ 4d5835cc2a82e278e600002 ┆ 2015-01-05   ┆ true    ┆ true      ┆ true             ┆ 1       ┆ 1    │\n",
       "│ 8                       ┆ 03:04:02     ┆         ┆           ┆                  ┆         ┆      │\n",
       "│ 4d5835cc2a82e278e600002 ┆ 2015-01-05   ┆ false   ┆ false     ┆ false            ┆ 1       ┆ 1    │\n",
       "│ 8                       ┆ 03:04:53     ┆         ┆           ┆                  ┆         ┆      │\n",
       "│ 4d5835cc2a82e278e600002 ┆ 2015-01-05   ┆ false   ┆ false     ┆ false            ┆ 1       ┆ 1    │\n",
       "│ 8                       ┆ 03:05:45     ┆         ┆           ┆                  ┆         ┆      │\n",
       "│ 4d5835cc2a82e278e600002 ┆ 2015-01-05   ┆ false   ┆ false     ┆ false            ┆ 1       ┆ 1    │\n",
       "│ 8                       ┆ 03:06:10     ┆         ┆           ┆                  ┆         ┆      │\n",
       "│ 4d5835cc2a82e278e600002 ┆ 2015-01-05   ┆ false   ┆ false     ┆ false            ┆ 1       ┆ 1    │\n",
       "│ 8                       ┆ 03:06:25     ┆         ┆           ┆                  ┆         ┆      │\n",
       "└─────────────────────────┴──────────────┴─────────┴───────────┴──────────────────┴─────────┴──────┘"
      ]
     },
     "execution_count": 139,
     "metadata": {},
     "output_type": "execute_result"
    }
   ],
   "source": [
    "df_with_sessions.head()"
   ]
  },
  {
   "cell_type": "markdown",
   "id": "94e53b21-2c24-407f-b6cf-a6a451635c23",
   "metadata": {},
   "source": [
    "### note above both session ids and user ids start with '1'"
   ]
  },
  {
   "cell_type": "markdown",
   "id": "4a025efd-4cdb-4043-ad81-ff49a87205cd",
   "metadata": {},
   "source": [
    "### Let's learn/predict the additional time in the system (in seconds). Therefore < 5 * 60 means \"about to disengage\"."
   ]
  },
  {
   "cell_type": "code",
   "execution_count": 140,
   "id": "e5e123b0-95c0-4a71-8ec1-e320174f140e",
   "metadata": {},
   "outputs": [],
   "source": [
    "df_with_target = (\n",
    "    df_with_sessions\n",
    "    .with_columns(\n",
    "        ((pl.col(\"timestamp\").max().over(\"session\") - pl.col('timestamp')).dt.total_seconds()).alias('target')\n",
    "    )\n",
    ")"
   ]
  },
  {
   "cell_type": "code",
   "execution_count": 141,
   "id": "7b2b402f-61ab-4d08-b4ee-f6e69bdf608d",
   "metadata": {},
   "outputs": [
    {
     "data": {},
     "metadata": {},
     "output_type": "display_data"
    },
    {
     "data": {
      "application/vnd.holoviews_exec.v0+json": "",
      "text/html": [
       "<div id='p1761'>\n",
       "  <div id=\"a25d5f9d-d81f-41c5-881e-56d382b9f8f5\" data-root-id=\"p1761\" style=\"display: contents;\"></div>\n",
       "</div>\n",
       "<script type=\"application/javascript\">(function(root) {\n",
       "  var docs_json = {\"ea869170-87e6-419b-95dd-f064c37ab982\":{\"version\":\"3.4.1\",\"title\":\"Bokeh Application\",\"roots\":[{\"type\":\"object\",\"name\":\"Row\",\"id\":\"p1761\",\"attributes\":{\"name\":\"Row02868\",\"tags\":[\"embedded\"],\"stylesheets\":[\"\\n:host(.pn-loading):before, .pn-loading:before {\\n  background-color: #c3c3c3;\\n  mask-size: auto calc(min(50%, 400px));\\n  -webkit-mask-size: auto calc(min(50%, 400px));\\n}\",{\"type\":\"object\",\"name\":\"ImportedStyleSheet\",\"id\":\"p1764\",\"attributes\":{\"url\":\"https://cdn.holoviz.org/panel/1.4.2/dist/css/loading.css\"}},{\"type\":\"object\",\"name\":\"ImportedStyleSheet\",\"id\":\"p1820\",\"attributes\":{\"url\":\"https://cdn.holoviz.org/panel/1.4.2/dist/css/listpanel.css\"}},{\"type\":\"object\",\"name\":\"ImportedStyleSheet\",\"id\":\"p1762\",\"attributes\":{\"url\":\"https://cdn.holoviz.org/panel/1.4.2/dist/bundled/theme/default.css\"}},{\"type\":\"object\",\"name\":\"ImportedStyleSheet\",\"id\":\"p1763\",\"attributes\":{\"url\":\"https://cdn.holoviz.org/panel/1.4.2/dist/bundled/theme/native.css\"}}],\"min_width\":700,\"margin\":0,\"sizing_mode\":\"stretch_width\",\"align\":\"start\",\"children\":[{\"type\":\"object\",\"name\":\"Spacer\",\"id\":\"p1765\",\"attributes\":{\"name\":\"HSpacer02875\",\"stylesheets\":[\"\\n:host(.pn-loading):before, .pn-loading:before {\\n  background-color: #c3c3c3;\\n  mask-size: auto calc(min(50%, 400px));\\n  -webkit-mask-size: auto calc(min(50%, 400px));\\n}\",{\"id\":\"p1764\"},{\"id\":\"p1762\"},{\"id\":\"p1763\"}],\"margin\":0,\"sizing_mode\":\"stretch_width\",\"align\":\"start\"}},{\"type\":\"object\",\"name\":\"Figure\",\"id\":\"p1773\",\"attributes\":{\"width\":700,\"height\":300,\"margin\":[5,10],\"sizing_mode\":\"fixed\",\"align\":\"start\",\"x_range\":{\"type\":\"object\",\"name\":\"Range1d\",\"id\":\"p1766\",\"attributes\":{\"tags\":[[[\"target\",\"target\",null]],[]],\"start\":-470.6887523653016,\"end\":13097.688752365302,\"reset_start\":-470.6887523653016,\"reset_end\":13097.688752365302}},\"y_range\":{\"type\":\"object\",\"name\":\"Range1d\",\"id\":\"p1767\",\"attributes\":{\"tags\":[[[\"target_density\",\"Density\",null]],{\"type\":\"map\",\"entries\":[[\"invert_yaxis\",false],[\"autorange\",false]]}],\"end\":0.0008596820435476779,\"reset_start\":0.0,\"reset_end\":0.0008596820435476779}},\"x_scale\":{\"type\":\"object\",\"name\":\"LinearScale\",\"id\":\"p1783\"},\"y_scale\":{\"type\":\"object\",\"name\":\"LinearScale\",\"id\":\"p1784\"},\"title\":{\"type\":\"object\",\"name\":\"Title\",\"id\":\"p1776\",\"attributes\":{\"text_color\":\"black\",\"text_font_size\":\"12pt\"}},\"renderers\":[{\"type\":\"object\",\"name\":\"GlyphRenderer\",\"id\":\"p1813\",\"attributes\":{\"data_source\":{\"type\":\"object\",\"name\":\"ColumnDataSource\",\"id\":\"p1804\",\"attributes\":{\"selected\":{\"type\":\"object\",\"name\":\"Selection\",\"id\":\"p1805\",\"attributes\":{\"indices\":[],\"line_indices\":[]}},\"selection_policy\":{\"type\":\"object\",\"name\":\"UnionRenderers\",\"id\":\"p1806\"},\"data\":{\"type\":\"map\",\"entries\":[[\"x\",{\"type\":\"ndarray\",\"array\":{\"type\":\"bytes\",\"data\":\"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\"},\"shape\":[200],\"dtype\":\"float64\",\"order\":\"little\"}],[\"y\",{\"type\":\"ndarray\",\"array\":{\"type\":\"bytes\",\"data\":\"AAAAAAAAAAAAAAAAAAAAAAAAAAAAAAAAAAAAAAAAAAAAAAAAAAAAAAAAAAAAAAAAAAAAAAAAAAAAAAAAAAAAAAAAAAAAAAAAAAAAAAAAAAAAAAAAAAAAAAAAAAAAAAAAAAAAAAAAAAAAAAAAAAAAAAAAAAAAAAAAAAAAAAAAAAAAAAAAAAAAAAAAAAAAAAAAAAAAAAAAAAAAAAAAAAAAAAAAAAAAAAAAAAAAAAAAAAAAAAAAAAAAAAAAAAAAAAAAAAAAAAAAAAAAAAAAAAAAAAAAAAAAAAAAAAAAAAAAAAAAAAAAAAAAAAAAAAAAAAAAAAAAAAAAAAAAAAAAAAAAAAAAAAAAAAAAAAAAAAAAAAAAAAAAAAAAAAAAAAAAAAAAAAAAAAAAAAAAAAAAAAAAAAAAAAAAAAAAAAAAAAAAAAAAAAAAAAAAAAAAAAAAAAAAAAAAAAAAAAAAAAAAAAAAAAAAAAAAAAAAAAAAAAAAAAAAAAAAAAAAAAAAAAAAAAAAAAAAAAAAAAAAAAAAAAAAAAAAAAAAAAAAAAAAAAAAAAAAAAAAAAAAAAAAAAAAAAAAAAAAAAAAAAAAAAAAAAAAAAAAAAAAAAAAAAAAAAAAAAAAAAAAAAAAAAAAAAAAAAAAAAAAAAAAAAAAAAAAAAAAAAAAAAAAAAAAAAAAAAAAAAAAAAAAAAAAAAAAAAAAAAAAAAAAAAAAAAAAAAAAAAAAAAAAAAAAAAAAAAAAAAAAAAAAAAAAAAAAAAAAAAAAAAAAAAAAAAAAAAAAAAAAAAAAAAAAAAAAAAAAAAAAAAAAAAAAAAAAAAAAAAAAAAAAAAAAAAAAAAAAAAAAAAAAAAAAAAAAAAAAAAAAAAAAAAAAAAAAAAAAAAAAAAAAAAAAAAAAAAAAAAAAAAAAAAAAAAAAAAAAAAAAAAAAAAAAAAAAAAAAAAAAAAAAAAAAAAAAAAAAAAAAAAAAAAAAAAAAAAAAAAAAAAAAAAAAAAAAAAAAAAAAAAAAAAAAAAAAAAAAAAAAAAAAAAAAAAAAAAAAAAAAAAAAAAAAAAAAAAAAAAAAAADrs7rlp5wiPn8RJe1j/Vo+6z0FGzFPgz7zM/xxbMucPvKTusgI+qg+iyCyM5qVrD5LklVeF7SlPv9tjmuu9ZM+83XobiuEgD5epQw0MAyLPhz96NOoN5k+oanyvgXzmj7fN+/H2d+RPpreWejqIZE+LUu46vNMoz4CRYHp28WzPiSLdYSTZ7s+HaDdFF9kuT6D4xWYb5iyPk3Uvt9S6bA+XROWftnvsz45gLz1YES0Pm1sF8T1RLI+8OLc79jXsz5wdwTmePO5PsXre8rDIL8+T375AKQcwD7bdzTSlTa9PhlZxYmJUbg+R3JDLPRAuD4NvVXpXODAPpLhlV0ZQ8g+2rCTVaQJzT4NAMUve+DMPgdJsTudoMo+NSN6NWfzyj4mIxkJOwXRPht76oTuxNY+Qab1ba2o2z4B75N6k6vePpyJSf2EZuA+qQ/HDSlq4T5qMSlIrTDiPkYHIzW54eE+wTOetZDA4D5qkJtEM6vfPr+XCgRKLd4+jYi+wmab3T417LPJ3CvgPmPFALsTyuI+2YOmaPIh5D50lIkJEankPvW9i2G02uY+/mAmlNeI6T7JuY67pUvrPi66hdfXVe0+E28xsQ+J8D6LgNs+xi3zPrsusHkROfU+SQ78z2Wf9T5iIfr8PFP1PuNKE/ebZ/U+mqTalzbI9T5JuFmdAS73PrZ0OP0EnPo+7aVNL1MV/z5oYj8ZyVoBP05XzJGVnAI/MPRYcHimAz+Vi1lT2I4EP1LZDabWRQY/eh8yA3QuCT+mAe3ims8LP4VO9Wlc0Q0/BKVZNo48ED9P9hWdmuURP6EN9KNDLxM/HFvk+IvQEz9rlZUk4MYUP4P6mQSTIxc/WM5wI/RcGj/XPj2CX5sdP3nhbKkhwiA/49cUAHNYIz86AJQ0glwmP/yVkcaNdSk/riuZwzRTLD97E/ypSkYvP/LJiSbXwDE/kLH4fg/TND+7rDKhNXs4P4rX0dvE6Tw/ruqIuRKMQT9UWo3IJ7pFPyhugHPxm0k/4Awo4TAzSD9Uuto3D8s9P72ezdJjniQ/Eiu70gKX/T7sSrBR9RrFPg==\"},\"shape\":[200],\"dtype\":\"float64\",\"order\":\"little\"}]]}}},\"view\":{\"type\":\"object\",\"name\":\"CDSView\",\"id\":\"p1814\",\"attributes\":{\"filter\":{\"type\":\"object\",\"name\":\"AllIndices\",\"id\":\"p1815\"}}},\"glyph\":{\"type\":\"object\",\"name\":\"Patch\",\"id\":\"p1810\",\"attributes\":{\"tags\":[\"apply_ranges\"],\"x\":{\"type\":\"field\",\"field\":\"x\"},\"y\":{\"type\":\"field\",\"field\":\"y\"},\"fill_color\":\"#30a2da\",\"fill_alpha\":0.5,\"hatch_color\":\"#30a2da\"}},\"selection_glyph\":{\"type\":\"object\",\"name\":\"Patch\",\"id\":\"p1816\",\"attributes\":{\"tags\":[\"apply_ranges\"],\"x\":{\"type\":\"field\",\"field\":\"x\"},\"y\":{\"type\":\"field\",\"field\":\"y\"},\"fill_color\":\"#30a2da\",\"fill_alpha\":0.5,\"hatch_color\":\"#30a2da\"}},\"nonselection_glyph\":{\"type\":\"object\",\"name\":\"Patch\",\"id\":\"p1811\",\"attributes\":{\"tags\":[\"apply_ranges\"],\"x\":{\"type\":\"field\",\"field\":\"x\"},\"y\":{\"type\":\"field\",\"field\":\"y\"},\"line_alpha\":1,\"fill_color\":\"#30a2da\",\"fill_alpha\":0.5,\"hatch_color\":\"#30a2da\",\"hatch_alpha\":0.1}},\"muted_glyph\":{\"type\":\"object\",\"name\":\"Patch\",\"id\":\"p1812\",\"attributes\":{\"tags\":[\"apply_ranges\"],\"x\":{\"type\":\"field\",\"field\":\"x\"},\"y\":{\"type\":\"field\",\"field\":\"y\"},\"line_alpha\":0.2,\"fill_color\":\"#30a2da\",\"fill_alpha\":0.2,\"hatch_color\":\"#30a2da\",\"hatch_alpha\":0.2}}}}],\"toolbar\":{\"type\":\"object\",\"name\":\"Toolbar\",\"id\":\"p1782\",\"attributes\":{\"tools\":[{\"type\":\"object\",\"name\":\"WheelZoomTool\",\"id\":\"p1771\",\"attributes\":{\"tags\":[\"hv_created\"],\"renderers\":\"auto\",\"zoom_together\":\"none\"}},{\"type\":\"object\",\"name\":\"HoverTool\",\"id\":\"p1772\",\"attributes\":{\"tags\":[\"hv_created\"],\"renderers\":[{\"id\":\"p1813\"}],\"tooltips\":[[\"target\",\"@{target}\"],[\"Density\",\"@{target_density}\"]]}},{\"type\":\"object\",\"name\":\"SaveTool\",\"id\":\"p1795\"},{\"type\":\"object\",\"name\":\"PanTool\",\"id\":\"p1796\"},{\"type\":\"object\",\"name\":\"BoxZoomTool\",\"id\":\"p1797\",\"attributes\":{\"overlay\":{\"type\":\"object\",\"name\":\"BoxAnnotation\",\"id\":\"p1798\",\"attributes\":{\"syncable\":false,\"level\":\"overlay\",\"visible\":false,\"left\":{\"type\":\"number\",\"value\":\"nan\"},\"right\":{\"type\":\"number\",\"value\":\"nan\"},\"top\":{\"type\":\"number\",\"value\":\"nan\"},\"bottom\":{\"type\":\"number\",\"value\":\"nan\"},\"left_units\":\"canvas\",\"right_units\":\"canvas\",\"top_units\":\"canvas\",\"bottom_units\":\"canvas\",\"line_color\":\"black\",\"line_alpha\":1.0,\"line_width\":2,\"line_dash\":[4,4],\"fill_color\":\"lightgrey\",\"fill_alpha\":0.5}}}},{\"type\":\"object\",\"name\":\"ResetTool\",\"id\":\"p1803\"}],\"active_drag\":{\"id\":\"p1796\"},\"active_scroll\":{\"id\":\"p1771\"}}},\"left\":[{\"type\":\"object\",\"name\":\"LinearAxis\",\"id\":\"p1790\",\"attributes\":{\"ticker\":{\"type\":\"object\",\"name\":\"BasicTicker\",\"id\":\"p1791\",\"attributes\":{\"mantissas\":[1,2,5]}},\"formatter\":{\"type\":\"object\",\"name\":\"BasicTickFormatter\",\"id\":\"p1792\"},\"axis_label\":\"Density\",\"major_label_policy\":{\"type\":\"object\",\"name\":\"AllLabels\",\"id\":\"p1793\"}}}],\"below\":[{\"type\":\"object\",\"name\":\"LinearAxis\",\"id\":\"p1785\",\"attributes\":{\"ticker\":{\"type\":\"object\",\"name\":\"BasicTicker\",\"id\":\"p1786\",\"attributes\":{\"mantissas\":[1,2,5]}},\"formatter\":{\"type\":\"object\",\"name\":\"BasicTickFormatter\",\"id\":\"p1787\"},\"axis_label\":\"target\",\"major_label_policy\":{\"type\":\"object\",\"name\":\"AllLabels\",\"id\":\"p1788\"}}}],\"center\":[{\"type\":\"object\",\"name\":\"Grid\",\"id\":\"p1789\",\"attributes\":{\"axis\":{\"id\":\"p1785\"},\"grid_line_color\":null}},{\"type\":\"object\",\"name\":\"Grid\",\"id\":\"p1794\",\"attributes\":{\"dimension\":1,\"axis\":{\"id\":\"p1790\"},\"grid_line_color\":null}}],\"min_border_top\":10,\"min_border_bottom\":10,\"min_border_left\":10,\"min_border_right\":10,\"output_backend\":\"webgl\"}},{\"type\":\"object\",\"name\":\"Spacer\",\"id\":\"p1818\",\"attributes\":{\"name\":\"HSpacer02876\",\"stylesheets\":[\"\\n:host(.pn-loading):before, .pn-loading:before {\\n  background-color: #c3c3c3;\\n  mask-size: auto calc(min(50%, 400px));\\n  -webkit-mask-size: auto calc(min(50%, 400px));\\n}\",{\"id\":\"p1764\"},{\"id\":\"p1762\"},{\"id\":\"p1763\"}],\"margin\":0,\"sizing_mode\":\"stretch_width\",\"align\":\"start\"}}]}}],\"defs\":[{\"type\":\"model\",\"name\":\"ReactiveHTML1\"},{\"type\":\"model\",\"name\":\"FlexBox1\",\"properties\":[{\"name\":\"align_content\",\"kind\":\"Any\",\"default\":\"flex-start\"},{\"name\":\"align_items\",\"kind\":\"Any\",\"default\":\"flex-start\"},{\"name\":\"flex_direction\",\"kind\":\"Any\",\"default\":\"row\"},{\"name\":\"flex_wrap\",\"kind\":\"Any\",\"default\":\"wrap\"},{\"name\":\"gap\",\"kind\":\"Any\",\"default\":\"\"},{\"name\":\"justify_content\",\"kind\":\"Any\",\"default\":\"flex-start\"}]},{\"type\":\"model\",\"name\":\"FloatPanel1\",\"properties\":[{\"name\":\"config\",\"kind\":\"Any\",\"default\":{\"type\":\"map\"}},{\"name\":\"contained\",\"kind\":\"Any\",\"default\":true},{\"name\":\"position\",\"kind\":\"Any\",\"default\":\"right-top\"},{\"name\":\"offsetx\",\"kind\":\"Any\",\"default\":null},{\"name\":\"offsety\",\"kind\":\"Any\",\"default\":null},{\"name\":\"theme\",\"kind\":\"Any\",\"default\":\"primary\"},{\"name\":\"status\",\"kind\":\"Any\",\"default\":\"normalized\"}]},{\"type\":\"model\",\"name\":\"GridStack1\",\"properties\":[{\"name\":\"mode\",\"kind\":\"Any\",\"default\":\"warn\"},{\"name\":\"ncols\",\"kind\":\"Any\",\"default\":null},{\"name\":\"nrows\",\"kind\":\"Any\",\"default\":null},{\"name\":\"allow_resize\",\"kind\":\"Any\",\"default\":true},{\"name\":\"allow_drag\",\"kind\":\"Any\",\"default\":true},{\"name\":\"state\",\"kind\":\"Any\",\"default\":[]}]},{\"type\":\"model\",\"name\":\"drag1\",\"properties\":[{\"name\":\"slider_width\",\"kind\":\"Any\",\"default\":5},{\"name\":\"slider_color\",\"kind\":\"Any\",\"default\":\"black\"},{\"name\":\"value\",\"kind\":\"Any\",\"default\":50}]},{\"type\":\"model\",\"name\":\"click1\",\"properties\":[{\"name\":\"terminal_output\",\"kind\":\"Any\",\"default\":\"\"},{\"name\":\"debug_name\",\"kind\":\"Any\",\"default\":\"\"},{\"name\":\"clears\",\"kind\":\"Any\",\"default\":0}]},{\"type\":\"model\",\"name\":\"FastWrapper1\",\"properties\":[{\"name\":\"object\",\"kind\":\"Any\",\"default\":null},{\"name\":\"style\",\"kind\":\"Any\",\"default\":null}]},{\"type\":\"model\",\"name\":\"NotificationAreaBase1\",\"properties\":[{\"name\":\"js_events\",\"kind\":\"Any\",\"default\":{\"type\":\"map\"}},{\"name\":\"position\",\"kind\":\"Any\",\"default\":\"bottom-right\"},{\"name\":\"_clear\",\"kind\":\"Any\",\"default\":0}]},{\"type\":\"model\",\"name\":\"NotificationArea1\",\"properties\":[{\"name\":\"js_events\",\"kind\":\"Any\",\"default\":{\"type\":\"map\"}},{\"name\":\"notifications\",\"kind\":\"Any\",\"default\":[]},{\"name\":\"position\",\"kind\":\"Any\",\"default\":\"bottom-right\"},{\"name\":\"_clear\",\"kind\":\"Any\",\"default\":0},{\"name\":\"types\",\"kind\":\"Any\",\"default\":[{\"type\":\"map\",\"entries\":[[\"type\",\"warning\"],[\"background\",\"#ffc107\"],[\"icon\",{\"type\":\"map\",\"entries\":[[\"className\",\"fas fa-exclamation-triangle\"],[\"tagName\",\"i\"],[\"color\",\"white\"]]}]]},{\"type\":\"map\",\"entries\":[[\"type\",\"info\"],[\"background\",\"#007bff\"],[\"icon\",{\"type\":\"map\",\"entries\":[[\"className\",\"fas fa-info-circle\"],[\"tagName\",\"i\"],[\"color\",\"white\"]]}]]}]}]},{\"type\":\"model\",\"name\":\"Notification\",\"properties\":[{\"name\":\"background\",\"kind\":\"Any\",\"default\":null},{\"name\":\"duration\",\"kind\":\"Any\",\"default\":3000},{\"name\":\"icon\",\"kind\":\"Any\",\"default\":null},{\"name\":\"message\",\"kind\":\"Any\",\"default\":\"\"},{\"name\":\"notification_type\",\"kind\":\"Any\",\"default\":null},{\"name\":\"_destroyed\",\"kind\":\"Any\",\"default\":false}]},{\"type\":\"model\",\"name\":\"TemplateActions1\",\"properties\":[{\"name\":\"open_modal\",\"kind\":\"Any\",\"default\":0},{\"name\":\"close_modal\",\"kind\":\"Any\",\"default\":0}]},{\"type\":\"model\",\"name\":\"BootstrapTemplateActions1\",\"properties\":[{\"name\":\"open_modal\",\"kind\":\"Any\",\"default\":0},{\"name\":\"close_modal\",\"kind\":\"Any\",\"default\":0}]},{\"type\":\"model\",\"name\":\"TemplateEditor1\",\"properties\":[{\"name\":\"layout\",\"kind\":\"Any\",\"default\":[]}]},{\"type\":\"model\",\"name\":\"MaterialTemplateActions1\",\"properties\":[{\"name\":\"open_modal\",\"kind\":\"Any\",\"default\":0},{\"name\":\"close_modal\",\"kind\":\"Any\",\"default\":0}]},{\"type\":\"model\",\"name\":\"copy_to_clipboard1\",\"properties\":[{\"name\":\"fill\",\"kind\":\"Any\",\"default\":\"none\"},{\"name\":\"value\",\"kind\":\"Any\",\"default\":null}]}]}};\n",
       "  var render_items = [{\"docid\":\"ea869170-87e6-419b-95dd-f064c37ab982\",\"roots\":{\"p1761\":\"a25d5f9d-d81f-41c5-881e-56d382b9f8f5\"},\"root_ids\":[\"p1761\"]}];\n",
       "  var docs = Object.values(docs_json)\n",
       "  if (!docs) {\n",
       "    return\n",
       "  }\n",
       "  const py_version = docs[0].version.replace('rc', '-rc.').replace('.dev', '-dev.')\n",
       "  function embed_document(root) {\n",
       "    var Bokeh = get_bokeh(root)\n",
       "    Bokeh.embed.embed_items_notebook(docs_json, render_items);\n",
       "    for (const render_item of render_items) {\n",
       "      for (const root_id of render_item.root_ids) {\n",
       "\tconst id_el = document.getElementById(root_id)\n",
       "\tif (id_el.children.length && (id_el.children[0].className === 'bk-root')) {\n",
       "\t  const root_el = id_el.children[0]\n",
       "\t  root_el.id = root_el.id + '-rendered'\n",
       "\t}\n",
       "      }\n",
       "    }\n",
       "  }\n",
       "  function get_bokeh(root) {\n",
       "    if (root.Bokeh === undefined) {\n",
       "      return null\n",
       "    } else if (root.Bokeh.version !== py_version) {\n",
       "      if (root.Bokeh.versions === undefined || !root.Bokeh.versions.has(py_version)) {\n",
       "\treturn null\n",
       "      }\n",
       "      return root.Bokeh.versions.get(py_version);\n",
       "    } else if (root.Bokeh.version === py_version) {\n",
       "      return root.Bokeh\n",
       "    }\n",
       "    return null\n",
       "  }\n",
       "  function is_loaded(root) {\n",
       "    var Bokeh = get_bokeh(root)\n",
       "    return (Bokeh != null && Bokeh.Panel !== undefined)\n",
       "  }\n",
       "  if (is_loaded(root)) {\n",
       "    embed_document(root);\n",
       "  } else {\n",
       "    var attempts = 0;\n",
       "    var timer = setInterval(function(root) {\n",
       "      if (is_loaded(root)) {\n",
       "        clearInterval(timer);\n",
       "        embed_document(root);\n",
       "      } else if (document.readyState == \"complete\") {\n",
       "        attempts++;\n",
       "        if (attempts > 200) {\n",
       "          clearInterval(timer);\n",
       "\t  var Bokeh = get_bokeh(root)\n",
       "\t  if (Bokeh == null || Bokeh.Panel == null) {\n",
       "            console.warn(\"Panel: ERROR: Unable to run Panel code because Bokeh or Panel library is missing\");\n",
       "\t  } else {\n",
       "\t    console.warn(\"Panel: WARNING: Attempting to render but not all required libraries could be resolved.\")\n",
       "\t    embed_document(root)\n",
       "\t  }\n",
       "        }\n",
       "      }\n",
       "    }, 25, root)\n",
       "  }\n",
       "})(window);</script>"
      ],
      "text/plain": [
       ":Distribution   [target]   (Density)"
      ]
     },
     "execution_count": 141,
     "metadata": {
      "application/vnd.holoviews_exec.v0+json": {
       "id": "p1761"
      }
     },
     "output_type": "execute_result"
    }
   ],
   "source": [
    "df_with_target['target'].plot.kde()"
   ]
  },
  {
   "cell_type": "code",
   "execution_count": 142,
   "id": "6ca7d567-324a-4e97-925c-cecfd25cab5a",
   "metadata": {},
   "outputs": [
    {
     "data": {},
     "metadata": {},
     "output_type": "display_data"
    },
    {
     "data": {
      "application/vnd.holoviews_exec.v0+json": "",
      "text/html": [
       "<div id='p1824'>\n",
       "  <div id=\"fd3fddc4-c475-4f06-809f-72326a27a695\" data-root-id=\"p1824\" style=\"display: contents;\"></div>\n",
       "</div>\n",
       "<script type=\"application/javascript\">(function(root) {\n",
       "  var docs_json = {\"523858aa-af99-4fe1-9200-4efcc324640b\":{\"version\":\"3.4.1\",\"title\":\"Bokeh Application\",\"roots\":[{\"type\":\"object\",\"name\":\"Row\",\"id\":\"p1824\",\"attributes\":{\"name\":\"Row03032\",\"tags\":[\"embedded\"],\"stylesheets\":[\"\\n:host(.pn-loading):before, .pn-loading:before {\\n  background-color: #c3c3c3;\\n  mask-size: auto calc(min(50%, 400px));\\n  -webkit-mask-size: auto calc(min(50%, 400px));\\n}\",{\"type\":\"object\",\"name\":\"ImportedStyleSheet\",\"id\":\"p1827\",\"attributes\":{\"url\":\"https://cdn.holoviz.org/panel/1.4.2/dist/css/loading.css\"}},{\"type\":\"object\",\"name\":\"ImportedStyleSheet\",\"id\":\"p1883\",\"attributes\":{\"url\":\"https://cdn.holoviz.org/panel/1.4.2/dist/css/listpanel.css\"}},{\"type\":\"object\",\"name\":\"ImportedStyleSheet\",\"id\":\"p1825\",\"attributes\":{\"url\":\"https://cdn.holoviz.org/panel/1.4.2/dist/bundled/theme/default.css\"}},{\"type\":\"object\",\"name\":\"ImportedStyleSheet\",\"id\":\"p1826\",\"attributes\":{\"url\":\"https://cdn.holoviz.org/panel/1.4.2/dist/bundled/theme/native.css\"}}],\"min_width\":700,\"margin\":0,\"sizing_mode\":\"stretch_width\",\"align\":\"start\",\"children\":[{\"type\":\"object\",\"name\":\"Spacer\",\"id\":\"p1828\",\"attributes\":{\"name\":\"HSpacer03039\",\"stylesheets\":[\"\\n:host(.pn-loading):before, .pn-loading:before {\\n  background-color: #c3c3c3;\\n  mask-size: auto calc(min(50%, 400px));\\n  -webkit-mask-size: auto calc(min(50%, 400px));\\n}\",{\"id\":\"p1827\"},{\"id\":\"p1825\"},{\"id\":\"p1826\"}],\"margin\":0,\"sizing_mode\":\"stretch_width\",\"align\":\"start\"}},{\"type\":\"object\",\"name\":\"Figure\",\"id\":\"p1836\",\"attributes\":{\"width\":700,\"height\":300,\"margin\":[5,10],\"sizing_mode\":\"fixed\",\"align\":\"start\",\"x_range\":{\"type\":\"object\",\"name\":\"Range1d\",\"id\":\"p1829\",\"attributes\":{\"tags\":[[[\"target\",\"target\",null]],[]],\"start\":-0.45808943948909586,\"end\":9.901682096927775,\"reset_start\":-0.45808943948909586,\"reset_end\":9.901682096927775}},\"y_range\":{\"type\":\"object\",\"name\":\"Range1d\",\"id\":\"p1830\",\"attributes\":{\"tags\":[[[\"target_density\",\"Density\",null]],{\"type\":\"map\",\"entries\":[[\"invert_yaxis\",false],[\"autorange\",false]]}],\"end\":0.3152120768899244,\"reset_start\":0.0,\"reset_end\":0.3152120768899244}},\"x_scale\":{\"type\":\"object\",\"name\":\"LinearScale\",\"id\":\"p1846\"},\"y_scale\":{\"type\":\"object\",\"name\":\"LinearScale\",\"id\":\"p1847\"},\"title\":{\"type\":\"object\",\"name\":\"Title\",\"id\":\"p1839\",\"attributes\":{\"text_color\":\"black\",\"text_font_size\":\"12pt\"}},\"renderers\":[{\"type\":\"object\",\"name\":\"GlyphRenderer\",\"id\":\"p1876\",\"attributes\":{\"data_source\":{\"type\":\"object\",\"name\":\"ColumnDataSource\",\"id\":\"p1867\",\"attributes\":{\"selected\":{\"type\":\"object\",\"name\":\"Selection\",\"id\":\"p1868\",\"attributes\":{\"indices\":[],\"line_indices\":[]}},\"selection_policy\":{\"type\":\"object\",\"name\":\"UnionRenderers\",\"id\":\"p1869\"},\"data\":{\"type\":\"map\",\"entries\":[[\"x\",{\"type\":\"ndarray\",\"array\":{\"type\":\"bytes\",\"data\":\"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\"},\"shape\":[200],\"dtype\":\"float64\",\"order\":\"little\"}],[\"y\",{\"type\":\"ndarray\",\"array\":{\"type\":\"bytes\",\"data\":\"AAAAAAAAAAAAAAAAAAAAAAAAAAAAAAAAAAAAAAAAAAAAAAAAAAAAAAAAAAAAAAAAAAAAAAAAAAAAAAAAAAAAAAAAAAAAAAAAAAAAAAAAAAAAAAAAAAAAAAAAAAAAAAAAAAAAAAAAAAAAAAAAAAAAAAAAAAAAAAAAAAAAAAAAAAAAAAAAAAAAAAAAAAAAAAAAAAAAAAAAAAAAAAAAAAAAAAAAAAAAAAAAAAAAAAAAAAAAAAAAAAAAAAAAAAAAAAAAAAAAAAAAAAAAAAAAAAAAAAAAAAAAAAAAAAAAAAAAAAAAAAAAAAAAAAAAAAAAAAAAAAAAAAAAAAAAAAAAAAAAAAAAAAAAAAAAAAAAAAAAAAAAAAAAAAAAAAAAAAAAAAAAAAAAAAAAAAAAAAAAAAAAAAAAAAAAAAAAAAAAAAAAAAAAAAAAAAAAAAAAAAAAAAAAAAAAAAAAAAAAAAAAAAAAAAAAAAAAAAAAAAAAAAAAAAAAAAAAAAAAAAAAAAAAAAAAAAAAAAAAAAAAAAAAAAAAAAAAAAAAAAAAAAAAAAAAAAAAAAAAAAAAAAAAAAAAAAAAAAAAAAAAAAAAAAAAAAAAAAAAAAAAAAAAAAAAAAAAAAAAAAAAAAAAAAAAAAAAAAAAAAAAAAAAAAAAAAAAAAAAAAAAAAAAAAAAAAAAAAAAAAAAAAAAAAAAAAAAAAAAAAAAAAAAAAAAAAAAAAAAAAAAAAAAAAAAAAAAAAAAAAAAAAAAAAAAAAAAAAAAAAAAAAAAAAAAAAAAAAAAAAAAAAAAAAAAAAAAAAAAAAAAAAAAAAAAAAAAAAAAAAAAAAAAAAAAAAAAAAAAAAAAAAAAAAAAAAAAAAAAAAAAAAAAAAAAAAAAAAAAAAAAAAAAAAAAAAAAAAAAAAAAAAAAAAAAAAAAAAAAAAAAAAAAAAAAAAAAAAAAAAAAAAAAAAAAAAAAAAAAAAAAAAAAAAAAAAAAAAAAAAAAAAAAAAAAAAAAAAAAAAAAAAAAAAAAAAAAAAAAAAAAAAAAAAAAAAAAAAAAAAAAAAAAAAAAAAAAAAAAAAAAAAArTGwqFQrpPopEcN7K0hY/rs70HgPhOz8ozuOSzsRXPx52zAn4+G0/QbVdv9gkfj+aq9tJIWOKP6TEia5jg5U/qqEWczFmoD/fnMo4lZmmPzhbLJbnRqw/zb2VzxX3sD81ncIV90y0P9qqKfMIC7g/pRcO0uv/uz+NsSwsaSrAP30nksJwf8I/kuRFhsXOxD+dNhj9e9jGP6NNbp68bMg/Qv/EfWq9yT/nKvkTBEvLP5ICjfgbU80/5wquxeaqzz8lWY3rrfbQP6lpRbAjyNE/CwOUiWwa0j+XVBCcawrSP0Ya16iM99E///TgaUwg0j+TARhZ9VbSP4KJdm3YR9I/bh0npAjk0T9YpJhq5VvRP6/Wyv9+3dA/o2W9A2V10D9fH4cfShvQPyzkkqF+cc8/qpnIvItTzj8jz1ZuotDMP1U7arXsN8s/OoDkPerCyT8+kumXEl3IP9nE4xaI6cY//u1n1p16xT/u9iskTS3EPyy8cOYU/8I/MuI/zL7ZwT9SMqlVCLjAP1acjPfbVL8/AG/2oHpgvT+hWDasZm+7P++ycOVTe7k/NnO2cymOtz/hXMoav6+1PyaCSGye+7M/XQV85sqDsj/l6fVuXS6xP5c0xCbytK8/zExhf94RrT+AW2Ed7KOqPzzGSu5Keag/qyoC1L9qpj+ogq8zelSkP2bTSCo/R6I/111KXgt7oD9q354+MQaeP6aJwc0Fb5s/WX4XkNfumD+cjPomppWWP5cMmGTleZQ/AmXRpy+bkj8KKlV81PmQP0Z7LZCmJ48/uYE7DBv5jD/Tt6kbnpKLPzR3coMAi4o/6GmkN+1OiT81XOTdXdqHP5D72/3IRoY//pybRfx+hD//UrKRnF+CPxIsMrywoX8/Avo2mIxaez+fJ0oa+vZ3P0RqT1a39XI/Se0iYWE3bj+PVXzkVS9wP58Ow7MLj3E/+l+a1wEIaz9XMEDPSA9bPz1UGZIhNUc/3zG2WeJUUD+Nl/nsbRNkPwqMMbZ67XA/EnyhU/jscT+wL+pvwL1nP+CVwFjLqFM/Y/5vETtbND8ZbbQyZVsKPw==\"},\"shape\":[200],\"dtype\":\"float64\",\"order\":\"little\"}]]}}},\"view\":{\"type\":\"object\",\"name\":\"CDSView\",\"id\":\"p1877\",\"attributes\":{\"filter\":{\"type\":\"object\",\"name\":\"AllIndices\",\"id\":\"p1878\"}}},\"glyph\":{\"type\":\"object\",\"name\":\"Patch\",\"id\":\"p1873\",\"attributes\":{\"tags\":[\"apply_ranges\"],\"x\":{\"type\":\"field\",\"field\":\"x\"},\"y\":{\"type\":\"field\",\"field\":\"y\"},\"fill_color\":\"#30a2da\",\"fill_alpha\":0.5,\"hatch_color\":\"#30a2da\"}},\"selection_glyph\":{\"type\":\"object\",\"name\":\"Patch\",\"id\":\"p1879\",\"attributes\":{\"tags\":[\"apply_ranges\"],\"x\":{\"type\":\"field\",\"field\":\"x\"},\"y\":{\"type\":\"field\",\"field\":\"y\"},\"fill_color\":\"#30a2da\",\"fill_alpha\":0.5,\"hatch_color\":\"#30a2da\"}},\"nonselection_glyph\":{\"type\":\"object\",\"name\":\"Patch\",\"id\":\"p1874\",\"attributes\":{\"tags\":[\"apply_ranges\"],\"x\":{\"type\":\"field\",\"field\":\"x\"},\"y\":{\"type\":\"field\",\"field\":\"y\"},\"line_alpha\":1,\"fill_color\":\"#30a2da\",\"fill_alpha\":0.5,\"hatch_color\":\"#30a2da\",\"hatch_alpha\":0.1}},\"muted_glyph\":{\"type\":\"object\",\"name\":\"Patch\",\"id\":\"p1875\",\"attributes\":{\"tags\":[\"apply_ranges\"],\"x\":{\"type\":\"field\",\"field\":\"x\"},\"y\":{\"type\":\"field\",\"field\":\"y\"},\"line_alpha\":0.2,\"fill_color\":\"#30a2da\",\"fill_alpha\":0.2,\"hatch_color\":\"#30a2da\",\"hatch_alpha\":0.2}}}}],\"toolbar\":{\"type\":\"object\",\"name\":\"Toolbar\",\"id\":\"p1845\",\"attributes\":{\"tools\":[{\"type\":\"object\",\"name\":\"WheelZoomTool\",\"id\":\"p1834\",\"attributes\":{\"tags\":[\"hv_created\"],\"renderers\":\"auto\",\"zoom_together\":\"none\"}},{\"type\":\"object\",\"name\":\"HoverTool\",\"id\":\"p1835\",\"attributes\":{\"tags\":[\"hv_created\"],\"renderers\":[{\"id\":\"p1876\"}],\"tooltips\":[[\"target\",\"@{target}\"],[\"Density\",\"@{target_density}\"]]}},{\"type\":\"object\",\"name\":\"SaveTool\",\"id\":\"p1858\"},{\"type\":\"object\",\"name\":\"PanTool\",\"id\":\"p1859\"},{\"type\":\"object\",\"name\":\"BoxZoomTool\",\"id\":\"p1860\",\"attributes\":{\"overlay\":{\"type\":\"object\",\"name\":\"BoxAnnotation\",\"id\":\"p1861\",\"attributes\":{\"syncable\":false,\"level\":\"overlay\",\"visible\":false,\"left\":{\"type\":\"number\",\"value\":\"nan\"},\"right\":{\"type\":\"number\",\"value\":\"nan\"},\"top\":{\"type\":\"number\",\"value\":\"nan\"},\"bottom\":{\"type\":\"number\",\"value\":\"nan\"},\"left_units\":\"canvas\",\"right_units\":\"canvas\",\"top_units\":\"canvas\",\"bottom_units\":\"canvas\",\"line_color\":\"black\",\"line_alpha\":1.0,\"line_width\":2,\"line_dash\":[4,4],\"fill_color\":\"lightgrey\",\"fill_alpha\":0.5}}}},{\"type\":\"object\",\"name\":\"ResetTool\",\"id\":\"p1866\"}],\"active_drag\":{\"id\":\"p1859\"},\"active_scroll\":{\"id\":\"p1834\"}}},\"left\":[{\"type\":\"object\",\"name\":\"LinearAxis\",\"id\":\"p1853\",\"attributes\":{\"ticker\":{\"type\":\"object\",\"name\":\"BasicTicker\",\"id\":\"p1854\",\"attributes\":{\"mantissas\":[1,2,5]}},\"formatter\":{\"type\":\"object\",\"name\":\"BasicTickFormatter\",\"id\":\"p1855\"},\"axis_label\":\"Density\",\"major_label_policy\":{\"type\":\"object\",\"name\":\"AllLabels\",\"id\":\"p1856\"}}}],\"below\":[{\"type\":\"object\",\"name\":\"LinearAxis\",\"id\":\"p1848\",\"attributes\":{\"ticker\":{\"type\":\"object\",\"name\":\"BasicTicker\",\"id\":\"p1849\",\"attributes\":{\"mantissas\":[1,2,5]}},\"formatter\":{\"type\":\"object\",\"name\":\"BasicTickFormatter\",\"id\":\"p1850\"},\"axis_label\":\"target\",\"major_label_policy\":{\"type\":\"object\",\"name\":\"AllLabels\",\"id\":\"p1851\"}}}],\"center\":[{\"type\":\"object\",\"name\":\"Grid\",\"id\":\"p1852\",\"attributes\":{\"axis\":{\"id\":\"p1848\"},\"grid_line_color\":null}},{\"type\":\"object\",\"name\":\"Grid\",\"id\":\"p1857\",\"attributes\":{\"dimension\":1,\"axis\":{\"id\":\"p1853\"},\"grid_line_color\":null}}],\"min_border_top\":10,\"min_border_bottom\":10,\"min_border_left\":10,\"min_border_right\":10,\"output_backend\":\"webgl\"}},{\"type\":\"object\",\"name\":\"Spacer\",\"id\":\"p1881\",\"attributes\":{\"name\":\"HSpacer03040\",\"stylesheets\":[\"\\n:host(.pn-loading):before, .pn-loading:before {\\n  background-color: #c3c3c3;\\n  mask-size: auto calc(min(50%, 400px));\\n  -webkit-mask-size: auto calc(min(50%, 400px));\\n}\",{\"id\":\"p1827\"},{\"id\":\"p1825\"},{\"id\":\"p1826\"}],\"margin\":0,\"sizing_mode\":\"stretch_width\",\"align\":\"start\"}}]}}],\"defs\":[{\"type\":\"model\",\"name\":\"ReactiveHTML1\"},{\"type\":\"model\",\"name\":\"FlexBox1\",\"properties\":[{\"name\":\"align_content\",\"kind\":\"Any\",\"default\":\"flex-start\"},{\"name\":\"align_items\",\"kind\":\"Any\",\"default\":\"flex-start\"},{\"name\":\"flex_direction\",\"kind\":\"Any\",\"default\":\"row\"},{\"name\":\"flex_wrap\",\"kind\":\"Any\",\"default\":\"wrap\"},{\"name\":\"gap\",\"kind\":\"Any\",\"default\":\"\"},{\"name\":\"justify_content\",\"kind\":\"Any\",\"default\":\"flex-start\"}]},{\"type\":\"model\",\"name\":\"FloatPanel1\",\"properties\":[{\"name\":\"config\",\"kind\":\"Any\",\"default\":{\"type\":\"map\"}},{\"name\":\"contained\",\"kind\":\"Any\",\"default\":true},{\"name\":\"position\",\"kind\":\"Any\",\"default\":\"right-top\"},{\"name\":\"offsetx\",\"kind\":\"Any\",\"default\":null},{\"name\":\"offsety\",\"kind\":\"Any\",\"default\":null},{\"name\":\"theme\",\"kind\":\"Any\",\"default\":\"primary\"},{\"name\":\"status\",\"kind\":\"Any\",\"default\":\"normalized\"}]},{\"type\":\"model\",\"name\":\"GridStack1\",\"properties\":[{\"name\":\"mode\",\"kind\":\"Any\",\"default\":\"warn\"},{\"name\":\"ncols\",\"kind\":\"Any\",\"default\":null},{\"name\":\"nrows\",\"kind\":\"Any\",\"default\":null},{\"name\":\"allow_resize\",\"kind\":\"Any\",\"default\":true},{\"name\":\"allow_drag\",\"kind\":\"Any\",\"default\":true},{\"name\":\"state\",\"kind\":\"Any\",\"default\":[]}]},{\"type\":\"model\",\"name\":\"drag1\",\"properties\":[{\"name\":\"slider_width\",\"kind\":\"Any\",\"default\":5},{\"name\":\"slider_color\",\"kind\":\"Any\",\"default\":\"black\"},{\"name\":\"value\",\"kind\":\"Any\",\"default\":50}]},{\"type\":\"model\",\"name\":\"click1\",\"properties\":[{\"name\":\"terminal_output\",\"kind\":\"Any\",\"default\":\"\"},{\"name\":\"debug_name\",\"kind\":\"Any\",\"default\":\"\"},{\"name\":\"clears\",\"kind\":\"Any\",\"default\":0}]},{\"type\":\"model\",\"name\":\"FastWrapper1\",\"properties\":[{\"name\":\"object\",\"kind\":\"Any\",\"default\":null},{\"name\":\"style\",\"kind\":\"Any\",\"default\":null}]},{\"type\":\"model\",\"name\":\"NotificationAreaBase1\",\"properties\":[{\"name\":\"js_events\",\"kind\":\"Any\",\"default\":{\"type\":\"map\"}},{\"name\":\"position\",\"kind\":\"Any\",\"default\":\"bottom-right\"},{\"name\":\"_clear\",\"kind\":\"Any\",\"default\":0}]},{\"type\":\"model\",\"name\":\"NotificationArea1\",\"properties\":[{\"name\":\"js_events\",\"kind\":\"Any\",\"default\":{\"type\":\"map\"}},{\"name\":\"notifications\",\"kind\":\"Any\",\"default\":[]},{\"name\":\"position\",\"kind\":\"Any\",\"default\":\"bottom-right\"},{\"name\":\"_clear\",\"kind\":\"Any\",\"default\":0},{\"name\":\"types\",\"kind\":\"Any\",\"default\":[{\"type\":\"map\",\"entries\":[[\"type\",\"warning\"],[\"background\",\"#ffc107\"],[\"icon\",{\"type\":\"map\",\"entries\":[[\"className\",\"fas fa-exclamation-triangle\"],[\"tagName\",\"i\"],[\"color\",\"white\"]]}]]},{\"type\":\"map\",\"entries\":[[\"type\",\"info\"],[\"background\",\"#007bff\"],[\"icon\",{\"type\":\"map\",\"entries\":[[\"className\",\"fas fa-info-circle\"],[\"tagName\",\"i\"],[\"color\",\"white\"]]}]]}]}]},{\"type\":\"model\",\"name\":\"Notification\",\"properties\":[{\"name\":\"background\",\"kind\":\"Any\",\"default\":null},{\"name\":\"duration\",\"kind\":\"Any\",\"default\":3000},{\"name\":\"icon\",\"kind\":\"Any\",\"default\":null},{\"name\":\"message\",\"kind\":\"Any\",\"default\":\"\"},{\"name\":\"notification_type\",\"kind\":\"Any\",\"default\":null},{\"name\":\"_destroyed\",\"kind\":\"Any\",\"default\":false}]},{\"type\":\"model\",\"name\":\"TemplateActions1\",\"properties\":[{\"name\":\"open_modal\",\"kind\":\"Any\",\"default\":0},{\"name\":\"close_modal\",\"kind\":\"Any\",\"default\":0}]},{\"type\":\"model\",\"name\":\"BootstrapTemplateActions1\",\"properties\":[{\"name\":\"open_modal\",\"kind\":\"Any\",\"default\":0},{\"name\":\"close_modal\",\"kind\":\"Any\",\"default\":0}]},{\"type\":\"model\",\"name\":\"TemplateEditor1\",\"properties\":[{\"name\":\"layout\",\"kind\":\"Any\",\"default\":[]}]},{\"type\":\"model\",\"name\":\"MaterialTemplateActions1\",\"properties\":[{\"name\":\"open_modal\",\"kind\":\"Any\",\"default\":0},{\"name\":\"close_modal\",\"kind\":\"Any\",\"default\":0}]},{\"type\":\"model\",\"name\":\"copy_to_clipboard1\",\"properties\":[{\"name\":\"fill\",\"kind\":\"Any\",\"default\":\"none\"},{\"name\":\"value\",\"kind\":\"Any\",\"default\":null}]}]}};\n",
       "  var render_items = [{\"docid\":\"523858aa-af99-4fe1-9200-4efcc324640b\",\"roots\":{\"p1824\":\"fd3fddc4-c475-4f06-809f-72326a27a695\"},\"root_ids\":[\"p1824\"]}];\n",
       "  var docs = Object.values(docs_json)\n",
       "  if (!docs) {\n",
       "    return\n",
       "  }\n",
       "  const py_version = docs[0].version.replace('rc', '-rc.').replace('.dev', '-dev.')\n",
       "  function embed_document(root) {\n",
       "    var Bokeh = get_bokeh(root)\n",
       "    Bokeh.embed.embed_items_notebook(docs_json, render_items);\n",
       "    for (const render_item of render_items) {\n",
       "      for (const root_id of render_item.root_ids) {\n",
       "\tconst id_el = document.getElementById(root_id)\n",
       "\tif (id_el.children.length && (id_el.children[0].className === 'bk-root')) {\n",
       "\t  const root_el = id_el.children[0]\n",
       "\t  root_el.id = root_el.id + '-rendered'\n",
       "\t}\n",
       "      }\n",
       "    }\n",
       "  }\n",
       "  function get_bokeh(root) {\n",
       "    if (root.Bokeh === undefined) {\n",
       "      return null\n",
       "    } else if (root.Bokeh.version !== py_version) {\n",
       "      if (root.Bokeh.versions === undefined || !root.Bokeh.versions.has(py_version)) {\n",
       "\treturn null\n",
       "      }\n",
       "      return root.Bokeh.versions.get(py_version);\n",
       "    } else if (root.Bokeh.version === py_version) {\n",
       "      return root.Bokeh\n",
       "    }\n",
       "    return null\n",
       "  }\n",
       "  function is_loaded(root) {\n",
       "    var Bokeh = get_bokeh(root)\n",
       "    return (Bokeh != null && Bokeh.Panel !== undefined)\n",
       "  }\n",
       "  if (is_loaded(root)) {\n",
       "    embed_document(root);\n",
       "  } else {\n",
       "    var attempts = 0;\n",
       "    var timer = setInterval(function(root) {\n",
       "      if (is_loaded(root)) {\n",
       "        clearInterval(timer);\n",
       "        embed_document(root);\n",
       "      } else if (document.readyState == \"complete\") {\n",
       "        attempts++;\n",
       "        if (attempts > 200) {\n",
       "          clearInterval(timer);\n",
       "\t  var Bokeh = get_bokeh(root)\n",
       "\t  if (Bokeh == null || Bokeh.Panel == null) {\n",
       "            console.warn(\"Panel: ERROR: Unable to run Panel code because Bokeh or Panel library is missing\");\n",
       "\t  } else {\n",
       "\t    console.warn(\"Panel: WARNING: Attempting to render but not all required libraries could be resolved.\")\n",
       "\t    embed_document(root)\n",
       "\t  }\n",
       "        }\n",
       "      }\n",
       "    }, 25, root)\n",
       "  }\n",
       "})(window);</script>"
      ],
      "text/plain": [
       ":Distribution   [target]   (Density)"
      ]
     },
     "execution_count": 142,
     "metadata": {
      "application/vnd.holoviews_exec.v0+json": {
       "id": "p1824"
      }
     },
     "output_type": "execute_result"
    }
   ],
   "source": [
    "df_with_target['target'].log().plot.kde()"
   ]
  },
  {
   "cell_type": "code",
   "execution_count": 143,
   "id": "b1989b73-874c-4178-80e6-4295959ed34c",
   "metadata": {},
   "outputs": [
    {
     "data": {
      "text/html": [
       "<div><style>\n",
       ".dataframe > thead > tr,\n",
       ".dataframe > tbody > tr {\n",
       "  text-align: right;\n",
       "  white-space: pre-wrap;\n",
       "}\n",
       "</style>\n",
       "<small>shape: (2, 2)</small><table border=\"1\" class=\"dataframe\"><thead><tr><th>disengage</th><th>count</th></tr><tr><td>bool</td><td>u32</td></tr></thead><tbody><tr><td>false</td><td>67819</td></tr><tr><td>true</td><td>32180</td></tr></tbody></table></div>"
      ],
      "text/plain": [
       "shape: (2, 2)\n",
       "┌───────────┬───────┐\n",
       "│ disengage ┆ count │\n",
       "│ ---       ┆ ---   │\n",
       "│ bool      ┆ u32   │\n",
       "╞═══════════╪═══════╡\n",
       "│ false     ┆ 67819 │\n",
       "│ true      ┆ 32180 │\n",
       "└───────────┴───────┘"
      ]
     },
     "execution_count": 143,
     "metadata": {},
     "output_type": "execute_result"
    }
   ],
   "source": [
    "y = (df_with_target['target'] < 5 * 60).alias('disengage')\n",
    "y.value_counts() # note used here '<' rather than '<='. important?"
   ]
  },
  {
   "cell_type": "markdown",
   "id": "cf0dca1f-9a06-441b-92f5-38711e7e1e65",
   "metadata": {},
   "source": [
    "### For the sake of train/test split, I've decided to group by users, after all if the same user is used in both, we can potentially leak information."
   ]
  },
  {
   "cell_type": "code",
   "execution_count": 144,
   "id": "8edfaea0-5788-4b81-a5a7-0560a78949ca",
   "metadata": {},
   "outputs": [],
   "source": [
    "groups = df_with_sessions['user']"
   ]
  },
  {
   "cell_type": "code",
   "execution_count": 145,
   "id": "4941d84a-bfa8-4cb8-a860-df2c264a631b",
   "metadata": {},
   "outputs": [],
   "source": [
    "# ### The requested .75/.25 split here is based on users. We may end with a differnt ratio with respect to the hits (or also with respect to sessions). "
   ]
  },
  {
   "cell_type": "code",
   "execution_count": 146,
   "id": "a37e1bc2-9637-4bff-9f48-8246a8d44ec6",
   "metadata": {},
   "outputs": [],
   "source": [
    "# gss = GroupShuffleSplit(n_splits=2, train_size=.75, random_state=1)"
   ]
  },
  {
   "cell_type": "code",
   "execution_count": 147,
   "id": "846da7ca-e91d-4922-91a1-67f0403c9ce7",
   "metadata": {},
   "outputs": [],
   "source": [
    "# for i, (train_index, test_index) in enumerate(gss.split(df_with_sessions, groups=groups)):\n",
    "#     print(f\"Fold {i}:\")\n",
    "#     print(f\"  Train: index={len(train_index)}, group={len(np.unique(groups[train_index]))}\")\n",
    "#     print(f\"  Test:  index={len(test_index)}, group={len(np.unique(groups[test_index]))}\")"
   ]
  },
  {
   "cell_type": "code",
   "execution_count": 148,
   "id": "7dc21f6f-4b8a-4a74-8358-b3fd3284ca09",
   "metadata": {},
   "outputs": [],
   "source": [
    "sgkf = StratifiedGroupKFold(n_splits=4)"
   ]
  },
  {
   "cell_type": "code",
   "execution_count": 149,
   "id": "5beb0c5a-4a57-4a13-8f9f-9bc4a8422a17",
   "metadata": {},
   "outputs": [
    {
     "name": "stdout",
     "output_type": "stream",
     "text": [
      "Fold 0:\n",
      "  Train: index=74976\n",
      "         group=703\n",
      "  Test:  index=25023\n",
      "         group=240\n",
      "Fold 1:\n",
      "  Train: index=75013\n",
      "         group=691\n",
      "  Test:  index=24986\n",
      "         group=252\n",
      "Fold 2:\n",
      "  Train: index=75013\n",
      "         group=726\n",
      "  Test:  index=24986\n",
      "         group=217\n",
      "Fold 3:\n",
      "  Train: index=74995\n",
      "         group=709\n",
      "  Test:  index=25004\n",
      "         group=234\n"
     ]
    }
   ],
   "source": [
    "for i, (train_index, test_index) in enumerate(sgkf.split(df_with_target, y, groups)):\n",
    "     print(f\"Fold {i}:\")\n",
    "     print(f\"  Train: index={len(train_index)}\")\n",
    "     print(f\"         group={len(np.unique(groups[train_index]))}\")\n",
    "     print(f\"  Test:  index={len(test_index)}\")\n",
    "     print(f\"         group={len(np.unique(groups[test_index]))}\")"
   ]
  },
  {
   "cell_type": "code",
   "execution_count": 150,
   "id": "8de22422-a96f-427b-bc18-bfe55e9a463f",
   "metadata": {},
   "outputs": [],
   "source": [
    "df_with_target = (\n",
    "    df_with_target\n",
    "    .with_columns(pl.repeat(-1, df_with_target.shape[0]).alias('fold'))\n",
    ")"
   ]
  },
  {
   "cell_type": "code",
   "execution_count": 151,
   "id": "125f360b-63e1-4bfd-b82a-bb47d7852fef",
   "metadata": {},
   "outputs": [],
   "source": [
    "for i, (train_index, test_index) in enumerate(sgkf.split(df_with_target, y, groups)):\n",
    "    df_with_target[test_index, 'fold'] = i"
   ]
  },
  {
   "cell_type": "code",
   "execution_count": 152,
   "id": "d0bb1c8e-4589-454a-9596-ac82dd915ff7",
   "metadata": {},
   "outputs": [
    {
     "data": {
      "text/html": [
       "<div><style>\n",
       ".dataframe > thead > tr,\n",
       ".dataframe > tbody > tr {\n",
       "  text-align: right;\n",
       "  white-space: pre-wrap;\n",
       "}\n",
       "</style>\n",
       "<small>shape: (4, 2)</small><table border=\"1\" class=\"dataframe\"><thead><tr><th>fold</th><th>count</th></tr><tr><td>i32</td><td>u32</td></tr></thead><tbody><tr><td>0</td><td>25023</td></tr><tr><td>1</td><td>24986</td></tr><tr><td>3</td><td>25004</td></tr><tr><td>2</td><td>24986</td></tr></tbody></table></div>"
      ],
      "text/plain": [
       "shape: (4, 2)\n",
       "┌──────┬───────┐\n",
       "│ fold ┆ count │\n",
       "│ ---  ┆ ---   │\n",
       "│ i32  ┆ u32   │\n",
       "╞══════╪═══════╡\n",
       "│ 0    ┆ 25023 │\n",
       "│ 1    ┆ 24986 │\n",
       "│ 3    ┆ 25004 │\n",
       "│ 2    ┆ 24986 │\n",
       "└──────┴───────┘"
      ]
     },
     "execution_count": 152,
     "metadata": {},
     "output_type": "execute_result"
    }
   ],
   "source": [
    "df_with_target['fold'].value_counts()"
   ]
  },
  {
   "cell_type": "code",
   "execution_count": 153,
   "id": "86737748-d826-4387-81de-da5717b7adc2",
   "metadata": {},
   "outputs": [],
   "source": [
    "from sklearn.dummy import DummyClassifier\n",
    "from sklearn.metrics import accuracy_score"
   ]
  },
  {
   "cell_type": "code",
   "execution_count": 154,
   "id": "9d378e85-2aa7-428c-a711-1904e252870d",
   "metadata": {},
   "outputs": [],
   "source": [
    "train_index = df_with_target['fold'] != 0\n",
    "test_index = df_with_target['fold'] == 0"
   ]
  },
  {
   "cell_type": "markdown",
   "id": "427f8939-2c8e-43e9-814d-d2262e68d416",
   "metadata": {},
   "source": [
    "### Dummy baseline"
   ]
  },
  {
   "cell_type": "code",
   "execution_count": 155,
   "id": "99c51c3f-bd8b-4406-ae18-cddfe2bca28f",
   "metadata": {},
   "outputs": [],
   "source": [
    "dummy_model = DummyClassifier()\n",
    "dummy_model.fit(df_with_target.filter(train_index).select(['fold', 'user']), y.filter(train_index))\n",
    "predictions = dummy_model.predict(df_with_target.filter(test_index).select(['fold', 'user']))"
   ]
  },
  {
   "cell_type": "code",
   "execution_count": 156,
   "id": "cc93bf7b-bf5d-4372-88e2-c07ce98b2a80",
   "metadata": {},
   "outputs": [
    {
     "data": {
      "text/plain": [
       "0.6780961515405827"
      ]
     },
     "execution_count": 156,
     "metadata": {},
     "output_type": "execute_result"
    }
   ],
   "source": [
    "accuracy_score(y.filter(test_index), predictions)"
   ]
  },
  {
   "cell_type": "code",
   "execution_count": 157,
   "id": "413a18ab-ccea-44bd-a8b9-1b77b901928b",
   "metadata": {},
   "outputs": [
    {
     "data": {
      "text/html": [
       "<div><style>\n",
       ".dataframe > thead > tr,\n",
       ".dataframe > tbody > tr {\n",
       "  text-align: right;\n",
       "  white-space: pre-wrap;\n",
       "}\n",
       "</style>\n",
       "<small>shape: (5, 9)</small><table border=\"1\" class=\"dataframe\"><thead><tr><th>user_id</th><th>timestamp</th><th>ts_diff</th><th>user_diff</th><th>new_session_mark</th><th>session</th><th>user</th><th>target</th><th>fold</th></tr><tr><td>str</td><td>datetime[μs]</td><td>bool</td><td>bool</td><td>bool</td><td>u32</td><td>u32</td><td>i64</td><td>i32</td></tr></thead><tbody><tr><td>&quot;4d5835cc2a82e278e6000028&quot;</td><td>2015-01-05 03:04:02</td><td>true</td><td>true</td><td>true</td><td>1</td><td>1</td><td>2898</td><td>2</td></tr><tr><td>&quot;4d5835cc2a82e278e6000028&quot;</td><td>2015-01-05 03:04:53</td><td>false</td><td>false</td><td>false</td><td>1</td><td>1</td><td>2847</td><td>2</td></tr><tr><td>&quot;4d5835cc2a82e278e6000028&quot;</td><td>2015-01-05 03:05:45</td><td>false</td><td>false</td><td>false</td><td>1</td><td>1</td><td>2795</td><td>2</td></tr><tr><td>&quot;4d5835cc2a82e278e6000028&quot;</td><td>2015-01-05 03:06:10</td><td>false</td><td>false</td><td>false</td><td>1</td><td>1</td><td>2770</td><td>2</td></tr><tr><td>&quot;4d5835cc2a82e278e6000028&quot;</td><td>2015-01-05 03:06:25</td><td>false</td><td>false</td><td>false</td><td>1</td><td>1</td><td>2755</td><td>2</td></tr></tbody></table></div>"
      ],
      "text/plain": [
       "shape: (5, 9)\n",
       "┌────────────────────────┬──────────────┬─────────┬───────────┬───┬─────────┬──────┬────────┬──────┐\n",
       "│ user_id                ┆ timestamp    ┆ ts_diff ┆ user_diff ┆ … ┆ session ┆ user ┆ target ┆ fold │\n",
       "│ ---                    ┆ ---          ┆ ---     ┆ ---       ┆   ┆ ---     ┆ ---  ┆ ---    ┆ ---  │\n",
       "│ str                    ┆ datetime[μs] ┆ bool    ┆ bool      ┆   ┆ u32     ┆ u32  ┆ i64    ┆ i32  │\n",
       "╞════════════════════════╪══════════════╪═════════╪═══════════╪═══╪═════════╪══════╪════════╪══════╡\n",
       "│ 4d5835cc2a82e278e60000 ┆ 2015-01-05   ┆ true    ┆ true      ┆ … ┆ 1       ┆ 1    ┆ 2898   ┆ 2    │\n",
       "│ 28                     ┆ 03:04:02     ┆         ┆           ┆   ┆         ┆      ┆        ┆      │\n",
       "│ 4d5835cc2a82e278e60000 ┆ 2015-01-05   ┆ false   ┆ false     ┆ … ┆ 1       ┆ 1    ┆ 2847   ┆ 2    │\n",
       "│ 28                     ┆ 03:04:53     ┆         ┆           ┆   ┆         ┆      ┆        ┆      │\n",
       "│ 4d5835cc2a82e278e60000 ┆ 2015-01-05   ┆ false   ┆ false     ┆ … ┆ 1       ┆ 1    ┆ 2795   ┆ 2    │\n",
       "│ 28                     ┆ 03:05:45     ┆         ┆           ┆   ┆         ┆      ┆        ┆      │\n",
       "│ 4d5835cc2a82e278e60000 ┆ 2015-01-05   ┆ false   ┆ false     ┆ … ┆ 1       ┆ 1    ┆ 2770   ┆ 2    │\n",
       "│ 28                     ┆ 03:06:10     ┆         ┆           ┆   ┆         ┆      ┆        ┆      │\n",
       "│ 4d5835cc2a82e278e60000 ┆ 2015-01-05   ┆ false   ┆ false     ┆ … ┆ 1       ┆ 1    ┆ 2755   ┆ 2    │\n",
       "│ 28                     ┆ 03:06:25     ┆         ┆           ┆   ┆         ┆      ┆        ┆      │\n",
       "└────────────────────────┴──────────────┴─────────┴───────────┴───┴─────────┴──────┴────────┴──────┘"
      ]
     },
     "execution_count": 157,
     "metadata": {},
     "output_type": "execute_result"
    }
   ],
   "source": [
    "df_with_target.head()"
   ]
  },
  {
   "cell_type": "code",
   "execution_count": 324,
   "id": "93bac848-d246-4e3a-bcd3-accdf0f45817",
   "metadata": {},
   "outputs": [],
   "source": [
    "df_with_features = (\n",
    "    df_with_target\n",
    "    .with_columns((pl.col('timestamp') - pl.col('timestamp').dt.date()).dt.total_minutes().alias('time_in_min'))\n",
    "    .with_columns((pl.col('timestamp').dt.date()).dt.weekday().alias('weekday'))\n",
    "    .sort(['user_id','timestamp']).with_columns(rn_log = pl.col(\"timestamp\").cum_count().over(\"session\").log())\n",
    "    .with_columns(diff_from_prev = pl.col('timestamp').diff().dt.total_seconds().fill_null(0))\n",
    "    .with_columns(diff_from_prev=pl.when(pl.col(\"new_session_mark\"))\n",
    "                    .then(0)\n",
    "                    .otherwise(pl.col(\"diff_from_prev\"))\n",
    "                 )\n",
    "    # .head()\n",
    ")"
   ]
  },
  {
   "cell_type": "code",
   "execution_count": 325,
   "id": "42295d49-d125-46aa-b1b5-09b12f46a4ef",
   "metadata": {},
   "outputs": [
    {
     "data": {
      "text/html": [
       "<div><style>\n",
       ".dataframe > thead > tr,\n",
       ".dataframe > tbody > tr {\n",
       "  text-align: right;\n",
       "  white-space: pre-wrap;\n",
       "}\n",
       "</style>\n",
       "<small>shape: (20, 13)</small><table border=\"1\" class=\"dataframe\"><thead><tr><th>user_id</th><th>timestamp</th><th>ts_diff</th><th>user_diff</th><th>new_session_mark</th><th>session</th><th>user</th><th>target</th><th>fold</th><th>time_in_min</th><th>weekday</th><th>rn_log</th><th>diff_from_prev</th></tr><tr><td>str</td><td>datetime[μs]</td><td>bool</td><td>bool</td><td>bool</td><td>u32</td><td>u32</td><td>i64</td><td>i32</td><td>i64</td><td>i8</td><td>f64</td><td>i64</td></tr></thead><tbody><tr><td>&quot;4d5835cc2a82e278e6000028&quot;</td><td>2015-01-05 03:04:02</td><td>true</td><td>true</td><td>true</td><td>1</td><td>1</td><td>2898</td><td>2</td><td>184</td><td>1</td><td>0.0</td><td>0</td></tr><tr><td>&quot;4d5835cc2a82e278e6000028&quot;</td><td>2015-01-05 03:04:53</td><td>false</td><td>false</td><td>false</td><td>1</td><td>1</td><td>2847</td><td>2</td><td>184</td><td>1</td><td>0.693147</td><td>51</td></tr><tr><td>&quot;4d5835cc2a82e278e6000028&quot;</td><td>2015-01-05 03:05:45</td><td>false</td><td>false</td><td>false</td><td>1</td><td>1</td><td>2795</td><td>2</td><td>185</td><td>1</td><td>1.098612</td><td>52</td></tr><tr><td>&quot;4d5835cc2a82e278e6000028&quot;</td><td>2015-01-05 03:06:10</td><td>false</td><td>false</td><td>false</td><td>1</td><td>1</td><td>2770</td><td>2</td><td>186</td><td>1</td><td>1.386294</td><td>25</td></tr><tr><td>&quot;4d5835cc2a82e278e6000028&quot;</td><td>2015-01-05 03:06:25</td><td>false</td><td>false</td><td>false</td><td>1</td><td>1</td><td>2755</td><td>2</td><td>186</td><td>1</td><td>1.609438</td><td>15</td></tr><tr><td>&hellip;</td><td>&hellip;</td><td>&hellip;</td><td>&hellip;</td><td>&hellip;</td><td>&hellip;</td><td>&hellip;</td><td>&hellip;</td><td>&hellip;</td><td>&hellip;</td><td>&hellip;</td><td>&hellip;</td><td>&hellip;</td></tr><tr><td>&quot;4d5835cc2a82e278e6000028&quot;</td><td>2015-01-05 03:17:01</td><td>false</td><td>false</td><td>false</td><td>1</td><td>1</td><td>2119</td><td>2</td><td>197</td><td>1</td><td>2.772589</td><td>49</td></tr><tr><td>&quot;4d5835cc2a82e278e6000028&quot;</td><td>2015-01-05 03:17:24</td><td>false</td><td>false</td><td>false</td><td>1</td><td>1</td><td>2096</td><td>2</td><td>197</td><td>1</td><td>2.833213</td><td>23</td></tr><tr><td>&quot;4d5835cc2a82e278e6000028&quot;</td><td>2015-01-05 03:17:54</td><td>false</td><td>false</td><td>false</td><td>1</td><td>1</td><td>2066</td><td>2</td><td>197</td><td>1</td><td>2.890372</td><td>30</td></tr><tr><td>&quot;4d5835cc2a82e278e6000028&quot;</td><td>2015-01-05 03:17:59</td><td>false</td><td>false</td><td>false</td><td>1</td><td>1</td><td>2061</td><td>2</td><td>197</td><td>1</td><td>2.944439</td><td>5</td></tr><tr><td>&quot;4d5835cc2a82e278e6000028&quot;</td><td>2015-01-05 03:19:06</td><td>false</td><td>false</td><td>false</td><td>1</td><td>1</td><td>1994</td><td>2</td><td>199</td><td>1</td><td>2.995732</td><td>67</td></tr></tbody></table></div>"
      ],
      "text/plain": [
       "shape: (20, 13)\n",
       "┌────────────┬────────────┬─────────┬───────────┬───┬────────────┬─────────┬──────────┬────────────┐\n",
       "│ user_id    ┆ timestamp  ┆ ts_diff ┆ user_diff ┆ … ┆ time_in_mi ┆ weekday ┆ rn_log   ┆ diff_from_ │\n",
       "│ ---        ┆ ---        ┆ ---     ┆ ---       ┆   ┆ n          ┆ ---     ┆ ---      ┆ prev       │\n",
       "│ str        ┆ datetime[μ ┆ bool    ┆ bool      ┆   ┆ ---        ┆ i8      ┆ f64      ┆ ---        │\n",
       "│            ┆ s]         ┆         ┆           ┆   ┆ i64        ┆         ┆          ┆ i64        │\n",
       "╞════════════╪════════════╪═════════╪═══════════╪═══╪════════════╪═════════╪══════════╪════════════╡\n",
       "│ 4d5835cc2a ┆ 2015-01-05 ┆ true    ┆ true      ┆ … ┆ 184        ┆ 1       ┆ 0.0      ┆ 0          │\n",
       "│ 82e278e600 ┆ 03:04:02   ┆         ┆           ┆   ┆            ┆         ┆          ┆            │\n",
       "│ 0028       ┆            ┆         ┆           ┆   ┆            ┆         ┆          ┆            │\n",
       "│ 4d5835cc2a ┆ 2015-01-05 ┆ false   ┆ false     ┆ … ┆ 184        ┆ 1       ┆ 0.693147 ┆ 51         │\n",
       "│ 82e278e600 ┆ 03:04:53   ┆         ┆           ┆   ┆            ┆         ┆          ┆            │\n",
       "│ 0028       ┆            ┆         ┆           ┆   ┆            ┆         ┆          ┆            │\n",
       "│ 4d5835cc2a ┆ 2015-01-05 ┆ false   ┆ false     ┆ … ┆ 185        ┆ 1       ┆ 1.098612 ┆ 52         │\n",
       "│ 82e278e600 ┆ 03:05:45   ┆         ┆           ┆   ┆            ┆         ┆          ┆            │\n",
       "│ 0028       ┆            ┆         ┆           ┆   ┆            ┆         ┆          ┆            │\n",
       "│ 4d5835cc2a ┆ 2015-01-05 ┆ false   ┆ false     ┆ … ┆ 186        ┆ 1       ┆ 1.386294 ┆ 25         │\n",
       "│ 82e278e600 ┆ 03:06:10   ┆         ┆           ┆   ┆            ┆         ┆          ┆            │\n",
       "│ 0028       ┆            ┆         ┆           ┆   ┆            ┆         ┆          ┆            │\n",
       "│ 4d5835cc2a ┆ 2015-01-05 ┆ false   ┆ false     ┆ … ┆ 186        ┆ 1       ┆ 1.609438 ┆ 15         │\n",
       "│ 82e278e600 ┆ 03:06:25   ┆         ┆           ┆   ┆            ┆         ┆          ┆            │\n",
       "│ 0028       ┆            ┆         ┆           ┆   ┆            ┆         ┆          ┆            │\n",
       "│ …          ┆ …          ┆ …       ┆ …         ┆ … ┆ …          ┆ …       ┆ …        ┆ …          │\n",
       "│ 4d5835cc2a ┆ 2015-01-05 ┆ false   ┆ false     ┆ … ┆ 197        ┆ 1       ┆ 2.772589 ┆ 49         │\n",
       "│ 82e278e600 ┆ 03:17:01   ┆         ┆           ┆   ┆            ┆         ┆          ┆            │\n",
       "│ 0028       ┆            ┆         ┆           ┆   ┆            ┆         ┆          ┆            │\n",
       "│ 4d5835cc2a ┆ 2015-01-05 ┆ false   ┆ false     ┆ … ┆ 197        ┆ 1       ┆ 2.833213 ┆ 23         │\n",
       "│ 82e278e600 ┆ 03:17:24   ┆         ┆           ┆   ┆            ┆         ┆          ┆            │\n",
       "│ 0028       ┆            ┆         ┆           ┆   ┆            ┆         ┆          ┆            │\n",
       "│ 4d5835cc2a ┆ 2015-01-05 ┆ false   ┆ false     ┆ … ┆ 197        ┆ 1       ┆ 2.890372 ┆ 30         │\n",
       "│ 82e278e600 ┆ 03:17:54   ┆         ┆           ┆   ┆            ┆         ┆          ┆            │\n",
       "│ 0028       ┆            ┆         ┆           ┆   ┆            ┆         ┆          ┆            │\n",
       "│ 4d5835cc2a ┆ 2015-01-05 ┆ false   ┆ false     ┆ … ┆ 197        ┆ 1       ┆ 2.944439 ┆ 5          │\n",
       "│ 82e278e600 ┆ 03:17:59   ┆         ┆           ┆   ┆            ┆         ┆          ┆            │\n",
       "│ 0028       ┆            ┆         ┆           ┆   ┆            ┆         ┆          ┆            │\n",
       "│ 4d5835cc2a ┆ 2015-01-05 ┆ false   ┆ false     ┆ … ┆ 199        ┆ 1       ┆ 2.995732 ┆ 67         │\n",
       "│ 82e278e600 ┆ 03:19:06   ┆         ┆           ┆   ┆            ┆         ┆          ┆            │\n",
       "│ 0028       ┆            ┆         ┆           ┆   ┆            ┆         ┆          ┆            │\n",
       "└────────────┴────────────┴─────────┴───────────┴───┴────────────┴─────────┴──────────┴────────────┘"
      ]
     },
     "execution_count": 325,
     "metadata": {},
     "output_type": "execute_result"
    }
   ],
   "source": [
    "df_with_features.head(20)"
   ]
  },
  {
   "cell_type": "code",
   "execution_count": 326,
   "id": "b8e10aef-be68-45ad-b2e2-ca2922ed8ce2",
   "metadata": {},
   "outputs": [],
   "source": [
    "features = ['time_in_min', 'weekday', 'rn_log', 'diff_from_prev']"
   ]
  },
  {
   "cell_type": "code",
   "execution_count": 381,
   "id": "29ad662d-f717-4de4-8fcd-f9f77543528e",
   "metadata": {},
   "outputs": [],
   "source": [
    "from sklearn.linear_model import PoissonRegressor\n",
    "# from sklearn.linear_model import SGDRegressor\n",
    "from sklearn.tree import DecisionTreeRegressor\n",
    "from sklearn.ensemble import RandomForestRegressor\n",
    "from sklearn.preprocessing import StandardScaler\n",
    "from sklearn.pipeline import make_pipeline"
   ]
  },
  {
   "cell_type": "code",
   "execution_count": 459,
   "id": "5879e90f-e507-439b-b13a-aa102e45f3f9",
   "metadata": {},
   "outputs": [],
   "source": [
    "pr = make_pipeline(\n",
    "    StandardScaler(),\n",
    "    RandomForestRegressor(max_depth=6, n_estimators=40)\n",
    ") # PoissonRegressor())"
   ]
  },
  {
   "cell_type": "code",
   "execution_count": 460,
   "id": "66b0a39e-d348-4bfc-b60c-6db58ef8652f",
   "metadata": {},
   "outputs": [
    {
     "data": {
      "text/html": [
       "<style>#sk-container-id-42 {\n",
       "  /* Definition of color scheme common for light and dark mode */\n",
       "  --sklearn-color-text: black;\n",
       "  --sklearn-color-line: gray;\n",
       "  /* Definition of color scheme for unfitted estimators */\n",
       "  --sklearn-color-unfitted-level-0: #fff5e6;\n",
       "  --sklearn-color-unfitted-level-1: #f6e4d2;\n",
       "  --sklearn-color-unfitted-level-2: #ffe0b3;\n",
       "  --sklearn-color-unfitted-level-3: chocolate;\n",
       "  /* Definition of color scheme for fitted estimators */\n",
       "  --sklearn-color-fitted-level-0: #f0f8ff;\n",
       "  --sklearn-color-fitted-level-1: #d4ebff;\n",
       "  --sklearn-color-fitted-level-2: #b3dbfd;\n",
       "  --sklearn-color-fitted-level-3: cornflowerblue;\n",
       "\n",
       "  /* Specific color for light theme */\n",
       "  --sklearn-color-text-on-default-background: var(--sg-text-color, var(--theme-code-foreground, var(--jp-content-font-color1, black)));\n",
       "  --sklearn-color-background: var(--sg-background-color, var(--theme-background, var(--jp-layout-color0, white)));\n",
       "  --sklearn-color-border-box: var(--sg-text-color, var(--theme-code-foreground, var(--jp-content-font-color1, black)));\n",
       "  --sklearn-color-icon: #696969;\n",
       "\n",
       "  @media (prefers-color-scheme: dark) {\n",
       "    /* Redefinition of color scheme for dark theme */\n",
       "    --sklearn-color-text-on-default-background: var(--sg-text-color, var(--theme-code-foreground, var(--jp-content-font-color1, white)));\n",
       "    --sklearn-color-background: var(--sg-background-color, var(--theme-background, var(--jp-layout-color0, #111)));\n",
       "    --sklearn-color-border-box: var(--sg-text-color, var(--theme-code-foreground, var(--jp-content-font-color1, white)));\n",
       "    --sklearn-color-icon: #878787;\n",
       "  }\n",
       "}\n",
       "\n",
       "#sk-container-id-42 {\n",
       "  color: var(--sklearn-color-text);\n",
       "}\n",
       "\n",
       "#sk-container-id-42 pre {\n",
       "  padding: 0;\n",
       "}\n",
       "\n",
       "#sk-container-id-42 input.sk-hidden--visually {\n",
       "  border: 0;\n",
       "  clip: rect(1px 1px 1px 1px);\n",
       "  clip: rect(1px, 1px, 1px, 1px);\n",
       "  height: 1px;\n",
       "  margin: -1px;\n",
       "  overflow: hidden;\n",
       "  padding: 0;\n",
       "  position: absolute;\n",
       "  width: 1px;\n",
       "}\n",
       "\n",
       "#sk-container-id-42 div.sk-dashed-wrapped {\n",
       "  border: 1px dashed var(--sklearn-color-line);\n",
       "  margin: 0 0.4em 0.5em 0.4em;\n",
       "  box-sizing: border-box;\n",
       "  padding-bottom: 0.4em;\n",
       "  background-color: var(--sklearn-color-background);\n",
       "}\n",
       "\n",
       "#sk-container-id-42 div.sk-container {\n",
       "  /* jupyter's `normalize.less` sets `[hidden] { display: none; }`\n",
       "     but bootstrap.min.css set `[hidden] { display: none !important; }`\n",
       "     so we also need the `!important` here to be able to override the\n",
       "     default hidden behavior on the sphinx rendered scikit-learn.org.\n",
       "     See: https://github.com/scikit-learn/scikit-learn/issues/21755 */\n",
       "  display: inline-block !important;\n",
       "  position: relative;\n",
       "}\n",
       "\n",
       "#sk-container-id-42 div.sk-text-repr-fallback {\n",
       "  display: none;\n",
       "}\n",
       "\n",
       "div.sk-parallel-item,\n",
       "div.sk-serial,\n",
       "div.sk-item {\n",
       "  /* draw centered vertical line to link estimators */\n",
       "  background-image: linear-gradient(var(--sklearn-color-text-on-default-background), var(--sklearn-color-text-on-default-background));\n",
       "  background-size: 2px 100%;\n",
       "  background-repeat: no-repeat;\n",
       "  background-position: center center;\n",
       "}\n",
       "\n",
       "/* Parallel-specific style estimator block */\n",
       "\n",
       "#sk-container-id-42 div.sk-parallel-item::after {\n",
       "  content: \"\";\n",
       "  width: 100%;\n",
       "  border-bottom: 2px solid var(--sklearn-color-text-on-default-background);\n",
       "  flex-grow: 1;\n",
       "}\n",
       "\n",
       "#sk-container-id-42 div.sk-parallel {\n",
       "  display: flex;\n",
       "  align-items: stretch;\n",
       "  justify-content: center;\n",
       "  background-color: var(--sklearn-color-background);\n",
       "  position: relative;\n",
       "}\n",
       "\n",
       "#sk-container-id-42 div.sk-parallel-item {\n",
       "  display: flex;\n",
       "  flex-direction: column;\n",
       "}\n",
       "\n",
       "#sk-container-id-42 div.sk-parallel-item:first-child::after {\n",
       "  align-self: flex-end;\n",
       "  width: 50%;\n",
       "}\n",
       "\n",
       "#sk-container-id-42 div.sk-parallel-item:last-child::after {\n",
       "  align-self: flex-start;\n",
       "  width: 50%;\n",
       "}\n",
       "\n",
       "#sk-container-id-42 div.sk-parallel-item:only-child::after {\n",
       "  width: 0;\n",
       "}\n",
       "\n",
       "/* Serial-specific style estimator block */\n",
       "\n",
       "#sk-container-id-42 div.sk-serial {\n",
       "  display: flex;\n",
       "  flex-direction: column;\n",
       "  align-items: center;\n",
       "  background-color: var(--sklearn-color-background);\n",
       "  padding-right: 1em;\n",
       "  padding-left: 1em;\n",
       "}\n",
       "\n",
       "\n",
       "/* Toggleable style: style used for estimator/Pipeline/ColumnTransformer box that is\n",
       "clickable and can be expanded/collapsed.\n",
       "- Pipeline and ColumnTransformer use this feature and define the default style\n",
       "- Estimators will overwrite some part of the style using the `sk-estimator` class\n",
       "*/\n",
       "\n",
       "/* Pipeline and ColumnTransformer style (default) */\n",
       "\n",
       "#sk-container-id-42 div.sk-toggleable {\n",
       "  /* Default theme specific background. It is overwritten whether we have a\n",
       "  specific estimator or a Pipeline/ColumnTransformer */\n",
       "  background-color: var(--sklearn-color-background);\n",
       "}\n",
       "\n",
       "/* Toggleable label */\n",
       "#sk-container-id-42 label.sk-toggleable__label {\n",
       "  cursor: pointer;\n",
       "  display: block;\n",
       "  width: 100%;\n",
       "  margin-bottom: 0;\n",
       "  padding: 0.5em;\n",
       "  box-sizing: border-box;\n",
       "  text-align: center;\n",
       "}\n",
       "\n",
       "#sk-container-id-42 label.sk-toggleable__label-arrow:before {\n",
       "  /* Arrow on the left of the label */\n",
       "  content: \"▸\";\n",
       "  float: left;\n",
       "  margin-right: 0.25em;\n",
       "  color: var(--sklearn-color-icon);\n",
       "}\n",
       "\n",
       "#sk-container-id-42 label.sk-toggleable__label-arrow:hover:before {\n",
       "  color: var(--sklearn-color-text);\n",
       "}\n",
       "\n",
       "/* Toggleable content - dropdown */\n",
       "\n",
       "#sk-container-id-42 div.sk-toggleable__content {\n",
       "  max-height: 0;\n",
       "  max-width: 0;\n",
       "  overflow: hidden;\n",
       "  text-align: left;\n",
       "  /* unfitted */\n",
       "  background-color: var(--sklearn-color-unfitted-level-0);\n",
       "}\n",
       "\n",
       "#sk-container-id-42 div.sk-toggleable__content.fitted {\n",
       "  /* fitted */\n",
       "  background-color: var(--sklearn-color-fitted-level-0);\n",
       "}\n",
       "\n",
       "#sk-container-id-42 div.sk-toggleable__content pre {\n",
       "  margin: 0.2em;\n",
       "  border-radius: 0.25em;\n",
       "  color: var(--sklearn-color-text);\n",
       "  /* unfitted */\n",
       "  background-color: var(--sklearn-color-unfitted-level-0);\n",
       "}\n",
       "\n",
       "#sk-container-id-42 div.sk-toggleable__content.fitted pre {\n",
       "  /* unfitted */\n",
       "  background-color: var(--sklearn-color-fitted-level-0);\n",
       "}\n",
       "\n",
       "#sk-container-id-42 input.sk-toggleable__control:checked~div.sk-toggleable__content {\n",
       "  /* Expand drop-down */\n",
       "  max-height: 200px;\n",
       "  max-width: 100%;\n",
       "  overflow: auto;\n",
       "}\n",
       "\n",
       "#sk-container-id-42 input.sk-toggleable__control:checked~label.sk-toggleable__label-arrow:before {\n",
       "  content: \"▾\";\n",
       "}\n",
       "\n",
       "/* Pipeline/ColumnTransformer-specific style */\n",
       "\n",
       "#sk-container-id-42 div.sk-label input.sk-toggleable__control:checked~label.sk-toggleable__label {\n",
       "  color: var(--sklearn-color-text);\n",
       "  background-color: var(--sklearn-color-unfitted-level-2);\n",
       "}\n",
       "\n",
       "#sk-container-id-42 div.sk-label.fitted input.sk-toggleable__control:checked~label.sk-toggleable__label {\n",
       "  background-color: var(--sklearn-color-fitted-level-2);\n",
       "}\n",
       "\n",
       "/* Estimator-specific style */\n",
       "\n",
       "/* Colorize estimator box */\n",
       "#sk-container-id-42 div.sk-estimator input.sk-toggleable__control:checked~label.sk-toggleable__label {\n",
       "  /* unfitted */\n",
       "  background-color: var(--sklearn-color-unfitted-level-2);\n",
       "}\n",
       "\n",
       "#sk-container-id-42 div.sk-estimator.fitted input.sk-toggleable__control:checked~label.sk-toggleable__label {\n",
       "  /* fitted */\n",
       "  background-color: var(--sklearn-color-fitted-level-2);\n",
       "}\n",
       "\n",
       "#sk-container-id-42 div.sk-label label.sk-toggleable__label,\n",
       "#sk-container-id-42 div.sk-label label {\n",
       "  /* The background is the default theme color */\n",
       "  color: var(--sklearn-color-text-on-default-background);\n",
       "}\n",
       "\n",
       "/* On hover, darken the color of the background */\n",
       "#sk-container-id-42 div.sk-label:hover label.sk-toggleable__label {\n",
       "  color: var(--sklearn-color-text);\n",
       "  background-color: var(--sklearn-color-unfitted-level-2);\n",
       "}\n",
       "\n",
       "/* Label box, darken color on hover, fitted */\n",
       "#sk-container-id-42 div.sk-label.fitted:hover label.sk-toggleable__label.fitted {\n",
       "  color: var(--sklearn-color-text);\n",
       "  background-color: var(--sklearn-color-fitted-level-2);\n",
       "}\n",
       "\n",
       "/* Estimator label */\n",
       "\n",
       "#sk-container-id-42 div.sk-label label {\n",
       "  font-family: monospace;\n",
       "  font-weight: bold;\n",
       "  display: inline-block;\n",
       "  line-height: 1.2em;\n",
       "}\n",
       "\n",
       "#sk-container-id-42 div.sk-label-container {\n",
       "  text-align: center;\n",
       "}\n",
       "\n",
       "/* Estimator-specific */\n",
       "#sk-container-id-42 div.sk-estimator {\n",
       "  font-family: monospace;\n",
       "  border: 1px dotted var(--sklearn-color-border-box);\n",
       "  border-radius: 0.25em;\n",
       "  box-sizing: border-box;\n",
       "  margin-bottom: 0.5em;\n",
       "  /* unfitted */\n",
       "  background-color: var(--sklearn-color-unfitted-level-0);\n",
       "}\n",
       "\n",
       "#sk-container-id-42 div.sk-estimator.fitted {\n",
       "  /* fitted */\n",
       "  background-color: var(--sklearn-color-fitted-level-0);\n",
       "}\n",
       "\n",
       "/* on hover */\n",
       "#sk-container-id-42 div.sk-estimator:hover {\n",
       "  /* unfitted */\n",
       "  background-color: var(--sklearn-color-unfitted-level-2);\n",
       "}\n",
       "\n",
       "#sk-container-id-42 div.sk-estimator.fitted:hover {\n",
       "  /* fitted */\n",
       "  background-color: var(--sklearn-color-fitted-level-2);\n",
       "}\n",
       "\n",
       "/* Specification for estimator info (e.g. \"i\" and \"?\") */\n",
       "\n",
       "/* Common style for \"i\" and \"?\" */\n",
       "\n",
       ".sk-estimator-doc-link,\n",
       "a:link.sk-estimator-doc-link,\n",
       "a:visited.sk-estimator-doc-link {\n",
       "  float: right;\n",
       "  font-size: smaller;\n",
       "  line-height: 1em;\n",
       "  font-family: monospace;\n",
       "  background-color: var(--sklearn-color-background);\n",
       "  border-radius: 1em;\n",
       "  height: 1em;\n",
       "  width: 1em;\n",
       "  text-decoration: none !important;\n",
       "  margin-left: 1ex;\n",
       "  /* unfitted */\n",
       "  border: var(--sklearn-color-unfitted-level-1) 1pt solid;\n",
       "  color: var(--sklearn-color-unfitted-level-1);\n",
       "}\n",
       "\n",
       ".sk-estimator-doc-link.fitted,\n",
       "a:link.sk-estimator-doc-link.fitted,\n",
       "a:visited.sk-estimator-doc-link.fitted {\n",
       "  /* fitted */\n",
       "  border: var(--sklearn-color-fitted-level-1) 1pt solid;\n",
       "  color: var(--sklearn-color-fitted-level-1);\n",
       "}\n",
       "\n",
       "/* On hover */\n",
       "div.sk-estimator:hover .sk-estimator-doc-link:hover,\n",
       ".sk-estimator-doc-link:hover,\n",
       "div.sk-label-container:hover .sk-estimator-doc-link:hover,\n",
       ".sk-estimator-doc-link:hover {\n",
       "  /* unfitted */\n",
       "  background-color: var(--sklearn-color-unfitted-level-3);\n",
       "  color: var(--sklearn-color-background);\n",
       "  text-decoration: none;\n",
       "}\n",
       "\n",
       "div.sk-estimator.fitted:hover .sk-estimator-doc-link.fitted:hover,\n",
       ".sk-estimator-doc-link.fitted:hover,\n",
       "div.sk-label-container:hover .sk-estimator-doc-link.fitted:hover,\n",
       ".sk-estimator-doc-link.fitted:hover {\n",
       "  /* fitted */\n",
       "  background-color: var(--sklearn-color-fitted-level-3);\n",
       "  color: var(--sklearn-color-background);\n",
       "  text-decoration: none;\n",
       "}\n",
       "\n",
       "/* Span, style for the box shown on hovering the info icon */\n",
       ".sk-estimator-doc-link span {\n",
       "  display: none;\n",
       "  z-index: 9999;\n",
       "  position: relative;\n",
       "  font-weight: normal;\n",
       "  right: .2ex;\n",
       "  padding: .5ex;\n",
       "  margin: .5ex;\n",
       "  width: min-content;\n",
       "  min-width: 20ex;\n",
       "  max-width: 50ex;\n",
       "  color: var(--sklearn-color-text);\n",
       "  box-shadow: 2pt 2pt 4pt #999;\n",
       "  /* unfitted */\n",
       "  background: var(--sklearn-color-unfitted-level-0);\n",
       "  border: .5pt solid var(--sklearn-color-unfitted-level-3);\n",
       "}\n",
       "\n",
       ".sk-estimator-doc-link.fitted span {\n",
       "  /* fitted */\n",
       "  background: var(--sklearn-color-fitted-level-0);\n",
       "  border: var(--sklearn-color-fitted-level-3);\n",
       "}\n",
       "\n",
       ".sk-estimator-doc-link:hover span {\n",
       "  display: block;\n",
       "}\n",
       "\n",
       "/* \"?\"-specific style due to the `<a>` HTML tag */\n",
       "\n",
       "#sk-container-id-42 a.estimator_doc_link {\n",
       "  float: right;\n",
       "  font-size: 1rem;\n",
       "  line-height: 1em;\n",
       "  font-family: monospace;\n",
       "  background-color: var(--sklearn-color-background);\n",
       "  border-radius: 1rem;\n",
       "  height: 1rem;\n",
       "  width: 1rem;\n",
       "  text-decoration: none;\n",
       "  /* unfitted */\n",
       "  color: var(--sklearn-color-unfitted-level-1);\n",
       "  border: var(--sklearn-color-unfitted-level-1) 1pt solid;\n",
       "}\n",
       "\n",
       "#sk-container-id-42 a.estimator_doc_link.fitted {\n",
       "  /* fitted */\n",
       "  border: var(--sklearn-color-fitted-level-1) 1pt solid;\n",
       "  color: var(--sklearn-color-fitted-level-1);\n",
       "}\n",
       "\n",
       "/* On hover */\n",
       "#sk-container-id-42 a.estimator_doc_link:hover {\n",
       "  /* unfitted */\n",
       "  background-color: var(--sklearn-color-unfitted-level-3);\n",
       "  color: var(--sklearn-color-background);\n",
       "  text-decoration: none;\n",
       "}\n",
       "\n",
       "#sk-container-id-42 a.estimator_doc_link.fitted:hover {\n",
       "  /* fitted */\n",
       "  background-color: var(--sklearn-color-fitted-level-3);\n",
       "}\n",
       "</style><div id=\"sk-container-id-42\" class=\"sk-top-container\"><div class=\"sk-text-repr-fallback\"><pre>Pipeline(steps=[(&#x27;standardscaler&#x27;, StandardScaler()),\n",
       "                (&#x27;randomforestregressor&#x27;,\n",
       "                 RandomForestRegressor(max_depth=6, n_estimators=40))])</pre><b>In a Jupyter environment, please rerun this cell to show the HTML representation or trust the notebook. <br />On GitHub, the HTML representation is unable to render, please try loading this page with nbviewer.org.</b></div><div class=\"sk-container\" hidden><div class=\"sk-item sk-dashed-wrapped\"><div class=\"sk-label-container\"><div class=\"sk-label fitted sk-toggleable\"><input class=\"sk-toggleable__control sk-hidden--visually\" id=\"sk-estimator-id-121\" type=\"checkbox\" ><label for=\"sk-estimator-id-121\" class=\"sk-toggleable__label fitted sk-toggleable__label-arrow fitted\">&nbsp;&nbsp;Pipeline<a class=\"sk-estimator-doc-link fitted\" rel=\"noreferrer\" target=\"_blank\" href=\"https://scikit-learn.org/1.4/modules/generated/sklearn.pipeline.Pipeline.html\">?<span>Documentation for Pipeline</span></a><span class=\"sk-estimator-doc-link fitted\">i<span>Fitted</span></span></label><div class=\"sk-toggleable__content fitted\"><pre>Pipeline(steps=[(&#x27;standardscaler&#x27;, StandardScaler()),\n",
       "                (&#x27;randomforestregressor&#x27;,\n",
       "                 RandomForestRegressor(max_depth=6, n_estimators=40))])</pre></div> </div></div><div class=\"sk-serial\"><div class=\"sk-item\"><div class=\"sk-estimator fitted sk-toggleable\"><input class=\"sk-toggleable__control sk-hidden--visually\" id=\"sk-estimator-id-122\" type=\"checkbox\" ><label for=\"sk-estimator-id-122\" class=\"sk-toggleable__label fitted sk-toggleable__label-arrow fitted\">&nbsp;StandardScaler<a class=\"sk-estimator-doc-link fitted\" rel=\"noreferrer\" target=\"_blank\" href=\"https://scikit-learn.org/1.4/modules/generated/sklearn.preprocessing.StandardScaler.html\">?<span>Documentation for StandardScaler</span></a></label><div class=\"sk-toggleable__content fitted\"><pre>StandardScaler()</pre></div> </div></div><div class=\"sk-item\"><div class=\"sk-estimator fitted sk-toggleable\"><input class=\"sk-toggleable__control sk-hidden--visually\" id=\"sk-estimator-id-123\" type=\"checkbox\" ><label for=\"sk-estimator-id-123\" class=\"sk-toggleable__label fitted sk-toggleable__label-arrow fitted\">&nbsp;RandomForestRegressor<a class=\"sk-estimator-doc-link fitted\" rel=\"noreferrer\" target=\"_blank\" href=\"https://scikit-learn.org/1.4/modules/generated/sklearn.ensemble.RandomForestRegressor.html\">?<span>Documentation for RandomForestRegressor</span></a></label><div class=\"sk-toggleable__content fitted\"><pre>RandomForestRegressor(max_depth=6, n_estimators=40)</pre></div> </div></div></div></div></div></div>"
      ],
      "text/plain": [
       "Pipeline(steps=[('standardscaler', StandardScaler()),\n",
       "                ('randomforestregressor',\n",
       "                 RandomForestRegressor(max_depth=6, n_estimators=40))])"
      ]
     },
     "execution_count": 460,
     "metadata": {},
     "output_type": "execute_result"
    }
   ],
   "source": [
    "pr.fit(df_with_features.filter(train_index)[features], df_with_features.filter(train_index)['target'])"
   ]
  },
  {
   "cell_type": "code",
   "execution_count": 461,
   "id": "e926c3ea-1179-4424-a008-2783d4966a60",
   "metadata": {},
   "outputs": [],
   "source": [
    "predictions = pr.predict(df_with_features.filter(test_index)[features])"
   ]
  },
  {
   "cell_type": "code",
   "execution_count": 462,
   "id": "624cd788-96b9-4965-a1be-b23c95680063",
   "metadata": {},
   "outputs": [],
   "source": [
    "final_predictions = predictions < 5 * 60"
   ]
  },
  {
   "cell_type": "code",
   "execution_count": 463,
   "id": "4fa0bb6d-5cff-4808-a8be-8d1c138cae63",
   "metadata": {},
   "outputs": [
    {
     "data": {
      "text/plain": [
       "0.6846501218878631"
      ]
     },
     "execution_count": 463,
     "metadata": {},
     "output_type": "execute_result"
    }
   ],
   "source": [
    "accuracy_score(y.filter(test_index), final_predictions)"
   ]
  },
  {
   "cell_type": "code",
   "execution_count": 464,
   "id": "a81bc55a-892f-4322-bd1a-e1d76ea15d8c",
   "metadata": {},
   "outputs": [
    {
     "data": {
      "text/plain": [
       "0.008472205570874795"
      ]
     },
     "execution_count": 464,
     "metadata": {},
     "output_type": "execute_result"
    }
   ],
   "source": [
    "sum(final_predictions) / len(final_predictions)"
   ]
  },
  {
   "cell_type": "code",
   "execution_count": 465,
   "id": "59c01935-4693-4bfa-993e-98af581687c8",
   "metadata": {},
   "outputs": [
    {
     "data": {},
     "metadata": {},
     "output_type": "display_data"
    },
    {
     "data": {
      "application/vnd.holoviews_exec.v0+json": "",
      "text/html": [
       "<div id='p4409'>\n",
       "  <div id=\"f8c523ff-4721-4988-90b3-ce7032298b73\" data-root-id=\"p4409\" style=\"display: contents;\"></div>\n",
       "</div>\n",
       "<script type=\"application/javascript\">(function(root) {\n",
       "  var docs_json = {\"91f64c2b-ebfe-4b2b-a2a1-489e1f779148\":{\"version\":\"3.4.1\",\"title\":\"Bokeh Application\",\"roots\":[{\"type\":\"object\",\"name\":\"Row\",\"id\":\"p4409\",\"attributes\":{\"name\":\"Row09644\",\"tags\":[\"embedded\"],\"stylesheets\":[\"\\n:host(.pn-loading):before, .pn-loading:before {\\n  background-color: #c3c3c3;\\n  mask-size: auto calc(min(50%, 400px));\\n  -webkit-mask-size: auto calc(min(50%, 400px));\\n}\",{\"type\":\"object\",\"name\":\"ImportedStyleSheet\",\"id\":\"p4412\",\"attributes\":{\"url\":\"https://cdn.holoviz.org/panel/1.4.2/dist/css/loading.css\"}},{\"type\":\"object\",\"name\":\"ImportedStyleSheet\",\"id\":\"p4468\",\"attributes\":{\"url\":\"https://cdn.holoviz.org/panel/1.4.2/dist/css/listpanel.css\"}},{\"type\":\"object\",\"name\":\"ImportedStyleSheet\",\"id\":\"p4410\",\"attributes\":{\"url\":\"https://cdn.holoviz.org/panel/1.4.2/dist/bundled/theme/default.css\"}},{\"type\":\"object\",\"name\":\"ImportedStyleSheet\",\"id\":\"p4411\",\"attributes\":{\"url\":\"https://cdn.holoviz.org/panel/1.4.2/dist/bundled/theme/native.css\"}}],\"min_width\":700,\"margin\":0,\"sizing_mode\":\"stretch_width\",\"align\":\"start\",\"children\":[{\"type\":\"object\",\"name\":\"Spacer\",\"id\":\"p4413\",\"attributes\":{\"name\":\"HSpacer09651\",\"stylesheets\":[\"\\n:host(.pn-loading):before, .pn-loading:before {\\n  background-color: #c3c3c3;\\n  mask-size: auto calc(min(50%, 400px));\\n  -webkit-mask-size: auto calc(min(50%, 400px));\\n}\",{\"id\":\"p4412\"},{\"id\":\"p4410\"},{\"id\":\"p4411\"}],\"margin\":0,\"sizing_mode\":\"stretch_width\",\"align\":\"start\"}},{\"type\":\"object\",\"name\":\"Figure\",\"id\":\"p4421\",\"attributes\":{\"width\":700,\"height\":300,\"margin\":[5,10],\"sizing_mode\":\"fixed\",\"align\":\"start\",\"x_range\":{\"type\":\"object\",\"name\":\"Range1d\",\"id\":\"p4414\",\"attributes\":{\"tags\":[[[\"column_0\",\"column_0\",null]],[]],\"start\":-220.0777634899095,\"end\":5251.15302040265,\"reset_start\":-220.0777634899095,\"reset_end\":5251.15302040265}},\"y_range\":{\"type\":\"object\",\"name\":\"Range1d\",\"id\":\"p4415\",\"attributes\":{\"tags\":[[[\"column_0_density\",\"Density\",null]],{\"type\":\"map\",\"entries\":[[\"invert_yaxis\",false],[\"autorange\",false]]}],\"end\":0.0017703642053415122,\"reset_start\":0.0,\"reset_end\":0.0017703642053415122}},\"x_scale\":{\"type\":\"object\",\"name\":\"LinearScale\",\"id\":\"p4431\"},\"y_scale\":{\"type\":\"object\",\"name\":\"LinearScale\",\"id\":\"p4432\"},\"title\":{\"type\":\"object\",\"name\":\"Title\",\"id\":\"p4424\",\"attributes\":{\"text_color\":\"black\",\"text_font_size\":\"12pt\"}},\"renderers\":[{\"type\":\"object\",\"name\":\"GlyphRenderer\",\"id\":\"p4461\",\"attributes\":{\"data_source\":{\"type\":\"object\",\"name\":\"ColumnDataSource\",\"id\":\"p4452\",\"attributes\":{\"selected\":{\"type\":\"object\",\"name\":\"Selection\",\"id\":\"p4453\",\"attributes\":{\"indices\":[],\"line_indices\":[]}},\"selection_policy\":{\"type\":\"object\",\"name\":\"UnionRenderers\",\"id\":\"p4454\"},\"data\":{\"type\":\"map\",\"entries\":[[\"x\",{\"type\":\"ndarray\",\"array\":{\"type\":\"bytes\",\"data\":\"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\"},\"shape\":[200],\"dtype\":\"float64\",\"order\":\"little\"}],[\"y\",{\"type\":\"ndarray\",\"array\":{\"type\":\"bytes\",\"data\":\"AAAAAAAAAAAAAAAAAAAAAAAAAAAAAAAAAAAAAAAAAAAAAAAAAAAAAAAAAAAAAAAAAAAAAAAAAAAAAAAAAAAAAAAAAAAAAAAAAAAAAAAAAAAAAAAAAAAAAAAAAAAAAAAAAAAAAAAAAAAAAAAAAAAAAAAAAAAAAAAAAAAAAAAAAAAAAAAAAAAAAAAAAAAAAAAAAAAAAAAAAAAAAAAAAAAAAAAAAAAAAAAAAAAAAAAAAAAAAAAAAAAAAAAAAAAAAAAAAAAAAAAAAAAAAAAAAAAAAAAAAAAAAAAAAAAAAAAAAAAAAAAAAAAAAAAAAAAAAAAAAAAAAAAAAAAAAAAAAAAAAAAAAAAAAAAAAAAAAAAAAAAAAAAAAAAAAAAAAAAAAAAAAAAAAAAAAAAAAAAAAAAAAAAAAAAAAAAAAAAAAAAAAAAAAAAAAAAAAAAAAAAAAAAAAAAAAAAAAAAAAAAAAAAAAAAAAAAAAAAAAAAAAAAAAAAAAAAAAAAAAAAAAAAAAAAAAAAAAAAAAAAAAAAAAAAAAAAAAAAAAAAAAAAAAAAAAAAAAAAAAAAAAAAAAAAAAAAAAAAAAAAAAAAAAAAAAAAAAAAAAAAAAAAAAAAAAAAAAAAAAAAAAAAAAAAAAAAAAAAAAAAAAAAAAAAAAAAAAAAAAAAAAAAAAAAAAAAAAAAAAAAAAAAAAAAAAAAAAAAAAAAAAAAAAAAAAAAAAAAAAAAAAAAAAAAAAAAAAAAAAAAAAAAAAAAAAAAAAAAAAAAAAAAAAAAAAAAAAAAAAAAAAAAAAAAAAAAAAAAAAAAAAAAAAAAAAAAAAAAAAAAAAAAAAAAAAAAAAAAAAAAAAAAAAAAAAAAAAAAAAAAAAAAAAAAAAAAAAAAAAAAAAAAAAAAAAAAAAAAAAAAAAAAAAAAAAAAAAAAAAAAAAAAAAAAAAAAAAAAAAAAAAAAAAAAAAAAAAAAAAAAAAAAAAAAAAAAAAAAAAAAAAAAAAAAAAAAAAAAAAAAAAAAAAAAAAAAAAAAAAAAAAAAAAAAAAAAAAAAAAAAAAAAAAAAAAAAAAAAAAAAAAAB5tkObMIOQPl7hhGKKy7k+itqfxqRI2T69/d1d5FjvPheRjBKAAPk+C2yGBJGH+j4bKqCFk8DzPkE1IhJwyeU+dYOhPHoG0j56nNakv7O1PlG+d0TOh5Y+aeXSe1XYkj5SCLGwLjClPpVeDqe34Lo+fJDqDZjE0D4SerUXIs3gPssk0gBP5Oc+R1i1kEj/5j6MO77nAAXePp0ZNm6CJs4+diaKkQhDwj7rbQZI39XBPkHeUS8BfcY+RKdJ0BP10j4wdqKN1AThPrKl8/99Luc+QVHs5U1y5T4eCO/x9sbbPpoZZRHG/Mw+Cf2rs8A0vj7f/kV/V76xPrx7EmI5mKw+3Zo44Dlosz41hx6fZcq/Prww4wfp5Mo+TViB2Fs11T7aVhtFcPDZPnhZNkUE4tc+nRTpue/T1T5zrc/D2JfePgUck4h1Se4+Em7vrijW/T4QIrdttFYHP7p6Vm626wo/A9ujYKnvBz9t3riEG0UCPz1EAzRfUfo+OWc8Tp+o8z4Uvm9r+znwPg5wl9Q0Oew+N93xB8vH7T4eBVqRG4r5Pker+PgZ6wk/GcBKsh1jFT8f+iBTJB0bP21yOlWEZx0/EjtiSHt6Hj/5Ej/mcJoePxoS20BGqB8/ec/4+jKfIj/TC7p/eEAnP9iMGOYJpis/L5esgJjrLT/F5Ey1v9IsPymmRVowhSo/A4KU1k/iLD+Ih83XqiM0PyXnBWZwEj0/URapxPsdQj8zH7hPoQ9DP9Hu21yGo0I/M6RjJMT7Qj/VjuY1rq9DP+Iwavk6TkI/Q4RWibBhPT/KQvY1Wv04P8QJI2rSIj8/r5Tew046ST/sjD+Nt7pTP+s+UhgFoFk/vBYdM21eWj96+zwqCEZWP2rRJGAU11A/UKqNg82YSD9JOJBw/gtCP0ZFDHfwQzo/cgztQrlyMT9k4CZI8n8jP9+0l2u3FhM//r8GFpa4BT/0YiM3nq4BP15bhwedSAA//2hD50kP/T59rZQi/7v4Pk2+2ufqCPM+Zd9zI2jz5z51hZ0u3HXWPgP2YNc2er0+jf6mYjYGmj55IBIjqSRuPg==\"},\"shape\":[200],\"dtype\":\"float64\",\"order\":\"little\"}]]}}},\"view\":{\"type\":\"object\",\"name\":\"CDSView\",\"id\":\"p4462\",\"attributes\":{\"filter\":{\"type\":\"object\",\"name\":\"AllIndices\",\"id\":\"p4463\"}}},\"glyph\":{\"type\":\"object\",\"name\":\"Patch\",\"id\":\"p4458\",\"attributes\":{\"tags\":[\"apply_ranges\"],\"x\":{\"type\":\"field\",\"field\":\"x\"},\"y\":{\"type\":\"field\",\"field\":\"y\"},\"fill_color\":\"#30a2da\",\"fill_alpha\":0.5,\"hatch_color\":\"#30a2da\"}},\"selection_glyph\":{\"type\":\"object\",\"name\":\"Patch\",\"id\":\"p4464\",\"attributes\":{\"tags\":[\"apply_ranges\"],\"x\":{\"type\":\"field\",\"field\":\"x\"},\"y\":{\"type\":\"field\",\"field\":\"y\"},\"fill_color\":\"#30a2da\",\"fill_alpha\":0.5,\"hatch_color\":\"#30a2da\"}},\"nonselection_glyph\":{\"type\":\"object\",\"name\":\"Patch\",\"id\":\"p4459\",\"attributes\":{\"tags\":[\"apply_ranges\"],\"x\":{\"type\":\"field\",\"field\":\"x\"},\"y\":{\"type\":\"field\",\"field\":\"y\"},\"line_alpha\":1,\"fill_color\":\"#30a2da\",\"fill_alpha\":0.5,\"hatch_color\":\"#30a2da\",\"hatch_alpha\":0.1}},\"muted_glyph\":{\"type\":\"object\",\"name\":\"Patch\",\"id\":\"p4460\",\"attributes\":{\"tags\":[\"apply_ranges\"],\"x\":{\"type\":\"field\",\"field\":\"x\"},\"y\":{\"type\":\"field\",\"field\":\"y\"},\"line_alpha\":0.2,\"fill_color\":\"#30a2da\",\"fill_alpha\":0.2,\"hatch_color\":\"#30a2da\",\"hatch_alpha\":0.2}}}}],\"toolbar\":{\"type\":\"object\",\"name\":\"Toolbar\",\"id\":\"p4430\",\"attributes\":{\"tools\":[{\"type\":\"object\",\"name\":\"WheelZoomTool\",\"id\":\"p4419\",\"attributes\":{\"tags\":[\"hv_created\"],\"renderers\":\"auto\",\"zoom_together\":\"none\"}},{\"type\":\"object\",\"name\":\"HoverTool\",\"id\":\"p4420\",\"attributes\":{\"tags\":[\"hv_created\"],\"renderers\":[{\"id\":\"p4461\"}],\"tooltips\":[[\"column_0\",\"@{column_0}\"],[\"Density\",\"@{column_0_density}\"]]}},{\"type\":\"object\",\"name\":\"SaveTool\",\"id\":\"p4443\"},{\"type\":\"object\",\"name\":\"PanTool\",\"id\":\"p4444\"},{\"type\":\"object\",\"name\":\"BoxZoomTool\",\"id\":\"p4445\",\"attributes\":{\"overlay\":{\"type\":\"object\",\"name\":\"BoxAnnotation\",\"id\":\"p4446\",\"attributes\":{\"syncable\":false,\"level\":\"overlay\",\"visible\":false,\"left\":{\"type\":\"number\",\"value\":\"nan\"},\"right\":{\"type\":\"number\",\"value\":\"nan\"},\"top\":{\"type\":\"number\",\"value\":\"nan\"},\"bottom\":{\"type\":\"number\",\"value\":\"nan\"},\"left_units\":\"canvas\",\"right_units\":\"canvas\",\"top_units\":\"canvas\",\"bottom_units\":\"canvas\",\"line_color\":\"black\",\"line_alpha\":1.0,\"line_width\":2,\"line_dash\":[4,4],\"fill_color\":\"lightgrey\",\"fill_alpha\":0.5}}}},{\"type\":\"object\",\"name\":\"ResetTool\",\"id\":\"p4451\"}],\"active_drag\":{\"id\":\"p4444\"},\"active_scroll\":{\"id\":\"p4419\"}}},\"left\":[{\"type\":\"object\",\"name\":\"LinearAxis\",\"id\":\"p4438\",\"attributes\":{\"ticker\":{\"type\":\"object\",\"name\":\"BasicTicker\",\"id\":\"p4439\",\"attributes\":{\"mantissas\":[1,2,5]}},\"formatter\":{\"type\":\"object\",\"name\":\"BasicTickFormatter\",\"id\":\"p4440\"},\"axis_label\":\"Density\",\"major_label_policy\":{\"type\":\"object\",\"name\":\"AllLabels\",\"id\":\"p4441\"}}}],\"below\":[{\"type\":\"object\",\"name\":\"LinearAxis\",\"id\":\"p4433\",\"attributes\":{\"ticker\":{\"type\":\"object\",\"name\":\"BasicTicker\",\"id\":\"p4434\",\"attributes\":{\"mantissas\":[1,2,5]}},\"formatter\":{\"type\":\"object\",\"name\":\"BasicTickFormatter\",\"id\":\"p4435\"},\"axis_label\":\"column_0\",\"major_label_policy\":{\"type\":\"object\",\"name\":\"AllLabels\",\"id\":\"p4436\"}}}],\"center\":[{\"type\":\"object\",\"name\":\"Grid\",\"id\":\"p4437\",\"attributes\":{\"axis\":{\"id\":\"p4433\"},\"grid_line_color\":null}},{\"type\":\"object\",\"name\":\"Grid\",\"id\":\"p4442\",\"attributes\":{\"dimension\":1,\"axis\":{\"id\":\"p4438\"},\"grid_line_color\":null}}],\"min_border_top\":10,\"min_border_bottom\":10,\"min_border_left\":10,\"min_border_right\":10,\"output_backend\":\"webgl\"}},{\"type\":\"object\",\"name\":\"Spacer\",\"id\":\"p4466\",\"attributes\":{\"name\":\"HSpacer09652\",\"stylesheets\":[\"\\n:host(.pn-loading):before, .pn-loading:before {\\n  background-color: #c3c3c3;\\n  mask-size: auto calc(min(50%, 400px));\\n  -webkit-mask-size: auto calc(min(50%, 400px));\\n}\",{\"id\":\"p4412\"},{\"id\":\"p4410\"},{\"id\":\"p4411\"}],\"margin\":0,\"sizing_mode\":\"stretch_width\",\"align\":\"start\"}}]}}],\"defs\":[{\"type\":\"model\",\"name\":\"ReactiveHTML1\"},{\"type\":\"model\",\"name\":\"FlexBox1\",\"properties\":[{\"name\":\"align_content\",\"kind\":\"Any\",\"default\":\"flex-start\"},{\"name\":\"align_items\",\"kind\":\"Any\",\"default\":\"flex-start\"},{\"name\":\"flex_direction\",\"kind\":\"Any\",\"default\":\"row\"},{\"name\":\"flex_wrap\",\"kind\":\"Any\",\"default\":\"wrap\"},{\"name\":\"gap\",\"kind\":\"Any\",\"default\":\"\"},{\"name\":\"justify_content\",\"kind\":\"Any\",\"default\":\"flex-start\"}]},{\"type\":\"model\",\"name\":\"FloatPanel1\",\"properties\":[{\"name\":\"config\",\"kind\":\"Any\",\"default\":{\"type\":\"map\"}},{\"name\":\"contained\",\"kind\":\"Any\",\"default\":true},{\"name\":\"position\",\"kind\":\"Any\",\"default\":\"right-top\"},{\"name\":\"offsetx\",\"kind\":\"Any\",\"default\":null},{\"name\":\"offsety\",\"kind\":\"Any\",\"default\":null},{\"name\":\"theme\",\"kind\":\"Any\",\"default\":\"primary\"},{\"name\":\"status\",\"kind\":\"Any\",\"default\":\"normalized\"}]},{\"type\":\"model\",\"name\":\"GridStack1\",\"properties\":[{\"name\":\"mode\",\"kind\":\"Any\",\"default\":\"warn\"},{\"name\":\"ncols\",\"kind\":\"Any\",\"default\":null},{\"name\":\"nrows\",\"kind\":\"Any\",\"default\":null},{\"name\":\"allow_resize\",\"kind\":\"Any\",\"default\":true},{\"name\":\"allow_drag\",\"kind\":\"Any\",\"default\":true},{\"name\":\"state\",\"kind\":\"Any\",\"default\":[]}]},{\"type\":\"model\",\"name\":\"drag1\",\"properties\":[{\"name\":\"slider_width\",\"kind\":\"Any\",\"default\":5},{\"name\":\"slider_color\",\"kind\":\"Any\",\"default\":\"black\"},{\"name\":\"value\",\"kind\":\"Any\",\"default\":50}]},{\"type\":\"model\",\"name\":\"click1\",\"properties\":[{\"name\":\"terminal_output\",\"kind\":\"Any\",\"default\":\"\"},{\"name\":\"debug_name\",\"kind\":\"Any\",\"default\":\"\"},{\"name\":\"clears\",\"kind\":\"Any\",\"default\":0}]},{\"type\":\"model\",\"name\":\"FastWrapper1\",\"properties\":[{\"name\":\"object\",\"kind\":\"Any\",\"default\":null},{\"name\":\"style\",\"kind\":\"Any\",\"default\":null}]},{\"type\":\"model\",\"name\":\"NotificationAreaBase1\",\"properties\":[{\"name\":\"js_events\",\"kind\":\"Any\",\"default\":{\"type\":\"map\"}},{\"name\":\"position\",\"kind\":\"Any\",\"default\":\"bottom-right\"},{\"name\":\"_clear\",\"kind\":\"Any\",\"default\":0}]},{\"type\":\"model\",\"name\":\"NotificationArea1\",\"properties\":[{\"name\":\"js_events\",\"kind\":\"Any\",\"default\":{\"type\":\"map\"}},{\"name\":\"notifications\",\"kind\":\"Any\",\"default\":[]},{\"name\":\"position\",\"kind\":\"Any\",\"default\":\"bottom-right\"},{\"name\":\"_clear\",\"kind\":\"Any\",\"default\":0},{\"name\":\"types\",\"kind\":\"Any\",\"default\":[{\"type\":\"map\",\"entries\":[[\"type\",\"warning\"],[\"background\",\"#ffc107\"],[\"icon\",{\"type\":\"map\",\"entries\":[[\"className\",\"fas fa-exclamation-triangle\"],[\"tagName\",\"i\"],[\"color\",\"white\"]]}]]},{\"type\":\"map\",\"entries\":[[\"type\",\"info\"],[\"background\",\"#007bff\"],[\"icon\",{\"type\":\"map\",\"entries\":[[\"className\",\"fas fa-info-circle\"],[\"tagName\",\"i\"],[\"color\",\"white\"]]}]]}]}]},{\"type\":\"model\",\"name\":\"Notification\",\"properties\":[{\"name\":\"background\",\"kind\":\"Any\",\"default\":null},{\"name\":\"duration\",\"kind\":\"Any\",\"default\":3000},{\"name\":\"icon\",\"kind\":\"Any\",\"default\":null},{\"name\":\"message\",\"kind\":\"Any\",\"default\":\"\"},{\"name\":\"notification_type\",\"kind\":\"Any\",\"default\":null},{\"name\":\"_destroyed\",\"kind\":\"Any\",\"default\":false}]},{\"type\":\"model\",\"name\":\"TemplateActions1\",\"properties\":[{\"name\":\"open_modal\",\"kind\":\"Any\",\"default\":0},{\"name\":\"close_modal\",\"kind\":\"Any\",\"default\":0}]},{\"type\":\"model\",\"name\":\"BootstrapTemplateActions1\",\"properties\":[{\"name\":\"open_modal\",\"kind\":\"Any\",\"default\":0},{\"name\":\"close_modal\",\"kind\":\"Any\",\"default\":0}]},{\"type\":\"model\",\"name\":\"TemplateEditor1\",\"properties\":[{\"name\":\"layout\",\"kind\":\"Any\",\"default\":[]}]},{\"type\":\"model\",\"name\":\"MaterialTemplateActions1\",\"properties\":[{\"name\":\"open_modal\",\"kind\":\"Any\",\"default\":0},{\"name\":\"close_modal\",\"kind\":\"Any\",\"default\":0}]},{\"type\":\"model\",\"name\":\"copy_to_clipboard1\",\"properties\":[{\"name\":\"fill\",\"kind\":\"Any\",\"default\":\"none\"},{\"name\":\"value\",\"kind\":\"Any\",\"default\":null}]}]}};\n",
       "  var render_items = [{\"docid\":\"91f64c2b-ebfe-4b2b-a2a1-489e1f779148\",\"roots\":{\"p4409\":\"f8c523ff-4721-4988-90b3-ce7032298b73\"},\"root_ids\":[\"p4409\"]}];\n",
       "  var docs = Object.values(docs_json)\n",
       "  if (!docs) {\n",
       "    return\n",
       "  }\n",
       "  const py_version = docs[0].version.replace('rc', '-rc.').replace('.dev', '-dev.')\n",
       "  function embed_document(root) {\n",
       "    var Bokeh = get_bokeh(root)\n",
       "    Bokeh.embed.embed_items_notebook(docs_json, render_items);\n",
       "    for (const render_item of render_items) {\n",
       "      for (const root_id of render_item.root_ids) {\n",
       "\tconst id_el = document.getElementById(root_id)\n",
       "\tif (id_el.children.length && (id_el.children[0].className === 'bk-root')) {\n",
       "\t  const root_el = id_el.children[0]\n",
       "\t  root_el.id = root_el.id + '-rendered'\n",
       "\t}\n",
       "      }\n",
       "    }\n",
       "  }\n",
       "  function get_bokeh(root) {\n",
       "    if (root.Bokeh === undefined) {\n",
       "      return null\n",
       "    } else if (root.Bokeh.version !== py_version) {\n",
       "      if (root.Bokeh.versions === undefined || !root.Bokeh.versions.has(py_version)) {\n",
       "\treturn null\n",
       "      }\n",
       "      return root.Bokeh.versions.get(py_version);\n",
       "    } else if (root.Bokeh.version === py_version) {\n",
       "      return root.Bokeh\n",
       "    }\n",
       "    return null\n",
       "  }\n",
       "  function is_loaded(root) {\n",
       "    var Bokeh = get_bokeh(root)\n",
       "    return (Bokeh != null && Bokeh.Panel !== undefined)\n",
       "  }\n",
       "  if (is_loaded(root)) {\n",
       "    embed_document(root);\n",
       "  } else {\n",
       "    var attempts = 0;\n",
       "    var timer = setInterval(function(root) {\n",
       "      if (is_loaded(root)) {\n",
       "        clearInterval(timer);\n",
       "        embed_document(root);\n",
       "      } else if (document.readyState == \"complete\") {\n",
       "        attempts++;\n",
       "        if (attempts > 200) {\n",
       "          clearInterval(timer);\n",
       "\t  var Bokeh = get_bokeh(root)\n",
       "\t  if (Bokeh == null || Bokeh.Panel == null) {\n",
       "            console.warn(\"Panel: ERROR: Unable to run Panel code because Bokeh or Panel library is missing\");\n",
       "\t  } else {\n",
       "\t    console.warn(\"Panel: WARNING: Attempting to render but not all required libraries could be resolved.\")\n",
       "\t    embed_document(root)\n",
       "\t  }\n",
       "        }\n",
       "      }\n",
       "    }, 25, root)\n",
       "  }\n",
       "})(window);</script>"
      ],
      "text/plain": [
       ":Distribution   [column_0]   (Density)"
      ]
     },
     "execution_count": 465,
     "metadata": {
      "application/vnd.holoviews_exec.v0+json": {
       "id": "p4409"
      }
     },
     "output_type": "execute_result"
    }
   ],
   "source": [
    "pl.DataFrame(predictions).plot.kde()"
   ]
  },
  {
   "cell_type": "code",
   "execution_count": 466,
   "id": "df83e59c-6726-4314-b409-e773b321e129",
   "metadata": {},
   "outputs": [
    {
     "data": {},
     "metadata": {},
     "output_type": "display_data"
    },
    {
     "data": {
      "application/vnd.holoviews_exec.v0+json": "",
      "text/html": [
       "<div id='p4472'>\n",
       "  <div id=\"fd21d52f-ea48-48b0-8b57-0bb863293044\" data-root-id=\"p4472\" style=\"display: contents;\"></div>\n",
       "</div>\n",
       "<script type=\"application/javascript\">(function(root) {\n",
       "  var docs_json = {\"06728bcd-2234-4e13-85dd-c5fd28c4b020\":{\"version\":\"3.4.1\",\"title\":\"Bokeh Application\",\"roots\":[{\"type\":\"object\",\"name\":\"Row\",\"id\":\"p4472\",\"attributes\":{\"name\":\"Row09808\",\"tags\":[\"embedded\"],\"stylesheets\":[\"\\n:host(.pn-loading):before, .pn-loading:before {\\n  background-color: #c3c3c3;\\n  mask-size: auto calc(min(50%, 400px));\\n  -webkit-mask-size: auto calc(min(50%, 400px));\\n}\",{\"type\":\"object\",\"name\":\"ImportedStyleSheet\",\"id\":\"p4475\",\"attributes\":{\"url\":\"https://cdn.holoviz.org/panel/1.4.2/dist/css/loading.css\"}},{\"type\":\"object\",\"name\":\"ImportedStyleSheet\",\"id\":\"p4531\",\"attributes\":{\"url\":\"https://cdn.holoviz.org/panel/1.4.2/dist/css/listpanel.css\"}},{\"type\":\"object\",\"name\":\"ImportedStyleSheet\",\"id\":\"p4473\",\"attributes\":{\"url\":\"https://cdn.holoviz.org/panel/1.4.2/dist/bundled/theme/default.css\"}},{\"type\":\"object\",\"name\":\"ImportedStyleSheet\",\"id\":\"p4474\",\"attributes\":{\"url\":\"https://cdn.holoviz.org/panel/1.4.2/dist/bundled/theme/native.css\"}}],\"min_width\":700,\"margin\":0,\"sizing_mode\":\"stretch_width\",\"align\":\"start\",\"children\":[{\"type\":\"object\",\"name\":\"Spacer\",\"id\":\"p4476\",\"attributes\":{\"name\":\"HSpacer09815\",\"stylesheets\":[\"\\n:host(.pn-loading):before, .pn-loading:before {\\n  background-color: #c3c3c3;\\n  mask-size: auto calc(min(50%, 400px));\\n  -webkit-mask-size: auto calc(min(50%, 400px));\\n}\",{\"id\":\"p4475\"},{\"id\":\"p4473\"},{\"id\":\"p4474\"}],\"margin\":0,\"sizing_mode\":\"stretch_width\",\"align\":\"start\"}},{\"type\":\"object\",\"name\":\"Figure\",\"id\":\"p4484\",\"attributes\":{\"width\":700,\"height\":300,\"margin\":[5,10],\"sizing_mode\":\"fixed\",\"align\":\"start\",\"x_range\":{\"type\":\"object\",\"name\":\"Range1d\",\"id\":\"p4477\",\"attributes\":{\"tags\":[[[\"weekday\",\"weekday\",null]],[]],\"start\":0.3715476569666013,\"end\":7.628452343033398,\"reset_start\":0.3715476569666013,\"reset_end\":7.628452343033398}},\"y_range\":{\"type\":\"object\",\"name\":\"Range1d\",\"id\":\"p4478\",\"attributes\":{\"tags\":[[[\"weekday_density\",\"Density\",null]],{\"type\":\"map\",\"entries\":[[\"invert_yaxis\",false],[\"autorange\",false]]}],\"end\":0.3727856644812632,\"reset_start\":0.0,\"reset_end\":0.3727856644812632}},\"x_scale\":{\"type\":\"object\",\"name\":\"LinearScale\",\"id\":\"p4494\"},\"y_scale\":{\"type\":\"object\",\"name\":\"LinearScale\",\"id\":\"p4495\"},\"title\":{\"type\":\"object\",\"name\":\"Title\",\"id\":\"p4487\",\"attributes\":{\"text_color\":\"black\",\"text_font_size\":\"12pt\"}},\"renderers\":[{\"type\":\"object\",\"name\":\"GlyphRenderer\",\"id\":\"p4524\",\"attributes\":{\"data_source\":{\"type\":\"object\",\"name\":\"ColumnDataSource\",\"id\":\"p4515\",\"attributes\":{\"selected\":{\"type\":\"object\",\"name\":\"Selection\",\"id\":\"p4516\",\"attributes\":{\"indices\":[],\"line_indices\":[]}},\"selection_policy\":{\"type\":\"object\",\"name\":\"UnionRenderers\",\"id\":\"p4517\"},\"data\":{\"type\":\"map\",\"entries\":[[\"x\",{\"type\":\"ndarray\",\"array\":{\"type\":\"bytes\",\"data\":\"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\"},\"shape\":[200],\"dtype\":\"float64\",\"order\":\"little\"}],[\"y\",{\"type\":\"ndarray\",\"array\":{\"type\":\"bytes\",\"data\":\"AAAAAAAAAAAAAAAAAAAAAAAAAAAAAAAAAAAAAAAAAAAAAAAAAAAAAAAAAAAAAAAAAAAAAAAAAAAAAAAAAAAAAAAAAAAAAAAAAAAAAAAAAAAAAAAAAAAAAAAAAAAAAAAAAAAAAAAAAAAAAAAAAAAAAAAAAAAAAAAAAAAAAAAAAAAAAAAAAAAAAAAAAAAAAAAAAAAAAAAAAAAAAAAAAAAAAAAAAAAAAAAAAAAAAAAAAAAAAAAAAAAAAAAAAAAAAAAAAAAAAAAAAAAAAAAAAAAAAAAAAAAAAAAAAAAAAAAAAAAAAAAAAAAAAAAAAAAAAAAAAAAAAAAAAAAAAAAAAAAAAAAAAAAAAAAAAAAAAAAAAAAAAAAAAAAAAAAAAAAAAAAAAAAAAAAAAAAAAAAAAAAAAAAAAAAAAAAAAAAAAAAAAAAAAAAAAAAAAAAAAAAAAAAAAAAAAAAAAAAAAAAAAAAAAAAAAAAAAAAAAAAAAAAAAAAAAAAAAAAAAAAAAAAAAAAAAAAAAAAAAAAAAAAAAAAAAAAAAAAAAAAAAAAAAAAAAAAAAAAAAAAAAAAAAAAAAAAAAAAAAAAAAAAAAAAAAAAAAAAAAAAAAAAAAAAAAAAAAAAAAAAAAAAAAAAAAAAAAAAAAAAAAAAAAAAAAAAAAAAAAAAAAAAAAAAAAAAAAAAAAAAAAAAAAAAAAAAAAAAAAAAAAAAAAAAAAAAAAAAAAAAAAAAAAAAAAAAAAAAAAAAAAAAAAAAAAAAAAAAAAAAAAAAAAAAAAAAAAAAAAAAAAAAAAAAAAAAAAAAAAAAAAAAAAAAAAAAAAAAAAAAAAAAAAAAAAAAAAAAAAAAAAAAAAAAAAAAAAAAAAAAAAAAAAAAAAAAAAAAAAAAAAAAAAAAAAAAAAAAAAAAAAAAAAAAAAAAAAAAAAAAAAAAAAAAAAAAAAAAAAAAAAAAAAAAAAAAAAAAAAAAAAAAAAAAAAAAAAAAAAAAAAAAAAAAAAAAAAAAAAAAAAAAAAAAAAAAAAAAAAAAAAAAAAAAAAAAAAAAAAAAAAAAAAAAAAAAAAAAAAAAAAAAnTYRfFjdvP/7twHuT+IQ//oKnaCTumD+BTG4etjiqPwkmwBm+Zrg/jfshHTMXxD/rfJA0M0XNP5BYh0xt3dI/FN5grM+D1T/XfR6MqbXVP0MBit4FYtM/zhLZQCiizj+wzOP1T3XFP7bw9HnG3bo/3H733V9Rrz8N1rrf9RqkP6KExr423qM/oCkwiAIyrj/1vyoYQ0C5PxGvE0m+p8M/p47e7TJYyz+5CDIEY9zQP65W/ixQZ9I/+t/isS/G0T85VemBhGHOPw5nl+ah/cY/Ch7LW5Dqvj/mZ9zLnMyyP/37S6hcfKY/dRuiX9JOoT8jV3dMkxqmP0vJwBd5eLI/6Dn92emVvj/MLz8S4fDGPz+GD0Ysls4/GXaD5k4O0j/eInsyL93SP1j5hoEvcNE/sfmK5eCHzD+FdTwJ+KvEP1S5Z/Czpro/THHuv5FKrz9r/etP45uiP6BWbSYDTJ4/nbaqf2RSpD+5+QCns8mwP4zfZ/v3y7o/UfgVD5RDwz8ajqZk8pbIP4Sn9IrZycs/dFLGOdDJyz//G7rKvJbIPz+o46OzQsM/CamRqIPFuj/EFg4Qr7SwP6+vTKpI2aM/aXT2Epbimz+5ia4CTMefP3kXzctM3ak/hD6Nsl7ctT8cflS0Nu7APz0Sq71IXMc/QWBcBf6NzD/8gbaAlOPOP3Q7sTHGkM0/sz4hc40KyT9Tem70Y8fCP+tEYRI/BLk/TqkQUkYXrj/nEypROKyhPytcO7dLRZo/s6eZWeIsoD+VLtwa/IOqP2Y96LPhtLU/d+/UW8ggwD+WdOM5DU/FPy8l6rGx7sg/OrEBeLTQyT9yFIcM4KbHP1aODaZ4LsM/OhyJ6EqYuz+pTykRjcqxP/mBnIl2qaU/WquV8shsnj/P7nAbxhWhP0+szFtaIaw/9pmEHFd6uD+Gpk36UZvDP+cL5gppAcw/q4s1ktG40T+dNMPmg9nTP2zvexj0q9M/fSScm7A/0T8+JJkjQsPKP7NjDxiVXsI/447nv5VPtj/zhFxhovmnP9SxQItiy5Y/dr9GoaYsgz86ogPzfYpsPw==\"},\"shape\":[200],\"dtype\":\"float64\",\"order\":\"little\"}]]}}},\"view\":{\"type\":\"object\",\"name\":\"CDSView\",\"id\":\"p4525\",\"attributes\":{\"filter\":{\"type\":\"object\",\"name\":\"AllIndices\",\"id\":\"p4526\"}}},\"glyph\":{\"type\":\"object\",\"name\":\"Patch\",\"id\":\"p4521\",\"attributes\":{\"tags\":[\"apply_ranges\"],\"x\":{\"type\":\"field\",\"field\":\"x\"},\"y\":{\"type\":\"field\",\"field\":\"y\"},\"fill_color\":\"#30a2da\",\"fill_alpha\":0.5,\"hatch_color\":\"#30a2da\"}},\"selection_glyph\":{\"type\":\"object\",\"name\":\"Patch\",\"id\":\"p4527\",\"attributes\":{\"tags\":[\"apply_ranges\"],\"x\":{\"type\":\"field\",\"field\":\"x\"},\"y\":{\"type\":\"field\",\"field\":\"y\"},\"fill_color\":\"#30a2da\",\"fill_alpha\":0.5,\"hatch_color\":\"#30a2da\"}},\"nonselection_glyph\":{\"type\":\"object\",\"name\":\"Patch\",\"id\":\"p4522\",\"attributes\":{\"tags\":[\"apply_ranges\"],\"x\":{\"type\":\"field\",\"field\":\"x\"},\"y\":{\"type\":\"field\",\"field\":\"y\"},\"line_alpha\":1,\"fill_color\":\"#30a2da\",\"fill_alpha\":0.5,\"hatch_color\":\"#30a2da\",\"hatch_alpha\":0.1}},\"muted_glyph\":{\"type\":\"object\",\"name\":\"Patch\",\"id\":\"p4523\",\"attributes\":{\"tags\":[\"apply_ranges\"],\"x\":{\"type\":\"field\",\"field\":\"x\"},\"y\":{\"type\":\"field\",\"field\":\"y\"},\"line_alpha\":0.2,\"fill_color\":\"#30a2da\",\"fill_alpha\":0.2,\"hatch_color\":\"#30a2da\",\"hatch_alpha\":0.2}}}}],\"toolbar\":{\"type\":\"object\",\"name\":\"Toolbar\",\"id\":\"p4493\",\"attributes\":{\"tools\":[{\"type\":\"object\",\"name\":\"WheelZoomTool\",\"id\":\"p4482\",\"attributes\":{\"tags\":[\"hv_created\"],\"renderers\":\"auto\",\"zoom_together\":\"none\"}},{\"type\":\"object\",\"name\":\"HoverTool\",\"id\":\"p4483\",\"attributes\":{\"tags\":[\"hv_created\"],\"renderers\":[{\"id\":\"p4524\"}],\"tooltips\":[[\"weekday\",\"@{weekday}\"],[\"Density\",\"@{weekday_density}\"]]}},{\"type\":\"object\",\"name\":\"SaveTool\",\"id\":\"p4506\"},{\"type\":\"object\",\"name\":\"PanTool\",\"id\":\"p4507\"},{\"type\":\"object\",\"name\":\"BoxZoomTool\",\"id\":\"p4508\",\"attributes\":{\"overlay\":{\"type\":\"object\",\"name\":\"BoxAnnotation\",\"id\":\"p4509\",\"attributes\":{\"syncable\":false,\"level\":\"overlay\",\"visible\":false,\"left\":{\"type\":\"number\",\"value\":\"nan\"},\"right\":{\"type\":\"number\",\"value\":\"nan\"},\"top\":{\"type\":\"number\",\"value\":\"nan\"},\"bottom\":{\"type\":\"number\",\"value\":\"nan\"},\"left_units\":\"canvas\",\"right_units\":\"canvas\",\"top_units\":\"canvas\",\"bottom_units\":\"canvas\",\"line_color\":\"black\",\"line_alpha\":1.0,\"line_width\":2,\"line_dash\":[4,4],\"fill_color\":\"lightgrey\",\"fill_alpha\":0.5}}}},{\"type\":\"object\",\"name\":\"ResetTool\",\"id\":\"p4514\"}],\"active_drag\":{\"id\":\"p4507\"},\"active_scroll\":{\"id\":\"p4482\"}}},\"left\":[{\"type\":\"object\",\"name\":\"LinearAxis\",\"id\":\"p4501\",\"attributes\":{\"ticker\":{\"type\":\"object\",\"name\":\"BasicTicker\",\"id\":\"p4502\",\"attributes\":{\"mantissas\":[1,2,5]}},\"formatter\":{\"type\":\"object\",\"name\":\"BasicTickFormatter\",\"id\":\"p4503\"},\"axis_label\":\"Density\",\"major_label_policy\":{\"type\":\"object\",\"name\":\"AllLabels\",\"id\":\"p4504\"}}}],\"below\":[{\"type\":\"object\",\"name\":\"LinearAxis\",\"id\":\"p4496\",\"attributes\":{\"ticker\":{\"type\":\"object\",\"name\":\"BasicTicker\",\"id\":\"p4497\",\"attributes\":{\"mantissas\":[1,2,5]}},\"formatter\":{\"type\":\"object\",\"name\":\"BasicTickFormatter\",\"id\":\"p4498\"},\"axis_label\":\"weekday\",\"major_label_policy\":{\"type\":\"object\",\"name\":\"AllLabels\",\"id\":\"p4499\"}}}],\"center\":[{\"type\":\"object\",\"name\":\"Grid\",\"id\":\"p4500\",\"attributes\":{\"axis\":{\"id\":\"p4496\"},\"grid_line_color\":null}},{\"type\":\"object\",\"name\":\"Grid\",\"id\":\"p4505\",\"attributes\":{\"dimension\":1,\"axis\":{\"id\":\"p4501\"},\"grid_line_color\":null}}],\"min_border_top\":10,\"min_border_bottom\":10,\"min_border_left\":10,\"min_border_right\":10,\"output_backend\":\"webgl\"}},{\"type\":\"object\",\"name\":\"Spacer\",\"id\":\"p4529\",\"attributes\":{\"name\":\"HSpacer09816\",\"stylesheets\":[\"\\n:host(.pn-loading):before, .pn-loading:before {\\n  background-color: #c3c3c3;\\n  mask-size: auto calc(min(50%, 400px));\\n  -webkit-mask-size: auto calc(min(50%, 400px));\\n}\",{\"id\":\"p4475\"},{\"id\":\"p4473\"},{\"id\":\"p4474\"}],\"margin\":0,\"sizing_mode\":\"stretch_width\",\"align\":\"start\"}}]}}],\"defs\":[{\"type\":\"model\",\"name\":\"ReactiveHTML1\"},{\"type\":\"model\",\"name\":\"FlexBox1\",\"properties\":[{\"name\":\"align_content\",\"kind\":\"Any\",\"default\":\"flex-start\"},{\"name\":\"align_items\",\"kind\":\"Any\",\"default\":\"flex-start\"},{\"name\":\"flex_direction\",\"kind\":\"Any\",\"default\":\"row\"},{\"name\":\"flex_wrap\",\"kind\":\"Any\",\"default\":\"wrap\"},{\"name\":\"gap\",\"kind\":\"Any\",\"default\":\"\"},{\"name\":\"justify_content\",\"kind\":\"Any\",\"default\":\"flex-start\"}]},{\"type\":\"model\",\"name\":\"FloatPanel1\",\"properties\":[{\"name\":\"config\",\"kind\":\"Any\",\"default\":{\"type\":\"map\"}},{\"name\":\"contained\",\"kind\":\"Any\",\"default\":true},{\"name\":\"position\",\"kind\":\"Any\",\"default\":\"right-top\"},{\"name\":\"offsetx\",\"kind\":\"Any\",\"default\":null},{\"name\":\"offsety\",\"kind\":\"Any\",\"default\":null},{\"name\":\"theme\",\"kind\":\"Any\",\"default\":\"primary\"},{\"name\":\"status\",\"kind\":\"Any\",\"default\":\"normalized\"}]},{\"type\":\"model\",\"name\":\"GridStack1\",\"properties\":[{\"name\":\"mode\",\"kind\":\"Any\",\"default\":\"warn\"},{\"name\":\"ncols\",\"kind\":\"Any\",\"default\":null},{\"name\":\"nrows\",\"kind\":\"Any\",\"default\":null},{\"name\":\"allow_resize\",\"kind\":\"Any\",\"default\":true},{\"name\":\"allow_drag\",\"kind\":\"Any\",\"default\":true},{\"name\":\"state\",\"kind\":\"Any\",\"default\":[]}]},{\"type\":\"model\",\"name\":\"drag1\",\"properties\":[{\"name\":\"slider_width\",\"kind\":\"Any\",\"default\":5},{\"name\":\"slider_color\",\"kind\":\"Any\",\"default\":\"black\"},{\"name\":\"value\",\"kind\":\"Any\",\"default\":50}]},{\"type\":\"model\",\"name\":\"click1\",\"properties\":[{\"name\":\"terminal_output\",\"kind\":\"Any\",\"default\":\"\"},{\"name\":\"debug_name\",\"kind\":\"Any\",\"default\":\"\"},{\"name\":\"clears\",\"kind\":\"Any\",\"default\":0}]},{\"type\":\"model\",\"name\":\"FastWrapper1\",\"properties\":[{\"name\":\"object\",\"kind\":\"Any\",\"default\":null},{\"name\":\"style\",\"kind\":\"Any\",\"default\":null}]},{\"type\":\"model\",\"name\":\"NotificationAreaBase1\",\"properties\":[{\"name\":\"js_events\",\"kind\":\"Any\",\"default\":{\"type\":\"map\"}},{\"name\":\"position\",\"kind\":\"Any\",\"default\":\"bottom-right\"},{\"name\":\"_clear\",\"kind\":\"Any\",\"default\":0}]},{\"type\":\"model\",\"name\":\"NotificationArea1\",\"properties\":[{\"name\":\"js_events\",\"kind\":\"Any\",\"default\":{\"type\":\"map\"}},{\"name\":\"notifications\",\"kind\":\"Any\",\"default\":[]},{\"name\":\"position\",\"kind\":\"Any\",\"default\":\"bottom-right\"},{\"name\":\"_clear\",\"kind\":\"Any\",\"default\":0},{\"name\":\"types\",\"kind\":\"Any\",\"default\":[{\"type\":\"map\",\"entries\":[[\"type\",\"warning\"],[\"background\",\"#ffc107\"],[\"icon\",{\"type\":\"map\",\"entries\":[[\"className\",\"fas fa-exclamation-triangle\"],[\"tagName\",\"i\"],[\"color\",\"white\"]]}]]},{\"type\":\"map\",\"entries\":[[\"type\",\"info\"],[\"background\",\"#007bff\"],[\"icon\",{\"type\":\"map\",\"entries\":[[\"className\",\"fas fa-info-circle\"],[\"tagName\",\"i\"],[\"color\",\"white\"]]}]]}]}]},{\"type\":\"model\",\"name\":\"Notification\",\"properties\":[{\"name\":\"background\",\"kind\":\"Any\",\"default\":null},{\"name\":\"duration\",\"kind\":\"Any\",\"default\":3000},{\"name\":\"icon\",\"kind\":\"Any\",\"default\":null},{\"name\":\"message\",\"kind\":\"Any\",\"default\":\"\"},{\"name\":\"notification_type\",\"kind\":\"Any\",\"default\":null},{\"name\":\"_destroyed\",\"kind\":\"Any\",\"default\":false}]},{\"type\":\"model\",\"name\":\"TemplateActions1\",\"properties\":[{\"name\":\"open_modal\",\"kind\":\"Any\",\"default\":0},{\"name\":\"close_modal\",\"kind\":\"Any\",\"default\":0}]},{\"type\":\"model\",\"name\":\"BootstrapTemplateActions1\",\"properties\":[{\"name\":\"open_modal\",\"kind\":\"Any\",\"default\":0},{\"name\":\"close_modal\",\"kind\":\"Any\",\"default\":0}]},{\"type\":\"model\",\"name\":\"TemplateEditor1\",\"properties\":[{\"name\":\"layout\",\"kind\":\"Any\",\"default\":[]}]},{\"type\":\"model\",\"name\":\"MaterialTemplateActions1\",\"properties\":[{\"name\":\"open_modal\",\"kind\":\"Any\",\"default\":0},{\"name\":\"close_modal\",\"kind\":\"Any\",\"default\":0}]},{\"type\":\"model\",\"name\":\"copy_to_clipboard1\",\"properties\":[{\"name\":\"fill\",\"kind\":\"Any\",\"default\":\"none\"},{\"name\":\"value\",\"kind\":\"Any\",\"default\":null}]}]}};\n",
       "  var render_items = [{\"docid\":\"06728bcd-2234-4e13-85dd-c5fd28c4b020\",\"roots\":{\"p4472\":\"fd21d52f-ea48-48b0-8b57-0bb863293044\"},\"root_ids\":[\"p4472\"]}];\n",
       "  var docs = Object.values(docs_json)\n",
       "  if (!docs) {\n",
       "    return\n",
       "  }\n",
       "  const py_version = docs[0].version.replace('rc', '-rc.').replace('.dev', '-dev.')\n",
       "  function embed_document(root) {\n",
       "    var Bokeh = get_bokeh(root)\n",
       "    Bokeh.embed.embed_items_notebook(docs_json, render_items);\n",
       "    for (const render_item of render_items) {\n",
       "      for (const root_id of render_item.root_ids) {\n",
       "\tconst id_el = document.getElementById(root_id)\n",
       "\tif (id_el.children.length && (id_el.children[0].className === 'bk-root')) {\n",
       "\t  const root_el = id_el.children[0]\n",
       "\t  root_el.id = root_el.id + '-rendered'\n",
       "\t}\n",
       "      }\n",
       "    }\n",
       "  }\n",
       "  function get_bokeh(root) {\n",
       "    if (root.Bokeh === undefined) {\n",
       "      return null\n",
       "    } else if (root.Bokeh.version !== py_version) {\n",
       "      if (root.Bokeh.versions === undefined || !root.Bokeh.versions.has(py_version)) {\n",
       "\treturn null\n",
       "      }\n",
       "      return root.Bokeh.versions.get(py_version);\n",
       "    } else if (root.Bokeh.version === py_version) {\n",
       "      return root.Bokeh\n",
       "    }\n",
       "    return null\n",
       "  }\n",
       "  function is_loaded(root) {\n",
       "    var Bokeh = get_bokeh(root)\n",
       "    return (Bokeh != null && Bokeh.Panel !== undefined)\n",
       "  }\n",
       "  if (is_loaded(root)) {\n",
       "    embed_document(root);\n",
       "  } else {\n",
       "    var attempts = 0;\n",
       "    var timer = setInterval(function(root) {\n",
       "      if (is_loaded(root)) {\n",
       "        clearInterval(timer);\n",
       "        embed_document(root);\n",
       "      } else if (document.readyState == \"complete\") {\n",
       "        attempts++;\n",
       "        if (attempts > 200) {\n",
       "          clearInterval(timer);\n",
       "\t  var Bokeh = get_bokeh(root)\n",
       "\t  if (Bokeh == null || Bokeh.Panel == null) {\n",
       "            console.warn(\"Panel: ERROR: Unable to run Panel code because Bokeh or Panel library is missing\");\n",
       "\t  } else {\n",
       "\t    console.warn(\"Panel: WARNING: Attempting to render but not all required libraries could be resolved.\")\n",
       "\t    embed_document(root)\n",
       "\t  }\n",
       "        }\n",
       "      }\n",
       "    }, 25, root)\n",
       "  }\n",
       "})(window);</script>"
      ],
      "text/plain": [
       ":Distribution   [weekday]   (Density)"
      ]
     },
     "execution_count": 466,
     "metadata": {
      "application/vnd.holoviews_exec.v0+json": {
       "id": "p4472"
      }
     },
     "output_type": "execute_result"
    }
   ],
   "source": [
    "df_with_features['weekday'].plot.kde()"
   ]
  },
  {
   "cell_type": "code",
   "execution_count": 467,
   "id": "6ed4809b-bae7-40da-9d85-4ac0078a5e6d",
   "metadata": {},
   "outputs": [
    {
     "data": {},
     "metadata": {},
     "output_type": "display_data"
    },
    {
     "data": {
      "application/vnd.holoviews_exec.v0+json": "",
      "text/html": [
       "<div id='p4535'>\n",
       "  <div id=\"bdcad199-6a99-4a1a-ad39-08e89d95c0c4\" data-root-id=\"p4535\" style=\"display: contents;\"></div>\n",
       "</div>\n",
       "<script type=\"application/javascript\">(function(root) {\n",
       "  var docs_json = {\"16786c54-5f7a-49b5-95b9-513d312e076d\":{\"version\":\"3.4.1\",\"title\":\"Bokeh Application\",\"roots\":[{\"type\":\"object\",\"name\":\"Row\",\"id\":\"p4535\",\"attributes\":{\"name\":\"Row09972\",\"tags\":[\"embedded\"],\"stylesheets\":[\"\\n:host(.pn-loading):before, .pn-loading:before {\\n  background-color: #c3c3c3;\\n  mask-size: auto calc(min(50%, 400px));\\n  -webkit-mask-size: auto calc(min(50%, 400px));\\n}\",{\"type\":\"object\",\"name\":\"ImportedStyleSheet\",\"id\":\"p4538\",\"attributes\":{\"url\":\"https://cdn.holoviz.org/panel/1.4.2/dist/css/loading.css\"}},{\"type\":\"object\",\"name\":\"ImportedStyleSheet\",\"id\":\"p4594\",\"attributes\":{\"url\":\"https://cdn.holoviz.org/panel/1.4.2/dist/css/listpanel.css\"}},{\"type\":\"object\",\"name\":\"ImportedStyleSheet\",\"id\":\"p4536\",\"attributes\":{\"url\":\"https://cdn.holoviz.org/panel/1.4.2/dist/bundled/theme/default.css\"}},{\"type\":\"object\",\"name\":\"ImportedStyleSheet\",\"id\":\"p4537\",\"attributes\":{\"url\":\"https://cdn.holoviz.org/panel/1.4.2/dist/bundled/theme/native.css\"}}],\"min_width\":700,\"margin\":0,\"sizing_mode\":\"stretch_width\",\"align\":\"start\",\"children\":[{\"type\":\"object\",\"name\":\"Spacer\",\"id\":\"p4539\",\"attributes\":{\"name\":\"HSpacer09979\",\"stylesheets\":[\"\\n:host(.pn-loading):before, .pn-loading:before {\\n  background-color: #c3c3c3;\\n  mask-size: auto calc(min(50%, 400px));\\n  -webkit-mask-size: auto calc(min(50%, 400px));\\n}\",{\"id\":\"p4538\"},{\"id\":\"p4536\"},{\"id\":\"p4537\"}],\"margin\":0,\"sizing_mode\":\"stretch_width\",\"align\":\"start\"}},{\"type\":\"object\",\"name\":\"Figure\",\"id\":\"p4547\",\"attributes\":{\"width\":700,\"height\":300,\"margin\":[5,10],\"sizing_mode\":\"fixed\",\"align\":\"start\",\"x_range\":{\"type\":\"object\",\"name\":\"Range1d\",\"id\":\"p4540\",\"attributes\":{\"tags\":[[[\"time_in_min\",\"time_in_min\",null]],[]],\"start\":-0.49564446494724024,\"end\":839.4956444649472,\"reset_start\":-0.49564446494724024,\"reset_end\":839.4956444649472}},\"y_range\":{\"type\":\"object\",\"name\":\"Range1d\",\"id\":\"p4541\",\"attributes\":{\"tags\":[[[\"time_in_min_density\",\"Density\",null]],{\"type\":\"map\",\"entries\":[[\"invert_yaxis\",false],[\"autorange\",false]]}],\"end\":0.0017855893780792463,\"reset_start\":0.0,\"reset_end\":0.0017855893780792463}},\"x_scale\":{\"type\":\"object\",\"name\":\"LinearScale\",\"id\":\"p4557\"},\"y_scale\":{\"type\":\"object\",\"name\":\"LinearScale\",\"id\":\"p4558\"},\"title\":{\"type\":\"object\",\"name\":\"Title\",\"id\":\"p4550\",\"attributes\":{\"text_color\":\"black\",\"text_font_size\":\"12pt\"}},\"renderers\":[{\"type\":\"object\",\"name\":\"GlyphRenderer\",\"id\":\"p4587\",\"attributes\":{\"data_source\":{\"type\":\"object\",\"name\":\"ColumnDataSource\",\"id\":\"p4578\",\"attributes\":{\"selected\":{\"type\":\"object\",\"name\":\"Selection\",\"id\":\"p4579\",\"attributes\":{\"indices\":[],\"line_indices\":[]}},\"selection_policy\":{\"type\":\"object\",\"name\":\"UnionRenderers\",\"id\":\"p4580\"},\"data\":{\"type\":\"map\",\"entries\":[[\"x\",{\"type\":\"ndarray\",\"array\":{\"type\":\"bytes\",\"data\":\"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\"},\"shape\":[200],\"dtype\":\"float64\",\"order\":\"little\"}],[\"y\",{\"type\":\"ndarray\",\"array\":{\"type\":\"bytes\",\"data\":\"AAAAAAAAAAAAAAAAAAAAAAAAAAAAAAAAAAAAAAAAAAAAAAAAAAAAAAAAAAAAAAAAAAAAAAAAAAAAAAAAAAAAAAAAAAAAAAAAAAAAAAAAAAAAAAAAAAAAAAAAAAAAAAAAAAAAAAAAAAAAAAAAAAAAAAAAAAAAAAAAAAAAAAAAAAAAAAAAAAAAAAAAAAAAAAAAAAAAAAAAAAAAAAAAAAAAAAAAAAAAAAAAAAAAAAAAAAAAAAAAAAAAAAAAAAAAAAAAAAAAAAAAAAAAAAAAAAAAAAAAAAAAAAAAAAAAAAAAAAAAAAAAAAAAAAAAAAAAAAAAAAAAAAAAAAAAAAAAAAAAAAAAAAAAAAAAAAAAAAAAAAAAAAAAAAAAAAAAAAAAAAAAAAAAAAAAAAAAAAAAAAAAAAAAAAAAAAAAAAAAAAAAAAAAAAAAAAAAAAAAAAAAAAAAAAAAAAAAAAAAAAAAAAAAAAAAAAAAAAAAAAAAAAAAAAAAAAAAAAAAAAAAAAAAAAAAAAAAAAAAAAAAAAAAAAAAAAAAAAAAAAAAAAAAAAAAAAAAAAAAAAAAAAAAAAAAAAAAAAAAAAAAAAAAAAAAAAAAAAAAAAAAAAAAAAAAAAAAAAAAAAAAAAAAAAAAAAAAAAAAAAAAAAAAAAAAAAAAAAAAAAAAAAAAAAAAAAAAAAAAAAAAAAAAAAAAAAAAAAAAAAAAAAAAAAAAAAAAAAAAAAAAAAAAAAAAAAAAAAAAAAAAAAAAAAAAAAAAAAAAAAAAAAAAAAAAAAAAAAAAAAAAAAAAAAAAAAAAAAAAAAAAAAAAAAAAAAAAAAAAAAAAAAAAAAAAAAAAAAAAAAAAAAAAAAAAAAAAAAAAAAAAAAAAAAAAAAAAAAAAAAAAAAAAAAAAAAAAAAAAAAAAAAAAAAAAAAAAAAAAAAAAAAAAAAAAAAAAAAAAAAAAAAAAAAAAAAAAAAAAAAAAAAAAAAAAAAAAAAAAAAAAAAAAAAAAAAAAAAAAAAAAAAAAAAAAAAAAAAAAAAAAAAAAAAAAAAAAAAAAAAAAAAAAAAAAAAAAAAAAAAAAAAAd63XezYS+PsjLai5DtNs+4JrLCwNg9T6x6kS9uCEMP/nzUmCfuR8/N8KbcGnZLj8gLsDY5hU6P33OlIX6ZkM/aG3bE4HIST+drrydcTtPPxeleJi7rFE/9ZL6srUwUz9Y0OC1u21UP3k10p43kFU/IMcnH9aSVj/RXa1oZVJXPzQXxVhzs1c/H4sJIMK2Vz8SyAWSQ3NXP73R4dcoBlc/iQ8dgSSKVj8SdzjNqhVWP0fJngizt1U/BhBAOP9zVT8mtuun2kZVP5K42foTL1U/noHaGkU0VT+soM01cWVVP2TqIKJw01U/loKKA0uIVj8DTPPTontXP8oaKx5ti1g/zJMpXraCWT/93OI0Ky5aP0cnrglJclo/Tu5wXHBWWj96pMvOFgFaP4cYAMe3qFk/+eM/S5Z+WT/CP/ihO5pZP+zpsd+c71k/B3uT/a1VWj/ps1OvF5laP5Ej4Do7klo/tR/WASs3Wj8Fj4ZCq6BZP8xW9Uw6+Vg/OO5lJotcWD/0XLtO78NXP0aZBXUsGFc/Gbw8PI5aVj+ahgjzwLdVPw0ltRbaalU/AtsLmvGLVT8Ddxuqgf1VP+Db/JdtilY/hG8qMasTVz+vjdrj4p9XPybaBuSOQVg/1OknRhbxWD+Qsr2XAYBZP8PNrfUBr1k/NxKs+7FRWT8rHPr76GVYP0Up0qpgFlc/DCPgLYGvVT/dSL1qJ4xUP61+OhaN+lM/4XfDp5ocVD/CUeiEJNFUPynQ4NISuVU/FS+68PpgVj/2RCb2Ln5WPwe/IrbbGVY/tfm2D/aLVT90aB1Pf0dVPzYKjOPIl1U/tF1pC9h1Vj+9tUAJwYxXP3r+0X/zZ1g/C87XUAyvWD+63e8VgUxYP7HJp181a1c/xWxIUdJSVj8GSvwqwT9VPwz93BZgT1Q/3Nrm382AUz/fEjecOrpSP4JNRV6aylE/0ys5Y2JxUD9sDl7tNvFMP9Egl1bWtUc/TgwnuHGzQT8+lk7spKY3Pz0uylbN3Ss/xQH6P1efHD+JJeznb2cJPwQwiWujWvM+x2QhjIMv2T45k2oSTuK7Pg==\"},\"shape\":[200],\"dtype\":\"float64\",\"order\":\"little\"}]]}}},\"view\":{\"type\":\"object\",\"name\":\"CDSView\",\"id\":\"p4588\",\"attributes\":{\"filter\":{\"type\":\"object\",\"name\":\"AllIndices\",\"id\":\"p4589\"}}},\"glyph\":{\"type\":\"object\",\"name\":\"Patch\",\"id\":\"p4584\",\"attributes\":{\"tags\":[\"apply_ranges\"],\"x\":{\"type\":\"field\",\"field\":\"x\"},\"y\":{\"type\":\"field\",\"field\":\"y\"},\"fill_color\":\"#30a2da\",\"fill_alpha\":0.5,\"hatch_color\":\"#30a2da\"}},\"selection_glyph\":{\"type\":\"object\",\"name\":\"Patch\",\"id\":\"p4590\",\"attributes\":{\"tags\":[\"apply_ranges\"],\"x\":{\"type\":\"field\",\"field\":\"x\"},\"y\":{\"type\":\"field\",\"field\":\"y\"},\"fill_color\":\"#30a2da\",\"fill_alpha\":0.5,\"hatch_color\":\"#30a2da\"}},\"nonselection_glyph\":{\"type\":\"object\",\"name\":\"Patch\",\"id\":\"p4585\",\"attributes\":{\"tags\":[\"apply_ranges\"],\"x\":{\"type\":\"field\",\"field\":\"x\"},\"y\":{\"type\":\"field\",\"field\":\"y\"},\"line_alpha\":1,\"fill_color\":\"#30a2da\",\"fill_alpha\":0.5,\"hatch_color\":\"#30a2da\",\"hatch_alpha\":0.1}},\"muted_glyph\":{\"type\":\"object\",\"name\":\"Patch\",\"id\":\"p4586\",\"attributes\":{\"tags\":[\"apply_ranges\"],\"x\":{\"type\":\"field\",\"field\":\"x\"},\"y\":{\"type\":\"field\",\"field\":\"y\"},\"line_alpha\":0.2,\"fill_color\":\"#30a2da\",\"fill_alpha\":0.2,\"hatch_color\":\"#30a2da\",\"hatch_alpha\":0.2}}}}],\"toolbar\":{\"type\":\"object\",\"name\":\"Toolbar\",\"id\":\"p4556\",\"attributes\":{\"tools\":[{\"type\":\"object\",\"name\":\"WheelZoomTool\",\"id\":\"p4545\",\"attributes\":{\"tags\":[\"hv_created\"],\"renderers\":\"auto\",\"zoom_together\":\"none\"}},{\"type\":\"object\",\"name\":\"HoverTool\",\"id\":\"p4546\",\"attributes\":{\"tags\":[\"hv_created\"],\"renderers\":[{\"id\":\"p4587\"}],\"tooltips\":[[\"time_in_min\",\"@{time_in_min}\"],[\"Density\",\"@{time_in_min_density}\"]]}},{\"type\":\"object\",\"name\":\"SaveTool\",\"id\":\"p4569\"},{\"type\":\"object\",\"name\":\"PanTool\",\"id\":\"p4570\"},{\"type\":\"object\",\"name\":\"BoxZoomTool\",\"id\":\"p4571\",\"attributes\":{\"overlay\":{\"type\":\"object\",\"name\":\"BoxAnnotation\",\"id\":\"p4572\",\"attributes\":{\"syncable\":false,\"level\":\"overlay\",\"visible\":false,\"left\":{\"type\":\"number\",\"value\":\"nan\"},\"right\":{\"type\":\"number\",\"value\":\"nan\"},\"top\":{\"type\":\"number\",\"value\":\"nan\"},\"bottom\":{\"type\":\"number\",\"value\":\"nan\"},\"left_units\":\"canvas\",\"right_units\":\"canvas\",\"top_units\":\"canvas\",\"bottom_units\":\"canvas\",\"line_color\":\"black\",\"line_alpha\":1.0,\"line_width\":2,\"line_dash\":[4,4],\"fill_color\":\"lightgrey\",\"fill_alpha\":0.5}}}},{\"type\":\"object\",\"name\":\"ResetTool\",\"id\":\"p4577\"}],\"active_drag\":{\"id\":\"p4570\"},\"active_scroll\":{\"id\":\"p4545\"}}},\"left\":[{\"type\":\"object\",\"name\":\"LinearAxis\",\"id\":\"p4564\",\"attributes\":{\"ticker\":{\"type\":\"object\",\"name\":\"BasicTicker\",\"id\":\"p4565\",\"attributes\":{\"mantissas\":[1,2,5]}},\"formatter\":{\"type\":\"object\",\"name\":\"BasicTickFormatter\",\"id\":\"p4566\"},\"axis_label\":\"Density\",\"major_label_policy\":{\"type\":\"object\",\"name\":\"AllLabels\",\"id\":\"p4567\"}}}],\"below\":[{\"type\":\"object\",\"name\":\"LinearAxis\",\"id\":\"p4559\",\"attributes\":{\"ticker\":{\"type\":\"object\",\"name\":\"BasicTicker\",\"id\":\"p4560\",\"attributes\":{\"mantissas\":[1,2,5]}},\"formatter\":{\"type\":\"object\",\"name\":\"BasicTickFormatter\",\"id\":\"p4561\"},\"axis_label\":\"time_in_min\",\"major_label_policy\":{\"type\":\"object\",\"name\":\"AllLabels\",\"id\":\"p4562\"}}}],\"center\":[{\"type\":\"object\",\"name\":\"Grid\",\"id\":\"p4563\",\"attributes\":{\"axis\":{\"id\":\"p4559\"},\"grid_line_color\":null}},{\"type\":\"object\",\"name\":\"Grid\",\"id\":\"p4568\",\"attributes\":{\"dimension\":1,\"axis\":{\"id\":\"p4564\"},\"grid_line_color\":null}}],\"min_border_top\":10,\"min_border_bottom\":10,\"min_border_left\":10,\"min_border_right\":10,\"output_backend\":\"webgl\"}},{\"type\":\"object\",\"name\":\"Spacer\",\"id\":\"p4592\",\"attributes\":{\"name\":\"HSpacer09980\",\"stylesheets\":[\"\\n:host(.pn-loading):before, .pn-loading:before {\\n  background-color: #c3c3c3;\\n  mask-size: auto calc(min(50%, 400px));\\n  -webkit-mask-size: auto calc(min(50%, 400px));\\n}\",{\"id\":\"p4538\"},{\"id\":\"p4536\"},{\"id\":\"p4537\"}],\"margin\":0,\"sizing_mode\":\"stretch_width\",\"align\":\"start\"}}]}}],\"defs\":[{\"type\":\"model\",\"name\":\"ReactiveHTML1\"},{\"type\":\"model\",\"name\":\"FlexBox1\",\"properties\":[{\"name\":\"align_content\",\"kind\":\"Any\",\"default\":\"flex-start\"},{\"name\":\"align_items\",\"kind\":\"Any\",\"default\":\"flex-start\"},{\"name\":\"flex_direction\",\"kind\":\"Any\",\"default\":\"row\"},{\"name\":\"flex_wrap\",\"kind\":\"Any\",\"default\":\"wrap\"},{\"name\":\"gap\",\"kind\":\"Any\",\"default\":\"\"},{\"name\":\"justify_content\",\"kind\":\"Any\",\"default\":\"flex-start\"}]},{\"type\":\"model\",\"name\":\"FloatPanel1\",\"properties\":[{\"name\":\"config\",\"kind\":\"Any\",\"default\":{\"type\":\"map\"}},{\"name\":\"contained\",\"kind\":\"Any\",\"default\":true},{\"name\":\"position\",\"kind\":\"Any\",\"default\":\"right-top\"},{\"name\":\"offsetx\",\"kind\":\"Any\",\"default\":null},{\"name\":\"offsety\",\"kind\":\"Any\",\"default\":null},{\"name\":\"theme\",\"kind\":\"Any\",\"default\":\"primary\"},{\"name\":\"status\",\"kind\":\"Any\",\"default\":\"normalized\"}]},{\"type\":\"model\",\"name\":\"GridStack1\",\"properties\":[{\"name\":\"mode\",\"kind\":\"Any\",\"default\":\"warn\"},{\"name\":\"ncols\",\"kind\":\"Any\",\"default\":null},{\"name\":\"nrows\",\"kind\":\"Any\",\"default\":null},{\"name\":\"allow_resize\",\"kind\":\"Any\",\"default\":true},{\"name\":\"allow_drag\",\"kind\":\"Any\",\"default\":true},{\"name\":\"state\",\"kind\":\"Any\",\"default\":[]}]},{\"type\":\"model\",\"name\":\"drag1\",\"properties\":[{\"name\":\"slider_width\",\"kind\":\"Any\",\"default\":5},{\"name\":\"slider_color\",\"kind\":\"Any\",\"default\":\"black\"},{\"name\":\"value\",\"kind\":\"Any\",\"default\":50}]},{\"type\":\"model\",\"name\":\"click1\",\"properties\":[{\"name\":\"terminal_output\",\"kind\":\"Any\",\"default\":\"\"},{\"name\":\"debug_name\",\"kind\":\"Any\",\"default\":\"\"},{\"name\":\"clears\",\"kind\":\"Any\",\"default\":0}]},{\"type\":\"model\",\"name\":\"FastWrapper1\",\"properties\":[{\"name\":\"object\",\"kind\":\"Any\",\"default\":null},{\"name\":\"style\",\"kind\":\"Any\",\"default\":null}]},{\"type\":\"model\",\"name\":\"NotificationAreaBase1\",\"properties\":[{\"name\":\"js_events\",\"kind\":\"Any\",\"default\":{\"type\":\"map\"}},{\"name\":\"position\",\"kind\":\"Any\",\"default\":\"bottom-right\"},{\"name\":\"_clear\",\"kind\":\"Any\",\"default\":0}]},{\"type\":\"model\",\"name\":\"NotificationArea1\",\"properties\":[{\"name\":\"js_events\",\"kind\":\"Any\",\"default\":{\"type\":\"map\"}},{\"name\":\"notifications\",\"kind\":\"Any\",\"default\":[]},{\"name\":\"position\",\"kind\":\"Any\",\"default\":\"bottom-right\"},{\"name\":\"_clear\",\"kind\":\"Any\",\"default\":0},{\"name\":\"types\",\"kind\":\"Any\",\"default\":[{\"type\":\"map\",\"entries\":[[\"type\",\"warning\"],[\"background\",\"#ffc107\"],[\"icon\",{\"type\":\"map\",\"entries\":[[\"className\",\"fas fa-exclamation-triangle\"],[\"tagName\",\"i\"],[\"color\",\"white\"]]}]]},{\"type\":\"map\",\"entries\":[[\"type\",\"info\"],[\"background\",\"#007bff\"],[\"icon\",{\"type\":\"map\",\"entries\":[[\"className\",\"fas fa-info-circle\"],[\"tagName\",\"i\"],[\"color\",\"white\"]]}]]}]}]},{\"type\":\"model\",\"name\":\"Notification\",\"properties\":[{\"name\":\"background\",\"kind\":\"Any\",\"default\":null},{\"name\":\"duration\",\"kind\":\"Any\",\"default\":3000},{\"name\":\"icon\",\"kind\":\"Any\",\"default\":null},{\"name\":\"message\",\"kind\":\"Any\",\"default\":\"\"},{\"name\":\"notification_type\",\"kind\":\"Any\",\"default\":null},{\"name\":\"_destroyed\",\"kind\":\"Any\",\"default\":false}]},{\"type\":\"model\",\"name\":\"TemplateActions1\",\"properties\":[{\"name\":\"open_modal\",\"kind\":\"Any\",\"default\":0},{\"name\":\"close_modal\",\"kind\":\"Any\",\"default\":0}]},{\"type\":\"model\",\"name\":\"BootstrapTemplateActions1\",\"properties\":[{\"name\":\"open_modal\",\"kind\":\"Any\",\"default\":0},{\"name\":\"close_modal\",\"kind\":\"Any\",\"default\":0}]},{\"type\":\"model\",\"name\":\"TemplateEditor1\",\"properties\":[{\"name\":\"layout\",\"kind\":\"Any\",\"default\":[]}]},{\"type\":\"model\",\"name\":\"MaterialTemplateActions1\",\"properties\":[{\"name\":\"open_modal\",\"kind\":\"Any\",\"default\":0},{\"name\":\"close_modal\",\"kind\":\"Any\",\"default\":0}]},{\"type\":\"model\",\"name\":\"copy_to_clipboard1\",\"properties\":[{\"name\":\"fill\",\"kind\":\"Any\",\"default\":\"none\"},{\"name\":\"value\",\"kind\":\"Any\",\"default\":null}]}]}};\n",
       "  var render_items = [{\"docid\":\"16786c54-5f7a-49b5-95b9-513d312e076d\",\"roots\":{\"p4535\":\"bdcad199-6a99-4a1a-ad39-08e89d95c0c4\"},\"root_ids\":[\"p4535\"]}];\n",
       "  var docs = Object.values(docs_json)\n",
       "  if (!docs) {\n",
       "    return\n",
       "  }\n",
       "  const py_version = docs[0].version.replace('rc', '-rc.').replace('.dev', '-dev.')\n",
       "  function embed_document(root) {\n",
       "    var Bokeh = get_bokeh(root)\n",
       "    Bokeh.embed.embed_items_notebook(docs_json, render_items);\n",
       "    for (const render_item of render_items) {\n",
       "      for (const root_id of render_item.root_ids) {\n",
       "\tconst id_el = document.getElementById(root_id)\n",
       "\tif (id_el.children.length && (id_el.children[0].className === 'bk-root')) {\n",
       "\t  const root_el = id_el.children[0]\n",
       "\t  root_el.id = root_el.id + '-rendered'\n",
       "\t}\n",
       "      }\n",
       "    }\n",
       "  }\n",
       "  function get_bokeh(root) {\n",
       "    if (root.Bokeh === undefined) {\n",
       "      return null\n",
       "    } else if (root.Bokeh.version !== py_version) {\n",
       "      if (root.Bokeh.versions === undefined || !root.Bokeh.versions.has(py_version)) {\n",
       "\treturn null\n",
       "      }\n",
       "      return root.Bokeh.versions.get(py_version);\n",
       "    } else if (root.Bokeh.version === py_version) {\n",
       "      return root.Bokeh\n",
       "    }\n",
       "    return null\n",
       "  }\n",
       "  function is_loaded(root) {\n",
       "    var Bokeh = get_bokeh(root)\n",
       "    return (Bokeh != null && Bokeh.Panel !== undefined)\n",
       "  }\n",
       "  if (is_loaded(root)) {\n",
       "    embed_document(root);\n",
       "  } else {\n",
       "    var attempts = 0;\n",
       "    var timer = setInterval(function(root) {\n",
       "      if (is_loaded(root)) {\n",
       "        clearInterval(timer);\n",
       "        embed_document(root);\n",
       "      } else if (document.readyState == \"complete\") {\n",
       "        attempts++;\n",
       "        if (attempts > 200) {\n",
       "          clearInterval(timer);\n",
       "\t  var Bokeh = get_bokeh(root)\n",
       "\t  if (Bokeh == null || Bokeh.Panel == null) {\n",
       "            console.warn(\"Panel: ERROR: Unable to run Panel code because Bokeh or Panel library is missing\");\n",
       "\t  } else {\n",
       "\t    console.warn(\"Panel: WARNING: Attempting to render but not all required libraries could be resolved.\")\n",
       "\t    embed_document(root)\n",
       "\t  }\n",
       "        }\n",
       "      }\n",
       "    }, 25, root)\n",
       "  }\n",
       "})(window);</script>"
      ],
      "text/plain": [
       ":Distribution   [time_in_min]   (Density)"
      ]
     },
     "execution_count": 467,
     "metadata": {
      "application/vnd.holoviews_exec.v0+json": {
       "id": "p4535"
      }
     },
     "output_type": "execute_result"
    }
   ],
   "source": [
    "df_with_features['time_in_min'].plot.kde()"
   ]
  },
  {
   "cell_type": "code",
   "execution_count": 302,
   "id": "77f49a67-976b-4937-b3d5-8dfc48233232",
   "metadata": {},
   "outputs": [
    {
     "data": {},
     "metadata": {},
     "output_type": "display_data"
    },
    {
     "data": {
      "application/vnd.holoviews_exec.v0+json": "",
      "text/html": [
       "<div id='p3905'>\n",
       "  <div id=\"a25e2ecb-3ab3-483e-a3d3-147df9ac81cd\" data-root-id=\"p3905\" style=\"display: contents;\"></div>\n",
       "</div>\n",
       "<script type=\"application/javascript\">(function(root) {\n",
       "  var docs_json = {\"e9a1b804-3a22-4878-8fb8-e42b72e471d9\":{\"version\":\"3.4.1\",\"title\":\"Bokeh Application\",\"roots\":[{\"type\":\"object\",\"name\":\"Row\",\"id\":\"p3905\",\"attributes\":{\"name\":\"Row08332\",\"tags\":[\"embedded\"],\"stylesheets\":[\"\\n:host(.pn-loading):before, .pn-loading:before {\\n  background-color: #c3c3c3;\\n  mask-size: auto calc(min(50%, 400px));\\n  -webkit-mask-size: auto calc(min(50%, 400px));\\n}\",{\"type\":\"object\",\"name\":\"ImportedStyleSheet\",\"id\":\"p3908\",\"attributes\":{\"url\":\"https://cdn.holoviz.org/panel/1.4.2/dist/css/loading.css\"}},{\"type\":\"object\",\"name\":\"ImportedStyleSheet\",\"id\":\"p3964\",\"attributes\":{\"url\":\"https://cdn.holoviz.org/panel/1.4.2/dist/css/listpanel.css\"}},{\"type\":\"object\",\"name\":\"ImportedStyleSheet\",\"id\":\"p3906\",\"attributes\":{\"url\":\"https://cdn.holoviz.org/panel/1.4.2/dist/bundled/theme/default.css\"}},{\"type\":\"object\",\"name\":\"ImportedStyleSheet\",\"id\":\"p3907\",\"attributes\":{\"url\":\"https://cdn.holoviz.org/panel/1.4.2/dist/bundled/theme/native.css\"}}],\"min_width\":700,\"margin\":0,\"sizing_mode\":\"stretch_width\",\"align\":\"start\",\"children\":[{\"type\":\"object\",\"name\":\"Spacer\",\"id\":\"p3909\",\"attributes\":{\"name\":\"HSpacer08339\",\"stylesheets\":[\"\\n:host(.pn-loading):before, .pn-loading:before {\\n  background-color: #c3c3c3;\\n  mask-size: auto calc(min(50%, 400px));\\n  -webkit-mask-size: auto calc(min(50%, 400px));\\n}\",{\"id\":\"p3908\"},{\"id\":\"p3906\"},{\"id\":\"p3907\"}],\"margin\":0,\"sizing_mode\":\"stretch_width\",\"align\":\"start\"}},{\"type\":\"object\",\"name\":\"Figure\",\"id\":\"p3917\",\"attributes\":{\"width\":700,\"height\":300,\"margin\":[5,10],\"sizing_mode\":\"fixed\",\"align\":\"start\",\"x_range\":{\"type\":\"object\",\"name\":\"Range1d\",\"id\":\"p3910\",\"attributes\":{\"tags\":[[[\"rn_log\",\"rn_log\",null]],[]],\"start\":-0.4259754055580294,\"end\":7.103058866805165,\"reset_start\":-0.4259754055580294,\"reset_end\":7.103058866805165}},\"y_range\":{\"type\":\"object\",\"name\":\"Range1d\",\"id\":\"p3911\",\"attributes\":{\"tags\":[[[\"rn_log_density\",\"Density\",null]],{\"type\":\"map\",\"entries\":[[\"invert_yaxis\",false],[\"autorange\",false]]}],\"end\":0.312963651742174,\"reset_start\":0.0,\"reset_end\":0.312963651742174}},\"x_scale\":{\"type\":\"object\",\"name\":\"LinearScale\",\"id\":\"p3927\"},\"y_scale\":{\"type\":\"object\",\"name\":\"LinearScale\",\"id\":\"p3928\"},\"title\":{\"type\":\"object\",\"name\":\"Title\",\"id\":\"p3920\",\"attributes\":{\"text_color\":\"black\",\"text_font_size\":\"12pt\"}},\"renderers\":[{\"type\":\"object\",\"name\":\"GlyphRenderer\",\"id\":\"p3957\",\"attributes\":{\"data_source\":{\"type\":\"object\",\"name\":\"ColumnDataSource\",\"id\":\"p3948\",\"attributes\":{\"selected\":{\"type\":\"object\",\"name\":\"Selection\",\"id\":\"p3949\",\"attributes\":{\"indices\":[],\"line_indices\":[]}},\"selection_policy\":{\"type\":\"object\",\"name\":\"UnionRenderers\",\"id\":\"p3950\"},\"data\":{\"type\":\"map\",\"entries\":[[\"x\",{\"type\":\"ndarray\",\"array\":{\"type\":\"bytes\",\"data\":\"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\"},\"shape\":[200],\"dtype\":\"float64\",\"order\":\"little\"}],[\"y\",{\"type\":\"ndarray\",\"array\":{\"type\":\"bytes\",\"data\":\"AAAAAAAAAAAAAAAAAAAAAAAAAAAAAAAAAAAAAAAAAAAAAAAAAAAAAAAAAAAAAAAAAAAAAAAAAAAAAAAAAAAAAAAAAAAAAAAAAAAAAAAAAAAAAAAAAAAAAAAAAAAAAAAAAAAAAAAAAAAAAAAAAAAAAAAAAAAAAAAAAAAAAAAAAAAAAAAAAAAAAAAAAAAAAAAAAAAAAAAAAAAAAAAAAAAAAAAAAAAAAAAAAAAAAAAAAAAAAAAAAAAAAAAAAAAAAAAAAAAAAAAAAAAAAAAAAAAAAAAAAAAAAAAAAAAAAAAAAAAAAAAAAAAAAAAAAAAAAAAAAAAAAAAAAAAAAAAAAAAAAAAAAAAAAAAAAAAAAAAAAAAAAAAAAAAAAAAAAAAAAAAAAAAAAAAAAAAAAAAAAAAAAAAAAAAAAAAAAAAAAAAAAAAAAAAAAAAAAAAAAAAAAAAAAAAAAAAAAAAAAAAAAAAAAAAAAAAAAAAAAAAAAAAAAAAAAAAAAAAAAAAAAAAAAAAAAAAAAAAAAAAAAAAAAAAAAAAAAAAAAAAAAAAAAAAAAAAAAAAAAAAAAAAAAAAAAAAAAAAAAAAAAAAAAAAAAAAAAAAAAAAAAAAAAAAAAAAAAAAAAAAAAAAAAAAAAAAAAAAAAAAAAAAAAAAAAAAAAAAAAAAAAAAAAAAAAAAAAAAAAAAAAAAAAAAAAAAAAAAAAAAAAAAAAAAAAAAAAAAAAAAAAAAAAAAAAAAAAAAAAAAAAAAAAAAAAAAAAAAAAAAAAAAAAAAAAAAAAAAAAAAAAAAAAAAAAAAAAAAAAAAAAAAAAAAAAAAAAAAAAAAAAAAAAAAAAAAAAAAAAAAAAAAAAAAAAAAAAAAAAAAAAAAAAAAAAAAAAAAAAAAAAAAAAAAAAAAAAAAAAAAAAAAAAAAAAAAAAAAAAAAAAAAAAAAAAAAAAAAAAAAAAAAAAAAAAAAAAAAAAAAAAAAAAAAAAAAAAAAAAAAAAAAAAAAAAAAAAAAAAAAAAAAAAAAAAAAAAAAAAAAAAAAAAAAAAAAAAAAAAAAAAAAAAAAAAAAAAAAAAAAAAABd4gTrKZLyPuMHtOyh9hg/gcTHBAz5OT/8jJoTPRxVP5s7deRxNWs/Qp1PUNl7fD+uTtMZ9yCJP8MDiTA1mJM/1cXHD147nD85cB2OwTSjP0fiYxhvqag/p6O1UTLFrT8ObqgRIwCxPwFb3zpep7I/vcuit5QCtD8Sk1BRQ061P0Ql2nwewbY/HxOPbvB8uD9zCadr0Ym6P5HmnVtz2rw/cUcJEBJcvz9UDkFLMAbBP2dmxj1agMI/3xsbe24rxD/POY3NSgzGPzxK/e3+D8g/uwSWxeULyj9kICLL8NHLP21e7noISc0/9iSSoWx0zj8TJN4tRGnPP8Y0Vg4mINA/Vtw+rICF0D9J7GW5iebQP4zYJnQyP9E/2l9UEdCK0T+kdqHXY8jRP/j992dq+dE/VzvXmKcd0j9L1tY6TjLSP29Hk0t6NdI/Iy7o6Ago0j96lyTYRwvSP6W99CVK39E/Huo9kImk0T/Q9cTxOV3RP08L17AoDNE/mXE543Sz0D/gOAZvb1TQP/C1NUGa388/lRm0sBcMzz+LwaibQTDOP2xccWpOT80/dIHj0zlszD9g+F97LojLP+wrO0pZo8o/zrWm19e+yT+RTetBGNzIP7kfIUtf+sc/Wvcsh68Wxz9e7f+3vC7GPzR1Kk4rQ8U/FN4gS09WxD8bxxvnbmnDP8wO6yOPfMI/dHD2iJOQwT9DuRAxD6jAP7Ao4GQNjL8/Z0h3cELZvT9zH5yj3zm8P/B+FhUdsLo/0vJbLKc5uT/+k6zBPs63P0MNem0lfrY/nN6D1rNUtT8S3OFOtgW0P0COlj7HfLI/NW6oeux8sT/OT/ROaUqxPyAUiZJafLA/zwSIs2T5qz8NNaLDDqmmP6cDyPFLP6Y/+Jtv9ssOqz/qaGoZqSqvPygTTT8Xv6w/yePELiI2pD8bwY2T9Y+VP4IVwGHuAYM/uIGnR2uPej8nGY72pkGKP1BbaMkV8pw/3T1x/1fgqD+1ZjkPzxewP18mwkK9Q68/7zLMtszLpj8mS1oW1POYP2xMJ2FUgIQ//Lcj/GtJaT/nlKxqPWlHPw==\"},\"shape\":[200],\"dtype\":\"float64\",\"order\":\"little\"}]]}}},\"view\":{\"type\":\"object\",\"name\":\"CDSView\",\"id\":\"p3958\",\"attributes\":{\"filter\":{\"type\":\"object\",\"name\":\"AllIndices\",\"id\":\"p3959\"}}},\"glyph\":{\"type\":\"object\",\"name\":\"Patch\",\"id\":\"p3954\",\"attributes\":{\"tags\":[\"apply_ranges\"],\"x\":{\"type\":\"field\",\"field\":\"x\"},\"y\":{\"type\":\"field\",\"field\":\"y\"},\"fill_color\":\"#30a2da\",\"fill_alpha\":0.5,\"hatch_color\":\"#30a2da\"}},\"selection_glyph\":{\"type\":\"object\",\"name\":\"Patch\",\"id\":\"p3960\",\"attributes\":{\"tags\":[\"apply_ranges\"],\"x\":{\"type\":\"field\",\"field\":\"x\"},\"y\":{\"type\":\"field\",\"field\":\"y\"},\"fill_color\":\"#30a2da\",\"fill_alpha\":0.5,\"hatch_color\":\"#30a2da\"}},\"nonselection_glyph\":{\"type\":\"object\",\"name\":\"Patch\",\"id\":\"p3955\",\"attributes\":{\"tags\":[\"apply_ranges\"],\"x\":{\"type\":\"field\",\"field\":\"x\"},\"y\":{\"type\":\"field\",\"field\":\"y\"},\"line_alpha\":1,\"fill_color\":\"#30a2da\",\"fill_alpha\":0.5,\"hatch_color\":\"#30a2da\",\"hatch_alpha\":0.1}},\"muted_glyph\":{\"type\":\"object\",\"name\":\"Patch\",\"id\":\"p3956\",\"attributes\":{\"tags\":[\"apply_ranges\"],\"x\":{\"type\":\"field\",\"field\":\"x\"},\"y\":{\"type\":\"field\",\"field\":\"y\"},\"line_alpha\":0.2,\"fill_color\":\"#30a2da\",\"fill_alpha\":0.2,\"hatch_color\":\"#30a2da\",\"hatch_alpha\":0.2}}}}],\"toolbar\":{\"type\":\"object\",\"name\":\"Toolbar\",\"id\":\"p3926\",\"attributes\":{\"tools\":[{\"type\":\"object\",\"name\":\"WheelZoomTool\",\"id\":\"p3915\",\"attributes\":{\"tags\":[\"hv_created\"],\"renderers\":\"auto\",\"zoom_together\":\"none\"}},{\"type\":\"object\",\"name\":\"HoverTool\",\"id\":\"p3916\",\"attributes\":{\"tags\":[\"hv_created\"],\"renderers\":[{\"id\":\"p3957\"}],\"tooltips\":[[\"rn_log\",\"@{rn_log}\"],[\"Density\",\"@{rn_log_density}\"]]}},{\"type\":\"object\",\"name\":\"SaveTool\",\"id\":\"p3939\"},{\"type\":\"object\",\"name\":\"PanTool\",\"id\":\"p3940\"},{\"type\":\"object\",\"name\":\"BoxZoomTool\",\"id\":\"p3941\",\"attributes\":{\"overlay\":{\"type\":\"object\",\"name\":\"BoxAnnotation\",\"id\":\"p3942\",\"attributes\":{\"syncable\":false,\"level\":\"overlay\",\"visible\":false,\"left\":{\"type\":\"number\",\"value\":\"nan\"},\"right\":{\"type\":\"number\",\"value\":\"nan\"},\"top\":{\"type\":\"number\",\"value\":\"nan\"},\"bottom\":{\"type\":\"number\",\"value\":\"nan\"},\"left_units\":\"canvas\",\"right_units\":\"canvas\",\"top_units\":\"canvas\",\"bottom_units\":\"canvas\",\"line_color\":\"black\",\"line_alpha\":1.0,\"line_width\":2,\"line_dash\":[4,4],\"fill_color\":\"lightgrey\",\"fill_alpha\":0.5}}}},{\"type\":\"object\",\"name\":\"ResetTool\",\"id\":\"p3947\"}],\"active_drag\":{\"id\":\"p3940\"},\"active_scroll\":{\"id\":\"p3915\"}}},\"left\":[{\"type\":\"object\",\"name\":\"LinearAxis\",\"id\":\"p3934\",\"attributes\":{\"ticker\":{\"type\":\"object\",\"name\":\"BasicTicker\",\"id\":\"p3935\",\"attributes\":{\"mantissas\":[1,2,5]}},\"formatter\":{\"type\":\"object\",\"name\":\"BasicTickFormatter\",\"id\":\"p3936\"},\"axis_label\":\"Density\",\"major_label_policy\":{\"type\":\"object\",\"name\":\"AllLabels\",\"id\":\"p3937\"}}}],\"below\":[{\"type\":\"object\",\"name\":\"LinearAxis\",\"id\":\"p3929\",\"attributes\":{\"ticker\":{\"type\":\"object\",\"name\":\"BasicTicker\",\"id\":\"p3930\",\"attributes\":{\"mantissas\":[1,2,5]}},\"formatter\":{\"type\":\"object\",\"name\":\"BasicTickFormatter\",\"id\":\"p3931\"},\"axis_label\":\"rn_log\",\"major_label_policy\":{\"type\":\"object\",\"name\":\"AllLabels\",\"id\":\"p3932\"}}}],\"center\":[{\"type\":\"object\",\"name\":\"Grid\",\"id\":\"p3933\",\"attributes\":{\"axis\":{\"id\":\"p3929\"},\"grid_line_color\":null}},{\"type\":\"object\",\"name\":\"Grid\",\"id\":\"p3938\",\"attributes\":{\"dimension\":1,\"axis\":{\"id\":\"p3934\"},\"grid_line_color\":null}}],\"min_border_top\":10,\"min_border_bottom\":10,\"min_border_left\":10,\"min_border_right\":10,\"output_backend\":\"webgl\"}},{\"type\":\"object\",\"name\":\"Spacer\",\"id\":\"p3962\",\"attributes\":{\"name\":\"HSpacer08340\",\"stylesheets\":[\"\\n:host(.pn-loading):before, .pn-loading:before {\\n  background-color: #c3c3c3;\\n  mask-size: auto calc(min(50%, 400px));\\n  -webkit-mask-size: auto calc(min(50%, 400px));\\n}\",{\"id\":\"p3908\"},{\"id\":\"p3906\"},{\"id\":\"p3907\"}],\"margin\":0,\"sizing_mode\":\"stretch_width\",\"align\":\"start\"}}]}}],\"defs\":[{\"type\":\"model\",\"name\":\"ReactiveHTML1\"},{\"type\":\"model\",\"name\":\"FlexBox1\",\"properties\":[{\"name\":\"align_content\",\"kind\":\"Any\",\"default\":\"flex-start\"},{\"name\":\"align_items\",\"kind\":\"Any\",\"default\":\"flex-start\"},{\"name\":\"flex_direction\",\"kind\":\"Any\",\"default\":\"row\"},{\"name\":\"flex_wrap\",\"kind\":\"Any\",\"default\":\"wrap\"},{\"name\":\"gap\",\"kind\":\"Any\",\"default\":\"\"},{\"name\":\"justify_content\",\"kind\":\"Any\",\"default\":\"flex-start\"}]},{\"type\":\"model\",\"name\":\"FloatPanel1\",\"properties\":[{\"name\":\"config\",\"kind\":\"Any\",\"default\":{\"type\":\"map\"}},{\"name\":\"contained\",\"kind\":\"Any\",\"default\":true},{\"name\":\"position\",\"kind\":\"Any\",\"default\":\"right-top\"},{\"name\":\"offsetx\",\"kind\":\"Any\",\"default\":null},{\"name\":\"offsety\",\"kind\":\"Any\",\"default\":null},{\"name\":\"theme\",\"kind\":\"Any\",\"default\":\"primary\"},{\"name\":\"status\",\"kind\":\"Any\",\"default\":\"normalized\"}]},{\"type\":\"model\",\"name\":\"GridStack1\",\"properties\":[{\"name\":\"mode\",\"kind\":\"Any\",\"default\":\"warn\"},{\"name\":\"ncols\",\"kind\":\"Any\",\"default\":null},{\"name\":\"nrows\",\"kind\":\"Any\",\"default\":null},{\"name\":\"allow_resize\",\"kind\":\"Any\",\"default\":true},{\"name\":\"allow_drag\",\"kind\":\"Any\",\"default\":true},{\"name\":\"state\",\"kind\":\"Any\",\"default\":[]}]},{\"type\":\"model\",\"name\":\"drag1\",\"properties\":[{\"name\":\"slider_width\",\"kind\":\"Any\",\"default\":5},{\"name\":\"slider_color\",\"kind\":\"Any\",\"default\":\"black\"},{\"name\":\"value\",\"kind\":\"Any\",\"default\":50}]},{\"type\":\"model\",\"name\":\"click1\",\"properties\":[{\"name\":\"terminal_output\",\"kind\":\"Any\",\"default\":\"\"},{\"name\":\"debug_name\",\"kind\":\"Any\",\"default\":\"\"},{\"name\":\"clears\",\"kind\":\"Any\",\"default\":0}]},{\"type\":\"model\",\"name\":\"FastWrapper1\",\"properties\":[{\"name\":\"object\",\"kind\":\"Any\",\"default\":null},{\"name\":\"style\",\"kind\":\"Any\",\"default\":null}]},{\"type\":\"model\",\"name\":\"NotificationAreaBase1\",\"properties\":[{\"name\":\"js_events\",\"kind\":\"Any\",\"default\":{\"type\":\"map\"}},{\"name\":\"position\",\"kind\":\"Any\",\"default\":\"bottom-right\"},{\"name\":\"_clear\",\"kind\":\"Any\",\"default\":0}]},{\"type\":\"model\",\"name\":\"NotificationArea1\",\"properties\":[{\"name\":\"js_events\",\"kind\":\"Any\",\"default\":{\"type\":\"map\"}},{\"name\":\"notifications\",\"kind\":\"Any\",\"default\":[]},{\"name\":\"position\",\"kind\":\"Any\",\"default\":\"bottom-right\"},{\"name\":\"_clear\",\"kind\":\"Any\",\"default\":0},{\"name\":\"types\",\"kind\":\"Any\",\"default\":[{\"type\":\"map\",\"entries\":[[\"type\",\"warning\"],[\"background\",\"#ffc107\"],[\"icon\",{\"type\":\"map\",\"entries\":[[\"className\",\"fas fa-exclamation-triangle\"],[\"tagName\",\"i\"],[\"color\",\"white\"]]}]]},{\"type\":\"map\",\"entries\":[[\"type\",\"info\"],[\"background\",\"#007bff\"],[\"icon\",{\"type\":\"map\",\"entries\":[[\"className\",\"fas fa-info-circle\"],[\"tagName\",\"i\"],[\"color\",\"white\"]]}]]}]}]},{\"type\":\"model\",\"name\":\"Notification\",\"properties\":[{\"name\":\"background\",\"kind\":\"Any\",\"default\":null},{\"name\":\"duration\",\"kind\":\"Any\",\"default\":3000},{\"name\":\"icon\",\"kind\":\"Any\",\"default\":null},{\"name\":\"message\",\"kind\":\"Any\",\"default\":\"\"},{\"name\":\"notification_type\",\"kind\":\"Any\",\"default\":null},{\"name\":\"_destroyed\",\"kind\":\"Any\",\"default\":false}]},{\"type\":\"model\",\"name\":\"TemplateActions1\",\"properties\":[{\"name\":\"open_modal\",\"kind\":\"Any\",\"default\":0},{\"name\":\"close_modal\",\"kind\":\"Any\",\"default\":0}]},{\"type\":\"model\",\"name\":\"BootstrapTemplateActions1\",\"properties\":[{\"name\":\"open_modal\",\"kind\":\"Any\",\"default\":0},{\"name\":\"close_modal\",\"kind\":\"Any\",\"default\":0}]},{\"type\":\"model\",\"name\":\"TemplateEditor1\",\"properties\":[{\"name\":\"layout\",\"kind\":\"Any\",\"default\":[]}]},{\"type\":\"model\",\"name\":\"MaterialTemplateActions1\",\"properties\":[{\"name\":\"open_modal\",\"kind\":\"Any\",\"default\":0},{\"name\":\"close_modal\",\"kind\":\"Any\",\"default\":0}]},{\"type\":\"model\",\"name\":\"copy_to_clipboard1\",\"properties\":[{\"name\":\"fill\",\"kind\":\"Any\",\"default\":\"none\"},{\"name\":\"value\",\"kind\":\"Any\",\"default\":null}]}]}};\n",
       "  var render_items = [{\"docid\":\"e9a1b804-3a22-4878-8fb8-e42b72e471d9\",\"roots\":{\"p3905\":\"a25e2ecb-3ab3-483e-a3d3-147df9ac81cd\"},\"root_ids\":[\"p3905\"]}];\n",
       "  var docs = Object.values(docs_json)\n",
       "  if (!docs) {\n",
       "    return\n",
       "  }\n",
       "  const py_version = docs[0].version.replace('rc', '-rc.').replace('.dev', '-dev.')\n",
       "  function embed_document(root) {\n",
       "    var Bokeh = get_bokeh(root)\n",
       "    Bokeh.embed.embed_items_notebook(docs_json, render_items);\n",
       "    for (const render_item of render_items) {\n",
       "      for (const root_id of render_item.root_ids) {\n",
       "\tconst id_el = document.getElementById(root_id)\n",
       "\tif (id_el.children.length && (id_el.children[0].className === 'bk-root')) {\n",
       "\t  const root_el = id_el.children[0]\n",
       "\t  root_el.id = root_el.id + '-rendered'\n",
       "\t}\n",
       "      }\n",
       "    }\n",
       "  }\n",
       "  function get_bokeh(root) {\n",
       "    if (root.Bokeh === undefined) {\n",
       "      return null\n",
       "    } else if (root.Bokeh.version !== py_version) {\n",
       "      if (root.Bokeh.versions === undefined || !root.Bokeh.versions.has(py_version)) {\n",
       "\treturn null\n",
       "      }\n",
       "      return root.Bokeh.versions.get(py_version);\n",
       "    } else if (root.Bokeh.version === py_version) {\n",
       "      return root.Bokeh\n",
       "    }\n",
       "    return null\n",
       "  }\n",
       "  function is_loaded(root) {\n",
       "    var Bokeh = get_bokeh(root)\n",
       "    return (Bokeh != null && Bokeh.Panel !== undefined)\n",
       "  }\n",
       "  if (is_loaded(root)) {\n",
       "    embed_document(root);\n",
       "  } else {\n",
       "    var attempts = 0;\n",
       "    var timer = setInterval(function(root) {\n",
       "      if (is_loaded(root)) {\n",
       "        clearInterval(timer);\n",
       "        embed_document(root);\n",
       "      } else if (document.readyState == \"complete\") {\n",
       "        attempts++;\n",
       "        if (attempts > 200) {\n",
       "          clearInterval(timer);\n",
       "\t  var Bokeh = get_bokeh(root)\n",
       "\t  if (Bokeh == null || Bokeh.Panel == null) {\n",
       "            console.warn(\"Panel: ERROR: Unable to run Panel code because Bokeh or Panel library is missing\");\n",
       "\t  } else {\n",
       "\t    console.warn(\"Panel: WARNING: Attempting to render but not all required libraries could be resolved.\")\n",
       "\t    embed_document(root)\n",
       "\t  }\n",
       "        }\n",
       "      }\n",
       "    }, 25, root)\n",
       "  }\n",
       "})(window);</script>"
      ],
      "text/plain": [
       ":Distribution   [rn_log]   (Density)"
      ]
     },
     "execution_count": 302,
     "metadata": {
      "application/vnd.holoviews_exec.v0+json": {
       "id": "p3905"
      }
     },
     "output_type": "execute_result"
    }
   ],
   "source": [
    "df_with_features['rn_log'].plot.kde()"
   ]
  },
  {
   "cell_type": "code",
   "execution_count": 468,
   "id": "af85e524-5fa8-4424-b382-5a3e82585137",
   "metadata": {},
   "outputs": [
    {
     "name": "stdout",
     "output_type": "stream",
     "text": [
      "0 0.6847700115893378\n",
      "1 0.6844503057187388\n",
      "2 0.6848499380569876\n",
      "3 0.6847700115893378\n"
     ]
    }
   ],
   "source": [
    "for fold in range(4):\n",
    "    train_index = df_with_target['fold'] != 0\n",
    "    test_index = df_with_target['fold'] == 0\n",
    "    pr.fit(df_with_features.filter(train_index)[features], df_with_features.filter(train_index)['target'])\n",
    "    predictions = pr.predict(df_with_features.filter(test_index)[features])\n",
    "    final_predictions = predictions < 5 * 60\n",
    "    acc = accuracy_score(y.filter(test_index), final_predictions)\n",
    "    print(fold, acc)"
   ]
  },
  {
   "cell_type": "code",
   "execution_count": null,
   "id": "b50e6d1a-65ff-448b-b927-41994ce84a1d",
   "metadata": {},
   "outputs": [],
   "source": []
  }
 ],
 "metadata": {
  "kernelspec": {
   "display_name": "Python 3 (ipykernel)",
   "language": "python",
   "name": "python3"
  },
  "language_info": {
   "codemirror_mode": {
    "name": "ipython",
    "version": 3
   },
   "file_extension": ".py",
   "mimetype": "text/x-python",
   "name": "python",
   "nbconvert_exporter": "python",
   "pygments_lexer": "ipython3",
   "version": "3.10.13"
  }
 },
 "nbformat": 4,
 "nbformat_minor": 5
}
