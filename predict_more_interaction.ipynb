{
 "cells": [
  {
   "cell_type": "code",
   "execution_count": 1,
   "id": "9c45134b-c608-43e7-b5d2-28cab4d19946",
   "metadata": {},
   "outputs": [],
   "source": [
    "import polars as pl\n",
    "\n",
    "from sklearn.model_selection import GroupShuffleSplit\n",
    "import numpy as np"
   ]
  },
  {
   "cell_type": "markdown",
   "id": "d986f7d5-e7c9-4b25-aafb-2662efdb59d2",
   "metadata": {},
   "source": [
    "## The data was dowloaded locally, and is read from there (the local disk).\n",
    "### apparently no header"
   ]
  },
  {
   "cell_type": "code",
   "execution_count": 18,
   "id": "388efbcf-1975-4bad-8ef5-d4c7545216b8",
   "metadata": {},
   "outputs": [],
   "source": [
    "df = (\n",
    "    pl.read_excel('Data for Student Hiring Project - Citizen Science .xlsx', read_options={\"has_header\": False})\n",
    "    .rename({'column_1': 'user_id', 'column_2': 'timestamp'})\n",
    "    .with_columns(pl.col('timestamp').str.to_datetime())\n",
    ")"
   ]
  },
  {
   "cell_type": "code",
   "execution_count": 19,
   "id": "0ced6585-1b12-4b29-9367-5b4f21e05c07",
   "metadata": {},
   "outputs": [
    {
     "data": {
      "text/plain": [
       "(99999, 2)"
      ]
     },
     "execution_count": 19,
     "metadata": {},
     "output_type": "execute_result"
    }
   ],
   "source": [
    "df.shape"
   ]
  },
  {
   "cell_type": "code",
   "execution_count": 20,
   "id": "b297567c-76e5-451d-addb-7f7a3cdf64c8",
   "metadata": {},
   "outputs": [
    {
     "data": {
      "text/html": [
       "<div><style>\n",
       ".dataframe > thead > tr,\n",
       ".dataframe > tbody > tr {\n",
       "  text-align: right;\n",
       "  white-space: pre-wrap;\n",
       "}\n",
       "</style>\n",
       "<small>shape: (5, 2)</small><table border=\"1\" class=\"dataframe\"><thead><tr><th>user_id</th><th>timestamp</th></tr><tr><td>str</td><td>datetime[μs]</td></tr></thead><tbody><tr><td>&quot;54999c8d9cd118282b001784&quot;</td><td>2014-12-23 04:53:19</td></tr><tr><td>&quot;54999c91bb7b56040d0011e8&quot;</td><td>2014-12-23 04:53:20</td></tr><tr><td>&quot;54999c8fbb7b565d7e000a7c&quot;</td><td>2014-12-23 04:53:21</td></tr><tr><td>&quot;54999cb29cd1184d77000539&quot;</td><td>2014-12-23 04:53:24</td></tr><tr><td>&quot;54068fab91ad6b597e000f97&quot;</td><td>2014-12-23 04:53:28</td></tr></tbody></table></div>"
      ],
      "text/plain": [
       "shape: (5, 2)\n",
       "┌──────────────────────────┬─────────────────────┐\n",
       "│ user_id                  ┆ timestamp           │\n",
       "│ ---                      ┆ ---                 │\n",
       "│ str                      ┆ datetime[μs]        │\n",
       "╞══════════════════════════╪═════════════════════╡\n",
       "│ 54999c8d9cd118282b001784 ┆ 2014-12-23 04:53:19 │\n",
       "│ 54999c91bb7b56040d0011e8 ┆ 2014-12-23 04:53:20 │\n",
       "│ 54999c8fbb7b565d7e000a7c ┆ 2014-12-23 04:53:21 │\n",
       "│ 54999cb29cd1184d77000539 ┆ 2014-12-23 04:53:24 │\n",
       "│ 54068fab91ad6b597e000f97 ┆ 2014-12-23 04:53:28 │\n",
       "└──────────────────────────┴─────────────────────┘"
      ]
     },
     "execution_count": 20,
     "metadata": {},
     "output_type": "execute_result"
    }
   ],
   "source": [
    "df.head()"
   ]
  },
  {
   "cell_type": "code",
   "execution_count": 21,
   "id": "8ae5fb9a-fc2f-4323-9224-00d8e6b1ce4a",
   "metadata": {},
   "outputs": [],
   "source": [
    "def find_sessions(df, threshold: int):\n",
    "    \"\"\"Identifing the sessions. giving an id for each session. Also giving a numeric id to a user.\n",
    "    \"\"\"\n",
    "    return (\n",
    "        df.sort(['user_id', 'timestamp'])\n",
    "        .with_columns((pl.col('timestamp').diff().cast(pl.Int64) > threshold).fill_null(True).alias('ts_diff'))\n",
    "        .with_columns((pl.col('user_id').ne(pl.col('user_id').shift())).fill_null(True).alias('user_diff'))\n",
    "        .with_columns([\n",
    "            (pl.col(\"ts_diff\") | pl.col(\"user_diff\")).alias(\"new_session_mark\")\n",
    "        ])\n",
    "        .with_columns([\n",
    "            pl.col(\"new_session_mark\").cum_sum().alias(\"session\")\n",
    "        ])\n",
    "        .with_columns([\n",
    "            pl.col(\"user_diff\").cum_sum().alias(\"user\")\n",
    "        ])\n",
    "    )"
   ]
  },
  {
   "cell_type": "markdown",
   "id": "55d566ce-56de-4a71-b595-62df5f80fd21",
   "metadata": {},
   "source": [
    "### We add session ids based on the user_id and whether 30 minutes have passed."
   ]
  },
  {
   "cell_type": "code",
   "execution_count": 22,
   "id": "a87675b1-806e-4e85-a9a3-b73640bbaf79",
   "metadata": {},
   "outputs": [],
   "source": [
    "df_with_sessions = df.pipe(find_sessions, threshold=1_000_000 * 60 * 30)"
   ]
  },
  {
   "cell_type": "code",
   "execution_count": 23,
   "id": "e2b43560-2f99-4968-bd2d-54ef567d864b",
   "metadata": {},
   "outputs": [
    {
     "data": {
      "text/html": [
       "<div><style>\n",
       ".dataframe > thead > tr,\n",
       ".dataframe > tbody > tr {\n",
       "  text-align: right;\n",
       "  white-space: pre-wrap;\n",
       "}\n",
       "</style>\n",
       "<small>shape: (10, 7)</small><table border=\"1\" class=\"dataframe\"><thead><tr><th>user_id</th><th>timestamp</th><th>ts_diff</th><th>user_diff</th><th>new_session_mark</th><th>session</th><th>user</th></tr><tr><td>str</td><td>datetime[μs]</td><td>bool</td><td>bool</td><td>bool</td><td>u32</td><td>u32</td></tr></thead><tbody><tr><td>&quot;54aaaba29cd1180cf7000070&quot;</td><td>2015-01-05 03:23:09</td><td>false</td><td>false</td><td>false</td><td>2288</td><td>942</td></tr><tr><td>&quot;54aaaba29cd1180cf7000070&quot;</td><td>2015-01-05 03:23:37</td><td>false</td><td>false</td><td>false</td><td>2288</td><td>942</td></tr><tr><td>&quot;54aaaba29cd1180cf7000070&quot;</td><td>2015-01-05 03:24:01</td><td>false</td><td>false</td><td>false</td><td>2288</td><td>942</td></tr><tr><td>&quot;54aaaba29cd1180cf7000070&quot;</td><td>2015-01-05 03:24:17</td><td>false</td><td>false</td><td>false</td><td>2288</td><td>942</td></tr><tr><td>&quot;54aaaba29cd1180cf7000070&quot;</td><td>2015-01-05 03:24:30</td><td>false</td><td>false</td><td>false</td><td>2288</td><td>942</td></tr><tr><td>&quot;54aac9549cd11825500000f8&quot;</td><td>2015-01-05 05:26:57</td><td>true</td><td>true</td><td>true</td><td>2289</td><td>943</td></tr><tr><td>&quot;54aac9549cd11825500000f8&quot;</td><td>2015-01-05 05:27:23</td><td>false</td><td>false</td><td>false</td><td>2289</td><td>943</td></tr><tr><td>&quot;54aac9549cd11825500000f8&quot;</td><td>2015-01-05 05:27:48</td><td>false</td><td>false</td><td>false</td><td>2289</td><td>943</td></tr><tr><td>&quot;54aac9549cd11825500000f8&quot;</td><td>2015-01-05 05:27:52</td><td>false</td><td>false</td><td>false</td><td>2289</td><td>943</td></tr><tr><td>&quot;54aac9549cd11825500000f8&quot;</td><td>2015-01-05 05:28:02</td><td>false</td><td>false</td><td>false</td><td>2289</td><td>943</td></tr></tbody></table></div>"
      ],
      "text/plain": [
       "shape: (10, 7)\n",
       "┌─────────────────────────┬──────────────┬─────────┬───────────┬──────────────────┬─────────┬──────┐\n",
       "│ user_id                 ┆ timestamp    ┆ ts_diff ┆ user_diff ┆ new_session_mark ┆ session ┆ user │\n",
       "│ ---                     ┆ ---          ┆ ---     ┆ ---       ┆ ---              ┆ ---     ┆ ---  │\n",
       "│ str                     ┆ datetime[μs] ┆ bool    ┆ bool      ┆ bool             ┆ u32     ┆ u32  │\n",
       "╞═════════════════════════╪══════════════╪═════════╪═══════════╪══════════════════╪═════════╪══════╡\n",
       "│ 54aaaba29cd1180cf700007 ┆ 2015-01-05   ┆ false   ┆ false     ┆ false            ┆ 2288    ┆ 942  │\n",
       "│ 0                       ┆ 03:23:09     ┆         ┆           ┆                  ┆         ┆      │\n",
       "│ 54aaaba29cd1180cf700007 ┆ 2015-01-05   ┆ false   ┆ false     ┆ false            ┆ 2288    ┆ 942  │\n",
       "│ 0                       ┆ 03:23:37     ┆         ┆           ┆                  ┆         ┆      │\n",
       "│ 54aaaba29cd1180cf700007 ┆ 2015-01-05   ┆ false   ┆ false     ┆ false            ┆ 2288    ┆ 942  │\n",
       "│ 0                       ┆ 03:24:01     ┆         ┆           ┆                  ┆         ┆      │\n",
       "│ 54aaaba29cd1180cf700007 ┆ 2015-01-05   ┆ false   ┆ false     ┆ false            ┆ 2288    ┆ 942  │\n",
       "│ 0                       ┆ 03:24:17     ┆         ┆           ┆                  ┆         ┆      │\n",
       "│ 54aaaba29cd1180cf700007 ┆ 2015-01-05   ┆ false   ┆ false     ┆ false            ┆ 2288    ┆ 942  │\n",
       "│ 0                       ┆ 03:24:30     ┆         ┆           ┆                  ┆         ┆      │\n",
       "│ 54aac9549cd11825500000f ┆ 2015-01-05   ┆ true    ┆ true      ┆ true             ┆ 2289    ┆ 943  │\n",
       "│ 8                       ┆ 05:26:57     ┆         ┆           ┆                  ┆         ┆      │\n",
       "│ 54aac9549cd11825500000f ┆ 2015-01-05   ┆ false   ┆ false     ┆ false            ┆ 2289    ┆ 943  │\n",
       "│ 8                       ┆ 05:27:23     ┆         ┆           ┆                  ┆         ┆      │\n",
       "│ 54aac9549cd11825500000f ┆ 2015-01-05   ┆ false   ┆ false     ┆ false            ┆ 2289    ┆ 943  │\n",
       "│ 8                       ┆ 05:27:48     ┆         ┆           ┆                  ┆         ┆      │\n",
       "│ 54aac9549cd11825500000f ┆ 2015-01-05   ┆ false   ┆ false     ┆ false            ┆ 2289    ┆ 943  │\n",
       "│ 8                       ┆ 05:27:52     ┆         ┆           ┆                  ┆         ┆      │\n",
       "│ 54aac9549cd11825500000f ┆ 2015-01-05   ┆ false   ┆ false     ┆ false            ┆ 2289    ┆ 943  │\n",
       "│ 8                       ┆ 05:28:02     ┆         ┆           ┆                  ┆         ┆      │\n",
       "└─────────────────────────┴──────────────┴─────────┴───────────┴──────────────────┴─────────┴──────┘"
      ]
     },
     "execution_count": 23,
     "metadata": {},
     "output_type": "execute_result"
    }
   ],
   "source": [
    "df_with_sessions.tail(10)"
   ]
  },
  {
   "cell_type": "markdown",
   "id": "cf0dca1f-9a06-441b-92f5-38711e7e1e65",
   "metadata": {},
   "source": [
    "### For the sake of train/test split, I've decided to group by users, after all if the same user is used in both, we can potentially leak information."
   ]
  },
  {
   "cell_type": "code",
   "execution_count": 24,
   "id": "8edfaea0-5788-4b81-a5a7-0560a78949ca",
   "metadata": {},
   "outputs": [],
   "source": [
    "groups = df_with_sessions['user']"
   ]
  },
  {
   "cell_type": "markdown",
   "id": "6d0c4f91-e501-4da1-8d97-03dd4ddad331",
   "metadata": {},
   "source": [
    "### The requested .75/.25 split here is based on users. We may end with a differnt ratio with respect to the hits (or also with respect to sessions). "
   ]
  },
  {
   "cell_type": "code",
   "execution_count": 27,
   "id": "a37e1bc2-9637-4bff-9f48-8246a8d44ec6",
   "metadata": {},
   "outputs": [],
   "source": [
    "gss = GroupShuffleSplit(n_splits=2, train_size=.75, random_state=1)"
   ]
  },
  {
   "cell_type": "code",
   "execution_count": 28,
   "id": "846da7ca-e91d-4922-91a1-67f0403c9ce7",
   "metadata": {},
   "outputs": [
    {
     "name": "stdout",
     "output_type": "stream",
     "text": [
      "Fold 0:\n",
      "  Train: index=70774, group=707\n",
      "  Test:  index=29225, group=236\n",
      "Fold 1:\n",
      "  Train: index=76157, group=707\n",
      "  Test:  index=23842, group=236\n"
     ]
    }
   ],
   "source": [
    "for i, (train_index, test_index) in enumerate(gss.split(df_with_sessions, groups=groups)):\n",
    "    print(f\"Fold {i}:\")\n",
    "    print(f\"  Train: index={len(train_index)}, group={len(np.unique(groups[train_index]))}\")\n",
    "    print(f\"  Test:  index={len(test_index)}, group={len(np.unique(groups[test_index]))}\")"
   ]
  },
  {
   "cell_type": "code",
   "execution_count": null,
   "id": "52f1f86e-f551-4a24-9ee9-cb56042bc33f",
   "metadata": {},
   "outputs": [],
   "source": []
  }
 ],
 "metadata": {
  "kernelspec": {
   "display_name": "Python 3 (ipykernel)",
   "language": "python",
   "name": "python3"
  },
  "language_info": {
   "codemirror_mode": {
    "name": "ipython",
    "version": 3
   },
   "file_extension": ".py",
   "mimetype": "text/x-python",
   "name": "python",
   "nbconvert_exporter": "python",
   "pygments_lexer": "ipython3",
   "version": "3.10.13"
  }
 },
 "nbformat": 4,
 "nbformat_minor": 5
}
