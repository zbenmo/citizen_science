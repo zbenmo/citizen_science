{
 "cells": [
  {
   "cell_type": "code",
   "execution_count": 3,
   "id": "5406697e-4a64-4e77-978e-af8398df8a93",
   "metadata": {},
   "outputs": [],
   "source": [
    "import polars as pl"
   ]
  },
  {
   "cell_type": "code",
   "execution_count": 42,
   "id": "388efbcf-1975-4bad-8ef5-d4c7545216b8",
   "metadata": {},
   "outputs": [],
   "source": [
    "df = (\n",
    "    pl.read_excel('Data for Student Hiring Project - Citizen Science .xlsx', read_options={\"has_header\": False})\n",
    "    .rename({'column_1': 'user_id', 'column_2': 'timestamp'})\n",
    "    .with_columns(pl.col('timestamp').str.to_datetime())\n",
    ")"
   ]
  },
  {
   "cell_type": "code",
   "execution_count": 43,
   "id": "0ced6585-1b12-4b29-9367-5b4f21e05c07",
   "metadata": {},
   "outputs": [
    {
     "data": {
      "text/plain": [
       "(99999, 2)"
      ]
     },
     "execution_count": 43,
     "metadata": {},
     "output_type": "execute_result"
    }
   ],
   "source": [
    "df.shape"
   ]
  },
  {
   "cell_type": "code",
   "execution_count": 44,
   "id": "b297567c-76e5-451d-addb-7f7a3cdf64c8",
   "metadata": {},
   "outputs": [
    {
     "data": {
      "text/html": [
       "<div><style>\n",
       ".dataframe > thead > tr,\n",
       ".dataframe > tbody > tr {\n",
       "  text-align: right;\n",
       "  white-space: pre-wrap;\n",
       "}\n",
       "</style>\n",
       "<small>shape: (5, 2)</small><table border=\"1\" class=\"dataframe\"><thead><tr><th>user_id</th><th>timestamp</th></tr><tr><td>str</td><td>datetime[μs]</td></tr></thead><tbody><tr><td>&quot;54999c8d9cd118282b001784&quot;</td><td>2014-12-23 04:53:19</td></tr><tr><td>&quot;54999c91bb7b56040d0011e8&quot;</td><td>2014-12-23 04:53:20</td></tr><tr><td>&quot;54999c8fbb7b565d7e000a7c&quot;</td><td>2014-12-23 04:53:21</td></tr><tr><td>&quot;54999cb29cd1184d77000539&quot;</td><td>2014-12-23 04:53:24</td></tr><tr><td>&quot;54068fab91ad6b597e000f97&quot;</td><td>2014-12-23 04:53:28</td></tr></tbody></table></div>"
      ],
      "text/plain": [
       "shape: (5, 2)\n",
       "┌──────────────────────────┬─────────────────────┐\n",
       "│ user_id                  ┆ timestamp           │\n",
       "│ ---                      ┆ ---                 │\n",
       "│ str                      ┆ datetime[μs]        │\n",
       "╞══════════════════════════╪═════════════════════╡\n",
       "│ 54999c8d9cd118282b001784 ┆ 2014-12-23 04:53:19 │\n",
       "│ 54999c91bb7b56040d0011e8 ┆ 2014-12-23 04:53:20 │\n",
       "│ 54999c8fbb7b565d7e000a7c ┆ 2014-12-23 04:53:21 │\n",
       "│ 54999cb29cd1184d77000539 ┆ 2014-12-23 04:53:24 │\n",
       "│ 54068fab91ad6b597e000f97 ┆ 2014-12-23 04:53:28 │\n",
       "└──────────────────────────┴─────────────────────┘"
      ]
     },
     "execution_count": 44,
     "metadata": {},
     "output_type": "execute_result"
    }
   ],
   "source": [
    "df.head()"
   ]
  },
  {
   "cell_type": "code",
   "execution_count": 110,
   "id": "8ae5fb9a-fc2f-4323-9224-00d8e6b1ce4a",
   "metadata": {},
   "outputs": [],
   "source": [
    "def find_sessions(df, threshold):\n",
    "    return (\n",
    "        df.sort(['user_id', 'timestamp'])\n",
    "        .with_columns((pl.col('timestamp').diff().cast(pl.Int64) > threshold).fill_null(True).alias('ts_diff'))\n",
    "        .with_columns((pl.col('user_id').ne(pl.col('user_id').shift())).fill_null(True).alias('user_diff'))\n",
    "        .with_columns([\n",
    "            (pl.col(\"ts_diff\") | pl.col(\"user_diff\")).alias(\"new_session_mark\")\n",
    "        ])\n",
    "        .with_columns([\n",
    "            pl.col(\"new_session_mark\").cum_sum().alias(\"session\")\n",
    "        ])\n",
    "    )"
   ]
  },
  {
   "cell_type": "code",
   "execution_count": 112,
   "id": "a87675b1-806e-4e85-a9a3-b73640bbaf79",
   "metadata": {},
   "outputs": [],
   "source": [
    "df_with_sessions = df.pipe(find_sessions, threshold=1_000_000 * 60 * 30)"
   ]
  },
  {
   "cell_type": "code",
   "execution_count": 114,
   "id": "e2b43560-2f99-4968-bd2d-54ef567d864b",
   "metadata": {},
   "outputs": [
    {
     "data": {
      "text/html": [
       "<div><style>\n",
       ".dataframe > thead > tr,\n",
       ".dataframe > tbody > tr {\n",
       "  text-align: right;\n",
       "  white-space: pre-wrap;\n",
       "}\n",
       "</style>\n",
       "<small>shape: (10, 6)</small><table border=\"1\" class=\"dataframe\"><thead><tr><th>user_id</th><th>timestamp</th><th>ts_diff</th><th>user_diff</th><th>new_session_mark</th><th>session</th></tr><tr><td>str</td><td>datetime[μs]</td><td>bool</td><td>bool</td><td>bool</td><td>u32</td></tr></thead><tbody><tr><td>&quot;54aaaba29cd1180cf7000070&quot;</td><td>2015-01-05 03:23:09</td><td>false</td><td>false</td><td>false</td><td>2288</td></tr><tr><td>&quot;54aaaba29cd1180cf7000070&quot;</td><td>2015-01-05 03:23:37</td><td>false</td><td>false</td><td>false</td><td>2288</td></tr><tr><td>&quot;54aaaba29cd1180cf7000070&quot;</td><td>2015-01-05 03:24:01</td><td>false</td><td>false</td><td>false</td><td>2288</td></tr><tr><td>&quot;54aaaba29cd1180cf7000070&quot;</td><td>2015-01-05 03:24:17</td><td>false</td><td>false</td><td>false</td><td>2288</td></tr><tr><td>&quot;54aaaba29cd1180cf7000070&quot;</td><td>2015-01-05 03:24:30</td><td>false</td><td>false</td><td>false</td><td>2288</td></tr><tr><td>&quot;54aac9549cd11825500000f8&quot;</td><td>2015-01-05 05:26:57</td><td>true</td><td>true</td><td>true</td><td>2289</td></tr><tr><td>&quot;54aac9549cd11825500000f8&quot;</td><td>2015-01-05 05:27:23</td><td>false</td><td>false</td><td>false</td><td>2289</td></tr><tr><td>&quot;54aac9549cd11825500000f8&quot;</td><td>2015-01-05 05:27:48</td><td>false</td><td>false</td><td>false</td><td>2289</td></tr><tr><td>&quot;54aac9549cd11825500000f8&quot;</td><td>2015-01-05 05:27:52</td><td>false</td><td>false</td><td>false</td><td>2289</td></tr><tr><td>&quot;54aac9549cd11825500000f8&quot;</td><td>2015-01-05 05:28:02</td><td>false</td><td>false</td><td>false</td><td>2289</td></tr></tbody></table></div>"
      ],
      "text/plain": [
       "shape: (10, 6)\n",
       "┌─────────────────────────┬─────────────────────┬─────────┬───────────┬──────────────────┬─────────┐\n",
       "│ user_id                 ┆ timestamp           ┆ ts_diff ┆ user_diff ┆ new_session_mark ┆ session │\n",
       "│ ---                     ┆ ---                 ┆ ---     ┆ ---       ┆ ---              ┆ ---     │\n",
       "│ str                     ┆ datetime[μs]        ┆ bool    ┆ bool      ┆ bool             ┆ u32     │\n",
       "╞═════════════════════════╪═════════════════════╪═════════╪═══════════╪══════════════════╪═════════╡\n",
       "│ 54aaaba29cd1180cf700007 ┆ 2015-01-05 03:23:09 ┆ false   ┆ false     ┆ false            ┆ 2288    │\n",
       "│ 0                       ┆                     ┆         ┆           ┆                  ┆         │\n",
       "│ 54aaaba29cd1180cf700007 ┆ 2015-01-05 03:23:37 ┆ false   ┆ false     ┆ false            ┆ 2288    │\n",
       "│ 0                       ┆                     ┆         ┆           ┆                  ┆         │\n",
       "│ 54aaaba29cd1180cf700007 ┆ 2015-01-05 03:24:01 ┆ false   ┆ false     ┆ false            ┆ 2288    │\n",
       "│ 0                       ┆                     ┆         ┆           ┆                  ┆         │\n",
       "│ 54aaaba29cd1180cf700007 ┆ 2015-01-05 03:24:17 ┆ false   ┆ false     ┆ false            ┆ 2288    │\n",
       "│ 0                       ┆                     ┆         ┆           ┆                  ┆         │\n",
       "│ 54aaaba29cd1180cf700007 ┆ 2015-01-05 03:24:30 ┆ false   ┆ false     ┆ false            ┆ 2288    │\n",
       "│ 0                       ┆                     ┆         ┆           ┆                  ┆         │\n",
       "│ 54aac9549cd11825500000f ┆ 2015-01-05 05:26:57 ┆ true    ┆ true      ┆ true             ┆ 2289    │\n",
       "│ 8                       ┆                     ┆         ┆           ┆                  ┆         │\n",
       "│ 54aac9549cd11825500000f ┆ 2015-01-05 05:27:23 ┆ false   ┆ false     ┆ false            ┆ 2289    │\n",
       "│ 8                       ┆                     ┆         ┆           ┆                  ┆         │\n",
       "│ 54aac9549cd11825500000f ┆ 2015-01-05 05:27:48 ┆ false   ┆ false     ┆ false            ┆ 2289    │\n",
       "│ 8                       ┆                     ┆         ┆           ┆                  ┆         │\n",
       "│ 54aac9549cd11825500000f ┆ 2015-01-05 05:27:52 ┆ false   ┆ false     ┆ false            ┆ 2289    │\n",
       "│ 8                       ┆                     ┆         ┆           ┆                  ┆         │\n",
       "│ 54aac9549cd11825500000f ┆ 2015-01-05 05:28:02 ┆ false   ┆ false     ┆ false            ┆ 2289    │\n",
       "│ 8                       ┆                     ┆         ┆           ┆                  ┆         │\n",
       "└─────────────────────────┴─────────────────────┴─────────┴───────────┴──────────────────┴─────────┘"
      ]
     },
     "execution_count": 114,
     "metadata": {},
     "output_type": "execute_result"
    }
   ],
   "source": [
    "df_with_sessions.tail(10)"
   ]
  },
  {
   "cell_type": "code",
   "execution_count": null,
   "id": "0acd960f-c476-43af-86f0-5f446b726892",
   "metadata": {},
   "outputs": [],
   "source": []
  }
 ],
 "metadata": {
  "kernelspec": {
   "display_name": "Python 3 (ipykernel)",
   "language": "python",
   "name": "python3"
  },
  "language_info": {
   "codemirror_mode": {
    "name": "ipython",
    "version": 3
   },
   "file_extension": ".py",
   "mimetype": "text/x-python",
   "name": "python",
   "nbconvert_exporter": "python",
   "pygments_lexer": "ipython3",
   "version": "3.10.13"
  }
 },
 "nbformat": 4,
 "nbformat_minor": 5
}
