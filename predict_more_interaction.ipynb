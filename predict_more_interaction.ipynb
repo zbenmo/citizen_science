{
 "cells": [
  {
   "cell_type": "code",
   "execution_count": 47,
   "id": "192a54bb-1e71-46b8-a63f-c11a826b658e",
   "metadata": {},
   "outputs": [],
   "source": [
    "import polars as pl\n",
    "\n",
    "#from sklearn.model_selection import GroupShuffleSplit\n",
    "import numpy as np\n",
    "\n",
    "from sklearn.model_selection import StratifiedGroupKFold"
   ]
  },
  {
   "cell_type": "markdown",
   "id": "d986f7d5-e7c9-4b25-aafb-2662efdb59d2",
   "metadata": {},
   "source": [
    "## The data was dowloaded locally, and is read from there (the local disk).\n",
    "### apparently no header"
   ]
  },
  {
   "cell_type": "code",
   "execution_count": 48,
   "id": "388efbcf-1975-4bad-8ef5-d4c7545216b8",
   "metadata": {},
   "outputs": [],
   "source": [
    "df = (\n",
    "    pl.read_excel('Data for Student Hiring Project - Citizen Science .xlsx', read_options={\"has_header\": False})\n",
    "    .rename({'column_1': 'user_id', 'column_2': 'timestamp'})\n",
    "    .with_columns(pl.col('timestamp').str.to_datetime())\n",
    ")"
   ]
  },
  {
   "cell_type": "code",
   "execution_count": 49,
   "id": "0ced6585-1b12-4b29-9367-5b4f21e05c07",
   "metadata": {},
   "outputs": [
    {
     "data": {
      "text/plain": [
       "(99999, 2)"
      ]
     },
     "execution_count": 49,
     "metadata": {},
     "output_type": "execute_result"
    }
   ],
   "source": [
    "df.shape"
   ]
  },
  {
   "cell_type": "code",
   "execution_count": 50,
   "id": "b297567c-76e5-451d-addb-7f7a3cdf64c8",
   "metadata": {},
   "outputs": [
    {
     "data": {
      "text/html": [
       "<div><style>\n",
       ".dataframe > thead > tr,\n",
       ".dataframe > tbody > tr {\n",
       "  text-align: right;\n",
       "  white-space: pre-wrap;\n",
       "}\n",
       "</style>\n",
       "<small>shape: (5, 2)</small><table border=\"1\" class=\"dataframe\"><thead><tr><th>user_id</th><th>timestamp</th></tr><tr><td>str</td><td>datetime[μs]</td></tr></thead><tbody><tr><td>&quot;54999c8d9cd118282b001784&quot;</td><td>2014-12-23 04:53:19</td></tr><tr><td>&quot;54999c91bb7b56040d0011e8&quot;</td><td>2014-12-23 04:53:20</td></tr><tr><td>&quot;54999c8fbb7b565d7e000a7c&quot;</td><td>2014-12-23 04:53:21</td></tr><tr><td>&quot;54999cb29cd1184d77000539&quot;</td><td>2014-12-23 04:53:24</td></tr><tr><td>&quot;54068fab91ad6b597e000f97&quot;</td><td>2014-12-23 04:53:28</td></tr></tbody></table></div>"
      ],
      "text/plain": [
       "shape: (5, 2)\n",
       "┌──────────────────────────┬─────────────────────┐\n",
       "│ user_id                  ┆ timestamp           │\n",
       "│ ---                      ┆ ---                 │\n",
       "│ str                      ┆ datetime[μs]        │\n",
       "╞══════════════════════════╪═════════════════════╡\n",
       "│ 54999c8d9cd118282b001784 ┆ 2014-12-23 04:53:19 │\n",
       "│ 54999c91bb7b56040d0011e8 ┆ 2014-12-23 04:53:20 │\n",
       "│ 54999c8fbb7b565d7e000a7c ┆ 2014-12-23 04:53:21 │\n",
       "│ 54999cb29cd1184d77000539 ┆ 2014-12-23 04:53:24 │\n",
       "│ 54068fab91ad6b597e000f97 ┆ 2014-12-23 04:53:28 │\n",
       "└──────────────────────────┴─────────────────────┘"
      ]
     },
     "execution_count": 50,
     "metadata": {},
     "output_type": "execute_result"
    }
   ],
   "source": [
    "df.head()"
   ]
  },
  {
   "cell_type": "code",
   "execution_count": 51,
   "id": "8ae5fb9a-fc2f-4323-9224-00d8e6b1ce4a",
   "metadata": {},
   "outputs": [],
   "source": [
    "def find_sessions(df, threshold: int):\n",
    "    \"\"\"Identifing the sessions. giving an id for each session. Also giving a numeric id to a user.\n",
    "    \"\"\"\n",
    "    return (\n",
    "        df.sort(['user_id', 'timestamp'])\n",
    "        .with_columns((pl.col('timestamp').diff().cast(pl.Int64) > threshold).fill_null(True).alias('ts_diff'))\n",
    "        .with_columns((pl.col('user_id').ne(pl.col('user_id').shift())).fill_null(True).alias('user_diff'))\n",
    "        .with_columns([\n",
    "            (pl.col(\"ts_diff\") | pl.col(\"user_diff\")).alias(\"new_session_mark\")\n",
    "        ])\n",
    "        .with_columns([\n",
    "            pl.col(\"new_session_mark\").cum_sum().alias(\"session\")\n",
    "        ])\n",
    "        .with_columns([\n",
    "            pl.col(\"user_diff\").cum_sum().alias(\"user\")\n",
    "        ])\n",
    "    )"
   ]
  },
  {
   "cell_type": "markdown",
   "id": "55d566ce-56de-4a71-b595-62df5f80fd21",
   "metadata": {},
   "source": [
    "### We add session ids based on the user_id and whether 30 minutes have passed."
   ]
  },
  {
   "cell_type": "code",
   "execution_count": 52,
   "id": "a87675b1-806e-4e85-a9a3-b73640bbaf79",
   "metadata": {},
   "outputs": [],
   "source": [
    "df_with_sessions = df.pipe(find_sessions, threshold=1_000_000 * 60 * 30)"
   ]
  },
  {
   "cell_type": "code",
   "execution_count": 53,
   "id": "e2b43560-2f99-4968-bd2d-54ef567d864b",
   "metadata": {},
   "outputs": [
    {
     "data": {
      "text/html": [
       "<div><style>\n",
       ".dataframe > thead > tr,\n",
       ".dataframe > tbody > tr {\n",
       "  text-align: right;\n",
       "  white-space: pre-wrap;\n",
       "}\n",
       "</style>\n",
       "<small>shape: (10, 7)</small><table border=\"1\" class=\"dataframe\"><thead><tr><th>user_id</th><th>timestamp</th><th>ts_diff</th><th>user_diff</th><th>new_session_mark</th><th>session</th><th>user</th></tr><tr><td>str</td><td>datetime[μs]</td><td>bool</td><td>bool</td><td>bool</td><td>u32</td><td>u32</td></tr></thead><tbody><tr><td>&quot;54aaaba29cd1180cf7000070&quot;</td><td>2015-01-05 03:23:09</td><td>false</td><td>false</td><td>false</td><td>2288</td><td>942</td></tr><tr><td>&quot;54aaaba29cd1180cf7000070&quot;</td><td>2015-01-05 03:23:37</td><td>false</td><td>false</td><td>false</td><td>2288</td><td>942</td></tr><tr><td>&quot;54aaaba29cd1180cf7000070&quot;</td><td>2015-01-05 03:24:01</td><td>false</td><td>false</td><td>false</td><td>2288</td><td>942</td></tr><tr><td>&quot;54aaaba29cd1180cf7000070&quot;</td><td>2015-01-05 03:24:17</td><td>false</td><td>false</td><td>false</td><td>2288</td><td>942</td></tr><tr><td>&quot;54aaaba29cd1180cf7000070&quot;</td><td>2015-01-05 03:24:30</td><td>false</td><td>false</td><td>false</td><td>2288</td><td>942</td></tr><tr><td>&quot;54aac9549cd11825500000f8&quot;</td><td>2015-01-05 05:26:57</td><td>true</td><td>true</td><td>true</td><td>2289</td><td>943</td></tr><tr><td>&quot;54aac9549cd11825500000f8&quot;</td><td>2015-01-05 05:27:23</td><td>false</td><td>false</td><td>false</td><td>2289</td><td>943</td></tr><tr><td>&quot;54aac9549cd11825500000f8&quot;</td><td>2015-01-05 05:27:48</td><td>false</td><td>false</td><td>false</td><td>2289</td><td>943</td></tr><tr><td>&quot;54aac9549cd11825500000f8&quot;</td><td>2015-01-05 05:27:52</td><td>false</td><td>false</td><td>false</td><td>2289</td><td>943</td></tr><tr><td>&quot;54aac9549cd11825500000f8&quot;</td><td>2015-01-05 05:28:02</td><td>false</td><td>false</td><td>false</td><td>2289</td><td>943</td></tr></tbody></table></div>"
      ],
      "text/plain": [
       "shape: (10, 7)\n",
       "┌─────────────────────────┬──────────────┬─────────┬───────────┬──────────────────┬─────────┬──────┐\n",
       "│ user_id                 ┆ timestamp    ┆ ts_diff ┆ user_diff ┆ new_session_mark ┆ session ┆ user │\n",
       "│ ---                     ┆ ---          ┆ ---     ┆ ---       ┆ ---              ┆ ---     ┆ ---  │\n",
       "│ str                     ┆ datetime[μs] ┆ bool    ┆ bool      ┆ bool             ┆ u32     ┆ u32  │\n",
       "╞═════════════════════════╪══════════════╪═════════╪═══════════╪══════════════════╪═════════╪══════╡\n",
       "│ 54aaaba29cd1180cf700007 ┆ 2015-01-05   ┆ false   ┆ false     ┆ false            ┆ 2288    ┆ 942  │\n",
       "│ 0                       ┆ 03:23:09     ┆         ┆           ┆                  ┆         ┆      │\n",
       "│ 54aaaba29cd1180cf700007 ┆ 2015-01-05   ┆ false   ┆ false     ┆ false            ┆ 2288    ┆ 942  │\n",
       "│ 0                       ┆ 03:23:37     ┆         ┆           ┆                  ┆         ┆      │\n",
       "│ 54aaaba29cd1180cf700007 ┆ 2015-01-05   ┆ false   ┆ false     ┆ false            ┆ 2288    ┆ 942  │\n",
       "│ 0                       ┆ 03:24:01     ┆         ┆           ┆                  ┆         ┆      │\n",
       "│ 54aaaba29cd1180cf700007 ┆ 2015-01-05   ┆ false   ┆ false     ┆ false            ┆ 2288    ┆ 942  │\n",
       "│ 0                       ┆ 03:24:17     ┆         ┆           ┆                  ┆         ┆      │\n",
       "│ 54aaaba29cd1180cf700007 ┆ 2015-01-05   ┆ false   ┆ false     ┆ false            ┆ 2288    ┆ 942  │\n",
       "│ 0                       ┆ 03:24:30     ┆         ┆           ┆                  ┆         ┆      │\n",
       "│ 54aac9549cd11825500000f ┆ 2015-01-05   ┆ true    ┆ true      ┆ true             ┆ 2289    ┆ 943  │\n",
       "│ 8                       ┆ 05:26:57     ┆         ┆           ┆                  ┆         ┆      │\n",
       "│ 54aac9549cd11825500000f ┆ 2015-01-05   ┆ false   ┆ false     ┆ false            ┆ 2289    ┆ 943  │\n",
       "│ 8                       ┆ 05:27:23     ┆         ┆           ┆                  ┆         ┆      │\n",
       "│ 54aac9549cd11825500000f ┆ 2015-01-05   ┆ false   ┆ false     ┆ false            ┆ 2289    ┆ 943  │\n",
       "│ 8                       ┆ 05:27:48     ┆         ┆           ┆                  ┆         ┆      │\n",
       "│ 54aac9549cd11825500000f ┆ 2015-01-05   ┆ false   ┆ false     ┆ false            ┆ 2289    ┆ 943  │\n",
       "│ 8                       ┆ 05:27:52     ┆         ┆           ┆                  ┆         ┆      │\n",
       "│ 54aac9549cd11825500000f ┆ 2015-01-05   ┆ false   ┆ false     ┆ false            ┆ 2289    ┆ 943  │\n",
       "│ 8                       ┆ 05:28:02     ┆         ┆           ┆                  ┆         ┆      │\n",
       "└─────────────────────────┴──────────────┴─────────┴───────────┴──────────────────┴─────────┴──────┘"
      ]
     },
     "execution_count": 53,
     "metadata": {},
     "output_type": "execute_result"
    }
   ],
   "source": [
    "df_with_sessions.tail(10)"
   ]
  },
  {
   "cell_type": "code",
   "execution_count": 54,
   "id": "376dd759-d148-44a9-afe0-86e9e071a2c6",
   "metadata": {},
   "outputs": [
    {
     "data": {
      "text/html": [
       "<div><style>\n",
       ".dataframe > thead > tr,\n",
       ".dataframe > tbody > tr {\n",
       "  text-align: right;\n",
       "  white-space: pre-wrap;\n",
       "}\n",
       "</style>\n",
       "<small>shape: (5, 7)</small><table border=\"1\" class=\"dataframe\"><thead><tr><th>user_id</th><th>timestamp</th><th>ts_diff</th><th>user_diff</th><th>new_session_mark</th><th>session</th><th>user</th></tr><tr><td>str</td><td>datetime[μs]</td><td>bool</td><td>bool</td><td>bool</td><td>u32</td><td>u32</td></tr></thead><tbody><tr><td>&quot;4d5835cc2a82e278e6000028&quot;</td><td>2015-01-05 03:04:02</td><td>true</td><td>true</td><td>true</td><td>1</td><td>1</td></tr><tr><td>&quot;4d5835cc2a82e278e6000028&quot;</td><td>2015-01-05 03:04:53</td><td>false</td><td>false</td><td>false</td><td>1</td><td>1</td></tr><tr><td>&quot;4d5835cc2a82e278e6000028&quot;</td><td>2015-01-05 03:05:45</td><td>false</td><td>false</td><td>false</td><td>1</td><td>1</td></tr><tr><td>&quot;4d5835cc2a82e278e6000028&quot;</td><td>2015-01-05 03:06:10</td><td>false</td><td>false</td><td>false</td><td>1</td><td>1</td></tr><tr><td>&quot;4d5835cc2a82e278e6000028&quot;</td><td>2015-01-05 03:06:25</td><td>false</td><td>false</td><td>false</td><td>1</td><td>1</td></tr></tbody></table></div>"
      ],
      "text/plain": [
       "shape: (5, 7)\n",
       "┌─────────────────────────┬──────────────┬─────────┬───────────┬──────────────────┬─────────┬──────┐\n",
       "│ user_id                 ┆ timestamp    ┆ ts_diff ┆ user_diff ┆ new_session_mark ┆ session ┆ user │\n",
       "│ ---                     ┆ ---          ┆ ---     ┆ ---       ┆ ---              ┆ ---     ┆ ---  │\n",
       "│ str                     ┆ datetime[μs] ┆ bool    ┆ bool      ┆ bool             ┆ u32     ┆ u32  │\n",
       "╞═════════════════════════╪══════════════╪═════════╪═══════════╪══════════════════╪═════════╪══════╡\n",
       "│ 4d5835cc2a82e278e600002 ┆ 2015-01-05   ┆ true    ┆ true      ┆ true             ┆ 1       ┆ 1    │\n",
       "│ 8                       ┆ 03:04:02     ┆         ┆           ┆                  ┆         ┆      │\n",
       "│ 4d5835cc2a82e278e600002 ┆ 2015-01-05   ┆ false   ┆ false     ┆ false            ┆ 1       ┆ 1    │\n",
       "│ 8                       ┆ 03:04:53     ┆         ┆           ┆                  ┆         ┆      │\n",
       "│ 4d5835cc2a82e278e600002 ┆ 2015-01-05   ┆ false   ┆ false     ┆ false            ┆ 1       ┆ 1    │\n",
       "│ 8                       ┆ 03:05:45     ┆         ┆           ┆                  ┆         ┆      │\n",
       "│ 4d5835cc2a82e278e600002 ┆ 2015-01-05   ┆ false   ┆ false     ┆ false            ┆ 1       ┆ 1    │\n",
       "│ 8                       ┆ 03:06:10     ┆         ┆           ┆                  ┆         ┆      │\n",
       "│ 4d5835cc2a82e278e600002 ┆ 2015-01-05   ┆ false   ┆ false     ┆ false            ┆ 1       ┆ 1    │\n",
       "│ 8                       ┆ 03:06:25     ┆         ┆           ┆                  ┆         ┆      │\n",
       "└─────────────────────────┴──────────────┴─────────┴───────────┴──────────────────┴─────────┴──────┘"
      ]
     },
     "execution_count": 54,
     "metadata": {},
     "output_type": "execute_result"
    }
   ],
   "source": [
    "df_with_sessions.head()"
   ]
  },
  {
   "cell_type": "markdown",
   "id": "4a025efd-4cdb-4043-ad81-ff49a87205cd",
   "metadata": {},
   "source": [
    "### Let's learn/predict the additional time in the system (in seconds). Therefore < 5 * 60 means about to disengage."
   ]
  },
  {
   "cell_type": "code",
   "execution_count": 55,
   "id": "e5e123b0-95c0-4a71-8ec1-e320174f140e",
   "metadata": {},
   "outputs": [],
   "source": [
    "df_with_target = (\n",
    "    df_with_sessions\n",
    "    .with_columns(\n",
    "        ((pl.col(\"timestamp\").max().over(\"session\") - pl.col('timestamp')).cast(pl.Int64) / 1_000_000).alias('target')\n",
    "    )\n",
    ")"
   ]
  },
  {
   "cell_type": "code",
   "execution_count": 56,
   "id": "7b2b402f-61ab-4d08-b4ee-f6e69bdf608d",
   "metadata": {},
   "outputs": [
    {
     "data": {},
     "metadata": {},
     "output_type": "display_data"
    },
    {
     "data": {
      "application/vnd.holoviews_exec.v0+json": "",
      "text/html": [
       "<div id='p1844'>\n",
       "  <div id=\"dd9c3140-6297-4eaf-b660-5222196c89eb\" data-root-id=\"p1844\" style=\"display: contents;\"></div>\n",
       "</div>\n",
       "<script type=\"application/javascript\">(function(root) {\n",
       "  var docs_json = {\"65636052-38ec-4229-936f-aec46f438aef\":{\"version\":\"3.4.1\",\"title\":\"Bokeh Application\",\"roots\":[{\"type\":\"object\",\"name\":\"Row\",\"id\":\"p1844\",\"attributes\":{\"name\":\"Row02528\",\"tags\":[\"embedded\"],\"stylesheets\":[\"\\n:host(.pn-loading):before, .pn-loading:before {\\n  background-color: #c3c3c3;\\n  mask-size: auto calc(min(50%, 400px));\\n  -webkit-mask-size: auto calc(min(50%, 400px));\\n}\",{\"type\":\"object\",\"name\":\"ImportedStyleSheet\",\"id\":\"p1847\",\"attributes\":{\"url\":\"https://cdn.holoviz.org/panel/1.4.2/dist/css/loading.css\"}},{\"type\":\"object\",\"name\":\"ImportedStyleSheet\",\"id\":\"p1903\",\"attributes\":{\"url\":\"https://cdn.holoviz.org/panel/1.4.2/dist/css/listpanel.css\"}},{\"type\":\"object\",\"name\":\"ImportedStyleSheet\",\"id\":\"p1845\",\"attributes\":{\"url\":\"https://cdn.holoviz.org/panel/1.4.2/dist/bundled/theme/default.css\"}},{\"type\":\"object\",\"name\":\"ImportedStyleSheet\",\"id\":\"p1846\",\"attributes\":{\"url\":\"https://cdn.holoviz.org/panel/1.4.2/dist/bundled/theme/native.css\"}}],\"min_width\":700,\"margin\":0,\"sizing_mode\":\"stretch_width\",\"align\":\"start\",\"children\":[{\"type\":\"object\",\"name\":\"Spacer\",\"id\":\"p1848\",\"attributes\":{\"name\":\"HSpacer02535\",\"stylesheets\":[\"\\n:host(.pn-loading):before, .pn-loading:before {\\n  background-color: #c3c3c3;\\n  mask-size: auto calc(min(50%, 400px));\\n  -webkit-mask-size: auto calc(min(50%, 400px));\\n}\",{\"id\":\"p1847\"},{\"id\":\"p1845\"},{\"id\":\"p1846\"}],\"margin\":0,\"sizing_mode\":\"stretch_width\",\"align\":\"start\"}},{\"type\":\"object\",\"name\":\"Figure\",\"id\":\"p1856\",\"attributes\":{\"width\":700,\"height\":300,\"margin\":[5,10],\"sizing_mode\":\"fixed\",\"align\":\"start\",\"x_range\":{\"type\":\"object\",\"name\":\"Range1d\",\"id\":\"p1849\",\"attributes\":{\"tags\":[[[\"target\",\"target\",null]],[]],\"start\":-470.6887523653016,\"end\":13097.688752365302,\"reset_start\":-470.6887523653016,\"reset_end\":13097.688752365302}},\"y_range\":{\"type\":\"object\",\"name\":\"Range1d\",\"id\":\"p1850\",\"attributes\":{\"tags\":[[[\"target_density\",\"Density\",null]],{\"type\":\"map\",\"entries\":[[\"invert_yaxis\",false],[\"autorange\",false]]}],\"end\":0.0008596820435476779,\"reset_start\":0.0,\"reset_end\":0.0008596820435476779}},\"x_scale\":{\"type\":\"object\",\"name\":\"LinearScale\",\"id\":\"p1866\"},\"y_scale\":{\"type\":\"object\",\"name\":\"LinearScale\",\"id\":\"p1867\"},\"title\":{\"type\":\"object\",\"name\":\"Title\",\"id\":\"p1859\",\"attributes\":{\"text_color\":\"black\",\"text_font_size\":\"12pt\"}},\"renderers\":[{\"type\":\"object\",\"name\":\"GlyphRenderer\",\"id\":\"p1896\",\"attributes\":{\"data_source\":{\"type\":\"object\",\"name\":\"ColumnDataSource\",\"id\":\"p1887\",\"attributes\":{\"selected\":{\"type\":\"object\",\"name\":\"Selection\",\"id\":\"p1888\",\"attributes\":{\"indices\":[],\"line_indices\":[]}},\"selection_policy\":{\"type\":\"object\",\"name\":\"UnionRenderers\",\"id\":\"p1889\"},\"data\":{\"type\":\"map\",\"entries\":[[\"x\",{\"type\":\"ndarray\",\"array\":{\"type\":\"bytes\",\"data\":\"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\"},\"shape\":[200],\"dtype\":\"float64\",\"order\":\"little\"}],[\"y\",{\"type\":\"ndarray\",\"array\":{\"type\":\"bytes\",\"data\":\"AAAAAAAAAAAAAAAAAAAAAAAAAAAAAAAAAAAAAAAAAAAAAAAAAAAAAAAAAAAAAAAAAAAAAAAAAAAAAAAAAAAAAAAAAAAAAAAAAAAAAAAAAAAAAAAAAAAAAAAAAAAAAAAAAAAAAAAAAAAAAAAAAAAAAAAAAAAAAAAAAAAAAAAAAAAAAAAAAAAAAAAAAAAAAAAAAAAAAAAAAAAAAAAAAAAAAAAAAAAAAAAAAAAAAAAAAAAAAAAAAAAAAAAAAAAAAAAAAAAAAAAAAAAAAAAAAAAAAAAAAAAAAAAAAAAAAAAAAAAAAAAAAAAAAAAAAAAAAAAAAAAAAAAAAAAAAAAAAAAAAAAAAAAAAAAAAAAAAAAAAAAAAAAAAAAAAAAAAAAAAAAAAAAAAAAAAAAAAAAAAAAAAAAAAAAAAAAAAAAAAAAAAAAAAAAAAAAAAAAAAAAAAAAAAAAAAAAAAAAAAAAAAAAAAAAAAAAAAAAAAAAAAAAAAAAAAAAAAAAAAAAAAAAAAAAAAAAAAAAAAAAAAAAAAAAAAAAAAAAAAAAAAAAAAAAAAAAAAAAAAAAAAAAAAAAAAAAAAAAAAAAAAAAAAAAAAAAAAAAAAAAAAAAAAAAAAAAAAAAAAAAAAAAAAAAAAAAAAAAAAAAAAAAAAAAAAAAAAAAAAAAAAAAAAAAAAAAAAAAAAAAAAAAAAAAAAAAAAAAAAAAAAAAAAAAAAAAAAAAAAAAAAAAAAAAAAAAAAAAAAAAAAAAAAAAAAAAAAAAAAAAAAAAAAAAAAAAAAAAAAAAAAAAAAAAAAAAAAAAAAAAAAAAAAAAAAAAAAAAAAAAAAAAAAAAAAAAAAAAAAAAAAAAAAAAAAAAAAAAAAAAAAAAAAAAAAAAAAAAAAAAAAAAAAAAAAAAAAAAAAAAAAAAAAAAAAAAAAAAAAAAAAAAAAAAAAAAAAAAAAAAAAAAAAAAAAAAAAAAAAAAAAAAAAAAAAAAAAAAAAAAAAAAAAAAAAAAAAAAAAAAAAAAAAAAAAAAAAAAAAAAAAAAAAAAAAAAAAAAAAAAAAAAAAAAAAAAAAAAAAAAAAADrs7rlp5wiPn8RJe1j/Vo+6z0FGzFPgz7zM/xxbMucPvKTusgI+qg+iyCyM5qVrD5LklVeF7SlPv9tjmuu9ZM+83XobiuEgD5epQw0MAyLPhz96NOoN5k+oanyvgXzmj7fN+/H2d+RPpreWejqIZE+LUu46vNMoz4CRYHp28WzPiSLdYSTZ7s+HaDdFF9kuT6D4xWYb5iyPk3Uvt9S6bA+XROWftnvsz45gLz1YES0Pm1sF8T1RLI+8OLc79jXsz5wdwTmePO5PsXre8rDIL8+T375AKQcwD7bdzTSlTa9PhlZxYmJUbg+R3JDLPRAuD4NvVXpXODAPpLhlV0ZQ8g+2rCTVaQJzT4NAMUve+DMPgdJsTudoMo+NSN6NWfzyj4mIxkJOwXRPht76oTuxNY+Qab1ba2o2z4B75N6k6vePpyJSf2EZuA+qQ/HDSlq4T5qMSlIrTDiPkYHIzW54eE+wTOetZDA4D5qkJtEM6vfPr+XCgRKLd4+jYi+wmab3T417LPJ3CvgPmPFALsTyuI+2YOmaPIh5D50lIkJEankPvW9i2G02uY+/mAmlNeI6T7JuY67pUvrPi66hdfXVe0+E28xsQ+J8D6LgNs+xi3zPrsusHkROfU+SQ78z2Wf9T5iIfr8PFP1PuNKE/ebZ/U+mqTalzbI9T5JuFmdAS73PrZ0OP0EnPo+7aVNL1MV/z5oYj8ZyVoBP05XzJGVnAI/MPRYcHimAz+Vi1lT2I4EP1LZDabWRQY/eh8yA3QuCT+mAe3ims8LP4VO9Wlc0Q0/BKVZNo48ED9P9hWdmuURP6EN9KNDLxM/HFvk+IvQEz9rlZUk4MYUP4P6mQSTIxc/WM5wI/RcGj/XPj2CX5sdP3nhbKkhwiA/49cUAHNYIz86AJQ0glwmP/yVkcaNdSk/riuZwzRTLD97E/ypSkYvP/LJiSbXwDE/kLH4fg/TND+7rDKhNXs4P4rX0dvE6Tw/ruqIuRKMQT9UWo3IJ7pFPyhugHPxm0k/4Awo4TAzSD9Uuto3D8s9P72ezdJjniQ/Eiu70gKX/T7sSrBR9RrFPg==\"},\"shape\":[200],\"dtype\":\"float64\",\"order\":\"little\"}]]}}},\"view\":{\"type\":\"object\",\"name\":\"CDSView\",\"id\":\"p1897\",\"attributes\":{\"filter\":{\"type\":\"object\",\"name\":\"AllIndices\",\"id\":\"p1898\"}}},\"glyph\":{\"type\":\"object\",\"name\":\"Patch\",\"id\":\"p1893\",\"attributes\":{\"tags\":[\"apply_ranges\"],\"x\":{\"type\":\"field\",\"field\":\"x\"},\"y\":{\"type\":\"field\",\"field\":\"y\"},\"fill_color\":\"#30a2da\",\"fill_alpha\":0.5,\"hatch_color\":\"#30a2da\"}},\"selection_glyph\":{\"type\":\"object\",\"name\":\"Patch\",\"id\":\"p1899\",\"attributes\":{\"tags\":[\"apply_ranges\"],\"x\":{\"type\":\"field\",\"field\":\"x\"},\"y\":{\"type\":\"field\",\"field\":\"y\"},\"fill_color\":\"#30a2da\",\"fill_alpha\":0.5,\"hatch_color\":\"#30a2da\"}},\"nonselection_glyph\":{\"type\":\"object\",\"name\":\"Patch\",\"id\":\"p1894\",\"attributes\":{\"tags\":[\"apply_ranges\"],\"x\":{\"type\":\"field\",\"field\":\"x\"},\"y\":{\"type\":\"field\",\"field\":\"y\"},\"line_alpha\":1,\"fill_color\":\"#30a2da\",\"fill_alpha\":0.5,\"hatch_color\":\"#30a2da\",\"hatch_alpha\":0.1}},\"muted_glyph\":{\"type\":\"object\",\"name\":\"Patch\",\"id\":\"p1895\",\"attributes\":{\"tags\":[\"apply_ranges\"],\"x\":{\"type\":\"field\",\"field\":\"x\"},\"y\":{\"type\":\"field\",\"field\":\"y\"},\"line_alpha\":0.2,\"fill_color\":\"#30a2da\",\"fill_alpha\":0.2,\"hatch_color\":\"#30a2da\",\"hatch_alpha\":0.2}}}}],\"toolbar\":{\"type\":\"object\",\"name\":\"Toolbar\",\"id\":\"p1865\",\"attributes\":{\"tools\":[{\"type\":\"object\",\"name\":\"WheelZoomTool\",\"id\":\"p1854\",\"attributes\":{\"tags\":[\"hv_created\"],\"renderers\":\"auto\",\"zoom_together\":\"none\"}},{\"type\":\"object\",\"name\":\"HoverTool\",\"id\":\"p1855\",\"attributes\":{\"tags\":[\"hv_created\"],\"renderers\":[{\"id\":\"p1896\"}],\"tooltips\":[[\"target\",\"@{target}\"],[\"Density\",\"@{target_density}\"]]}},{\"type\":\"object\",\"name\":\"SaveTool\",\"id\":\"p1878\"},{\"type\":\"object\",\"name\":\"PanTool\",\"id\":\"p1879\"},{\"type\":\"object\",\"name\":\"BoxZoomTool\",\"id\":\"p1880\",\"attributes\":{\"overlay\":{\"type\":\"object\",\"name\":\"BoxAnnotation\",\"id\":\"p1881\",\"attributes\":{\"syncable\":false,\"level\":\"overlay\",\"visible\":false,\"left\":{\"type\":\"number\",\"value\":\"nan\"},\"right\":{\"type\":\"number\",\"value\":\"nan\"},\"top\":{\"type\":\"number\",\"value\":\"nan\"},\"bottom\":{\"type\":\"number\",\"value\":\"nan\"},\"left_units\":\"canvas\",\"right_units\":\"canvas\",\"top_units\":\"canvas\",\"bottom_units\":\"canvas\",\"line_color\":\"black\",\"line_alpha\":1.0,\"line_width\":2,\"line_dash\":[4,4],\"fill_color\":\"lightgrey\",\"fill_alpha\":0.5}}}},{\"type\":\"object\",\"name\":\"ResetTool\",\"id\":\"p1886\"}],\"active_drag\":{\"id\":\"p1879\"},\"active_scroll\":{\"id\":\"p1854\"}}},\"left\":[{\"type\":\"object\",\"name\":\"LinearAxis\",\"id\":\"p1873\",\"attributes\":{\"ticker\":{\"type\":\"object\",\"name\":\"BasicTicker\",\"id\":\"p1874\",\"attributes\":{\"mantissas\":[1,2,5]}},\"formatter\":{\"type\":\"object\",\"name\":\"BasicTickFormatter\",\"id\":\"p1875\"},\"axis_label\":\"Density\",\"major_label_policy\":{\"type\":\"object\",\"name\":\"AllLabels\",\"id\":\"p1876\"}}}],\"below\":[{\"type\":\"object\",\"name\":\"LinearAxis\",\"id\":\"p1868\",\"attributes\":{\"ticker\":{\"type\":\"object\",\"name\":\"BasicTicker\",\"id\":\"p1869\",\"attributes\":{\"mantissas\":[1,2,5]}},\"formatter\":{\"type\":\"object\",\"name\":\"BasicTickFormatter\",\"id\":\"p1870\"},\"axis_label\":\"target\",\"major_label_policy\":{\"type\":\"object\",\"name\":\"AllLabels\",\"id\":\"p1871\"}}}],\"center\":[{\"type\":\"object\",\"name\":\"Grid\",\"id\":\"p1872\",\"attributes\":{\"axis\":{\"id\":\"p1868\"},\"grid_line_color\":null}},{\"type\":\"object\",\"name\":\"Grid\",\"id\":\"p1877\",\"attributes\":{\"dimension\":1,\"axis\":{\"id\":\"p1873\"},\"grid_line_color\":null}}],\"min_border_top\":10,\"min_border_bottom\":10,\"min_border_left\":10,\"min_border_right\":10,\"output_backend\":\"webgl\"}},{\"type\":\"object\",\"name\":\"Spacer\",\"id\":\"p1901\",\"attributes\":{\"name\":\"HSpacer02536\",\"stylesheets\":[\"\\n:host(.pn-loading):before, .pn-loading:before {\\n  background-color: #c3c3c3;\\n  mask-size: auto calc(min(50%, 400px));\\n  -webkit-mask-size: auto calc(min(50%, 400px));\\n}\",{\"id\":\"p1847\"},{\"id\":\"p1845\"},{\"id\":\"p1846\"}],\"margin\":0,\"sizing_mode\":\"stretch_width\",\"align\":\"start\"}}]}}],\"defs\":[{\"type\":\"model\",\"name\":\"ReactiveHTML1\"},{\"type\":\"model\",\"name\":\"FlexBox1\",\"properties\":[{\"name\":\"align_content\",\"kind\":\"Any\",\"default\":\"flex-start\"},{\"name\":\"align_items\",\"kind\":\"Any\",\"default\":\"flex-start\"},{\"name\":\"flex_direction\",\"kind\":\"Any\",\"default\":\"row\"},{\"name\":\"flex_wrap\",\"kind\":\"Any\",\"default\":\"wrap\"},{\"name\":\"gap\",\"kind\":\"Any\",\"default\":\"\"},{\"name\":\"justify_content\",\"kind\":\"Any\",\"default\":\"flex-start\"}]},{\"type\":\"model\",\"name\":\"FloatPanel1\",\"properties\":[{\"name\":\"config\",\"kind\":\"Any\",\"default\":{\"type\":\"map\"}},{\"name\":\"contained\",\"kind\":\"Any\",\"default\":true},{\"name\":\"position\",\"kind\":\"Any\",\"default\":\"right-top\"},{\"name\":\"offsetx\",\"kind\":\"Any\",\"default\":null},{\"name\":\"offsety\",\"kind\":\"Any\",\"default\":null},{\"name\":\"theme\",\"kind\":\"Any\",\"default\":\"primary\"},{\"name\":\"status\",\"kind\":\"Any\",\"default\":\"normalized\"}]},{\"type\":\"model\",\"name\":\"GridStack1\",\"properties\":[{\"name\":\"mode\",\"kind\":\"Any\",\"default\":\"warn\"},{\"name\":\"ncols\",\"kind\":\"Any\",\"default\":null},{\"name\":\"nrows\",\"kind\":\"Any\",\"default\":null},{\"name\":\"allow_resize\",\"kind\":\"Any\",\"default\":true},{\"name\":\"allow_drag\",\"kind\":\"Any\",\"default\":true},{\"name\":\"state\",\"kind\":\"Any\",\"default\":[]}]},{\"type\":\"model\",\"name\":\"drag1\",\"properties\":[{\"name\":\"slider_width\",\"kind\":\"Any\",\"default\":5},{\"name\":\"slider_color\",\"kind\":\"Any\",\"default\":\"black\"},{\"name\":\"value\",\"kind\":\"Any\",\"default\":50}]},{\"type\":\"model\",\"name\":\"click1\",\"properties\":[{\"name\":\"terminal_output\",\"kind\":\"Any\",\"default\":\"\"},{\"name\":\"debug_name\",\"kind\":\"Any\",\"default\":\"\"},{\"name\":\"clears\",\"kind\":\"Any\",\"default\":0}]},{\"type\":\"model\",\"name\":\"FastWrapper1\",\"properties\":[{\"name\":\"object\",\"kind\":\"Any\",\"default\":null},{\"name\":\"style\",\"kind\":\"Any\",\"default\":null}]},{\"type\":\"model\",\"name\":\"NotificationAreaBase1\",\"properties\":[{\"name\":\"js_events\",\"kind\":\"Any\",\"default\":{\"type\":\"map\"}},{\"name\":\"position\",\"kind\":\"Any\",\"default\":\"bottom-right\"},{\"name\":\"_clear\",\"kind\":\"Any\",\"default\":0}]},{\"type\":\"model\",\"name\":\"NotificationArea1\",\"properties\":[{\"name\":\"js_events\",\"kind\":\"Any\",\"default\":{\"type\":\"map\"}},{\"name\":\"notifications\",\"kind\":\"Any\",\"default\":[]},{\"name\":\"position\",\"kind\":\"Any\",\"default\":\"bottom-right\"},{\"name\":\"_clear\",\"kind\":\"Any\",\"default\":0},{\"name\":\"types\",\"kind\":\"Any\",\"default\":[{\"type\":\"map\",\"entries\":[[\"type\",\"warning\"],[\"background\",\"#ffc107\"],[\"icon\",{\"type\":\"map\",\"entries\":[[\"className\",\"fas fa-exclamation-triangle\"],[\"tagName\",\"i\"],[\"color\",\"white\"]]}]]},{\"type\":\"map\",\"entries\":[[\"type\",\"info\"],[\"background\",\"#007bff\"],[\"icon\",{\"type\":\"map\",\"entries\":[[\"className\",\"fas fa-info-circle\"],[\"tagName\",\"i\"],[\"color\",\"white\"]]}]]}]}]},{\"type\":\"model\",\"name\":\"Notification\",\"properties\":[{\"name\":\"background\",\"kind\":\"Any\",\"default\":null},{\"name\":\"duration\",\"kind\":\"Any\",\"default\":3000},{\"name\":\"icon\",\"kind\":\"Any\",\"default\":null},{\"name\":\"message\",\"kind\":\"Any\",\"default\":\"\"},{\"name\":\"notification_type\",\"kind\":\"Any\",\"default\":null},{\"name\":\"_destroyed\",\"kind\":\"Any\",\"default\":false}]},{\"type\":\"model\",\"name\":\"TemplateActions1\",\"properties\":[{\"name\":\"open_modal\",\"kind\":\"Any\",\"default\":0},{\"name\":\"close_modal\",\"kind\":\"Any\",\"default\":0}]},{\"type\":\"model\",\"name\":\"BootstrapTemplateActions1\",\"properties\":[{\"name\":\"open_modal\",\"kind\":\"Any\",\"default\":0},{\"name\":\"close_modal\",\"kind\":\"Any\",\"default\":0}]},{\"type\":\"model\",\"name\":\"TemplateEditor1\",\"properties\":[{\"name\":\"layout\",\"kind\":\"Any\",\"default\":[]}]},{\"type\":\"model\",\"name\":\"MaterialTemplateActions1\",\"properties\":[{\"name\":\"open_modal\",\"kind\":\"Any\",\"default\":0},{\"name\":\"close_modal\",\"kind\":\"Any\",\"default\":0}]},{\"type\":\"model\",\"name\":\"copy_to_clipboard1\",\"properties\":[{\"name\":\"fill\",\"kind\":\"Any\",\"default\":\"none\"},{\"name\":\"value\",\"kind\":\"Any\",\"default\":null}]}]}};\n",
       "  var render_items = [{\"docid\":\"65636052-38ec-4229-936f-aec46f438aef\",\"roots\":{\"p1844\":\"dd9c3140-6297-4eaf-b660-5222196c89eb\"},\"root_ids\":[\"p1844\"]}];\n",
       "  var docs = Object.values(docs_json)\n",
       "  if (!docs) {\n",
       "    return\n",
       "  }\n",
       "  const py_version = docs[0].version.replace('rc', '-rc.').replace('.dev', '-dev.')\n",
       "  function embed_document(root) {\n",
       "    var Bokeh = get_bokeh(root)\n",
       "    Bokeh.embed.embed_items_notebook(docs_json, render_items);\n",
       "    for (const render_item of render_items) {\n",
       "      for (const root_id of render_item.root_ids) {\n",
       "\tconst id_el = document.getElementById(root_id)\n",
       "\tif (id_el.children.length && (id_el.children[0].className === 'bk-root')) {\n",
       "\t  const root_el = id_el.children[0]\n",
       "\t  root_el.id = root_el.id + '-rendered'\n",
       "\t}\n",
       "      }\n",
       "    }\n",
       "  }\n",
       "  function get_bokeh(root) {\n",
       "    if (root.Bokeh === undefined) {\n",
       "      return null\n",
       "    } else if (root.Bokeh.version !== py_version) {\n",
       "      if (root.Bokeh.versions === undefined || !root.Bokeh.versions.has(py_version)) {\n",
       "\treturn null\n",
       "      }\n",
       "      return root.Bokeh.versions.get(py_version);\n",
       "    } else if (root.Bokeh.version === py_version) {\n",
       "      return root.Bokeh\n",
       "    }\n",
       "    return null\n",
       "  }\n",
       "  function is_loaded(root) {\n",
       "    var Bokeh = get_bokeh(root)\n",
       "    return (Bokeh != null && Bokeh.Panel !== undefined)\n",
       "  }\n",
       "  if (is_loaded(root)) {\n",
       "    embed_document(root);\n",
       "  } else {\n",
       "    var attempts = 0;\n",
       "    var timer = setInterval(function(root) {\n",
       "      if (is_loaded(root)) {\n",
       "        clearInterval(timer);\n",
       "        embed_document(root);\n",
       "      } else if (document.readyState == \"complete\") {\n",
       "        attempts++;\n",
       "        if (attempts > 200) {\n",
       "          clearInterval(timer);\n",
       "\t  var Bokeh = get_bokeh(root)\n",
       "\t  if (Bokeh == null || Bokeh.Panel == null) {\n",
       "            console.warn(\"Panel: ERROR: Unable to run Panel code because Bokeh or Panel library is missing\");\n",
       "\t  } else {\n",
       "\t    console.warn(\"Panel: WARNING: Attempting to render but not all required libraries could be resolved.\")\n",
       "\t    embed_document(root)\n",
       "\t  }\n",
       "        }\n",
       "      }\n",
       "    }, 25, root)\n",
       "  }\n",
       "})(window);</script>"
      ],
      "text/plain": [
       ":Distribution   [target]   (Density)"
      ]
     },
     "execution_count": 56,
     "metadata": {
      "application/vnd.holoviews_exec.v0+json": {
       "id": "p1844"
      }
     },
     "output_type": "execute_result"
    }
   ],
   "source": [
    "df_with_target['target'].plot.kde()"
   ]
  },
  {
   "cell_type": "code",
   "execution_count": 57,
   "id": "6ca7d567-324a-4e97-925c-cecfd25cab5a",
   "metadata": {},
   "outputs": [
    {
     "data": {},
     "metadata": {},
     "output_type": "display_data"
    },
    {
     "data": {
      "application/vnd.holoviews_exec.v0+json": "",
      "text/html": [
       "<div id='p1907'>\n",
       "  <div id=\"e3eae93c-1625-456c-93e5-7b43dfe73fee\" data-root-id=\"p1907\" style=\"display: contents;\"></div>\n",
       "</div>\n",
       "<script type=\"application/javascript\">(function(root) {\n",
       "  var docs_json = {\"5917eae1-a82b-4fce-b19c-27db8f4e77dc\":{\"version\":\"3.4.1\",\"title\":\"Bokeh Application\",\"roots\":[{\"type\":\"object\",\"name\":\"Row\",\"id\":\"p1907\",\"attributes\":{\"name\":\"Row02692\",\"tags\":[\"embedded\"],\"stylesheets\":[\"\\n:host(.pn-loading):before, .pn-loading:before {\\n  background-color: #c3c3c3;\\n  mask-size: auto calc(min(50%, 400px));\\n  -webkit-mask-size: auto calc(min(50%, 400px));\\n}\",{\"type\":\"object\",\"name\":\"ImportedStyleSheet\",\"id\":\"p1910\",\"attributes\":{\"url\":\"https://cdn.holoviz.org/panel/1.4.2/dist/css/loading.css\"}},{\"type\":\"object\",\"name\":\"ImportedStyleSheet\",\"id\":\"p1966\",\"attributes\":{\"url\":\"https://cdn.holoviz.org/panel/1.4.2/dist/css/listpanel.css\"}},{\"type\":\"object\",\"name\":\"ImportedStyleSheet\",\"id\":\"p1908\",\"attributes\":{\"url\":\"https://cdn.holoviz.org/panel/1.4.2/dist/bundled/theme/default.css\"}},{\"type\":\"object\",\"name\":\"ImportedStyleSheet\",\"id\":\"p1909\",\"attributes\":{\"url\":\"https://cdn.holoviz.org/panel/1.4.2/dist/bundled/theme/native.css\"}}],\"min_width\":700,\"margin\":0,\"sizing_mode\":\"stretch_width\",\"align\":\"start\",\"children\":[{\"type\":\"object\",\"name\":\"Spacer\",\"id\":\"p1911\",\"attributes\":{\"name\":\"HSpacer02699\",\"stylesheets\":[\"\\n:host(.pn-loading):before, .pn-loading:before {\\n  background-color: #c3c3c3;\\n  mask-size: auto calc(min(50%, 400px));\\n  -webkit-mask-size: auto calc(min(50%, 400px));\\n}\",{\"id\":\"p1910\"},{\"id\":\"p1908\"},{\"id\":\"p1909\"}],\"margin\":0,\"sizing_mode\":\"stretch_width\",\"align\":\"start\"}},{\"type\":\"object\",\"name\":\"Figure\",\"id\":\"p1919\",\"attributes\":{\"width\":700,\"height\":300,\"margin\":[5,10],\"sizing_mode\":\"fixed\",\"align\":\"start\",\"x_range\":{\"type\":\"object\",\"name\":\"Range1d\",\"id\":\"p1912\",\"attributes\":{\"tags\":[[[\"target\",\"target\",null]],[]],\"start\":-0.45808943948909586,\"end\":9.901682096927775,\"reset_start\":-0.45808943948909586,\"reset_end\":9.901682096927775}},\"y_range\":{\"type\":\"object\",\"name\":\"Range1d\",\"id\":\"p1913\",\"attributes\":{\"tags\":[[[\"target_density\",\"Density\",null]],{\"type\":\"map\",\"entries\":[[\"invert_yaxis\",false],[\"autorange\",false]]}],\"end\":0.3152120768899244,\"reset_start\":0.0,\"reset_end\":0.3152120768899244}},\"x_scale\":{\"type\":\"object\",\"name\":\"LinearScale\",\"id\":\"p1929\"},\"y_scale\":{\"type\":\"object\",\"name\":\"LinearScale\",\"id\":\"p1930\"},\"title\":{\"type\":\"object\",\"name\":\"Title\",\"id\":\"p1922\",\"attributes\":{\"text_color\":\"black\",\"text_font_size\":\"12pt\"}},\"renderers\":[{\"type\":\"object\",\"name\":\"GlyphRenderer\",\"id\":\"p1959\",\"attributes\":{\"data_source\":{\"type\":\"object\",\"name\":\"ColumnDataSource\",\"id\":\"p1950\",\"attributes\":{\"selected\":{\"type\":\"object\",\"name\":\"Selection\",\"id\":\"p1951\",\"attributes\":{\"indices\":[],\"line_indices\":[]}},\"selection_policy\":{\"type\":\"object\",\"name\":\"UnionRenderers\",\"id\":\"p1952\"},\"data\":{\"type\":\"map\",\"entries\":[[\"x\",{\"type\":\"ndarray\",\"array\":{\"type\":\"bytes\",\"data\":\"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\"},\"shape\":[200],\"dtype\":\"float64\",\"order\":\"little\"}],[\"y\",{\"type\":\"ndarray\",\"array\":{\"type\":\"bytes\",\"data\":\"AAAAAAAAAAAAAAAAAAAAAAAAAAAAAAAAAAAAAAAAAAAAAAAAAAAAAAAAAAAAAAAAAAAAAAAAAAAAAAAAAAAAAAAAAAAAAAAAAAAAAAAAAAAAAAAAAAAAAAAAAAAAAAAAAAAAAAAAAAAAAAAAAAAAAAAAAAAAAAAAAAAAAAAAAAAAAAAAAAAAAAAAAAAAAAAAAAAAAAAAAAAAAAAAAAAAAAAAAAAAAAAAAAAAAAAAAAAAAAAAAAAAAAAAAAAAAAAAAAAAAAAAAAAAAAAAAAAAAAAAAAAAAAAAAAAAAAAAAAAAAAAAAAAAAAAAAAAAAAAAAAAAAAAAAAAAAAAAAAAAAAAAAAAAAAAAAAAAAAAAAAAAAAAAAAAAAAAAAAAAAAAAAAAAAAAAAAAAAAAAAAAAAAAAAAAAAAAAAAAAAAAAAAAAAAAAAAAAAAAAAAAAAAAAAAAAAAAAAAAAAAAAAAAAAAAAAAAAAAAAAAAAAAAAAAAAAAAAAAAAAAAAAAAAAAAAAAAAAAAAAAAAAAAAAAAAAAAAAAAAAAAAAAAAAAAAAAAAAAAAAAAAAAAAAAAAAAAAAAAAAAAAAAAAAAAAAAAAAAAAAAAAAAAAAAAAAAAAAAAAAAAAAAAAAAAAAAAAAAAAAAAAAAAAAAAAAAAAAAAAAAAAAAAAAAAAAAAAAAAAAAAAAAAAAAAAAAAAAAAAAAAAAAAAAAAAAAAAAAAAAAAAAAAAAAAAAAAAAAAAAAAAAAAAAAAAAAAAAAAAAAAAAAAAAAAAAAAAAAAAAAAAAAAAAAAAAAAAAAAAAAAAAAAAAAAAAAAAAAAAAAAAAAAAAAAAAAAAAAAAAAAAAAAAAAAAAAAAAAAAAAAAAAAAAAAAAAAAAAAAAAAAAAAAAAAAAAAAAAAAAAAAAAAAAAAAAAAAAAAAAAAAAAAAAAAAAAAAAAAAAAAAAAAAAAAAAAAAAAAAAAAAAAAAAAAAAAAAAAAAAAAAAAAAAAAAAAAAAAAAAAAAAAAAAAAAAAAAAAAAAAAAAAAAAAAAAAAAAAAAAAAAAAAAAAAAAAAAAAAAAAAAAAArTGwqFQrpPopEcN7K0hY/rs70HgPhOz8ozuOSzsRXPx52zAn4+G0/QbVdv9gkfj+aq9tJIWOKP6TEia5jg5U/qqEWczFmoD/fnMo4lZmmPzhbLJbnRqw/zb2VzxX3sD81ncIV90y0P9qqKfMIC7g/pRcO0uv/uz+NsSwsaSrAP30nksJwf8I/kuRFhsXOxD+dNhj9e9jGP6NNbp68bMg/Qv/EfWq9yT/nKvkTBEvLP5ICjfgbU80/5wquxeaqzz8lWY3rrfbQP6lpRbAjyNE/CwOUiWwa0j+XVBCcawrSP0Ya16iM99E///TgaUwg0j+TARhZ9VbSP4KJdm3YR9I/bh0npAjk0T9YpJhq5VvRP6/Wyv9+3dA/o2W9A2V10D9fH4cfShvQPyzkkqF+cc8/qpnIvItTzj8jz1ZuotDMP1U7arXsN8s/OoDkPerCyT8+kumXEl3IP9nE4xaI6cY//u1n1p16xT/u9iskTS3EPyy8cOYU/8I/MuI/zL7ZwT9SMqlVCLjAP1acjPfbVL8/AG/2oHpgvT+hWDasZm+7P++ycOVTe7k/NnO2cymOtz/hXMoav6+1PyaCSGye+7M/XQV85sqDsj/l6fVuXS6xP5c0xCbytK8/zExhf94RrT+AW2Ed7KOqPzzGSu5Keag/qyoC1L9qpj+ogq8zelSkP2bTSCo/R6I/111KXgt7oD9q354+MQaeP6aJwc0Fb5s/WX4XkNfumD+cjPomppWWP5cMmGTleZQ/AmXRpy+bkj8KKlV81PmQP0Z7LZCmJ48/uYE7DBv5jD/Tt6kbnpKLPzR3coMAi4o/6GmkN+1OiT81XOTdXdqHP5D72/3IRoY//pybRfx+hD//UrKRnF+CPxIsMrywoX8/Avo2mIxaez+fJ0oa+vZ3P0RqT1a39XI/Se0iYWE3bj+PVXzkVS9wP58Ow7MLj3E/+l+a1wEIaz9XMEDPSA9bPz1UGZIhNUc/3zG2WeJUUD+Nl/nsbRNkPwqMMbZ67XA/EnyhU/jscT+wL+pvwL1nP+CVwFjLqFM/Y/5vETtbND8ZbbQyZVsKPw==\"},\"shape\":[200],\"dtype\":\"float64\",\"order\":\"little\"}]]}}},\"view\":{\"type\":\"object\",\"name\":\"CDSView\",\"id\":\"p1960\",\"attributes\":{\"filter\":{\"type\":\"object\",\"name\":\"AllIndices\",\"id\":\"p1961\"}}},\"glyph\":{\"type\":\"object\",\"name\":\"Patch\",\"id\":\"p1956\",\"attributes\":{\"tags\":[\"apply_ranges\"],\"x\":{\"type\":\"field\",\"field\":\"x\"},\"y\":{\"type\":\"field\",\"field\":\"y\"},\"fill_color\":\"#30a2da\",\"fill_alpha\":0.5,\"hatch_color\":\"#30a2da\"}},\"selection_glyph\":{\"type\":\"object\",\"name\":\"Patch\",\"id\":\"p1962\",\"attributes\":{\"tags\":[\"apply_ranges\"],\"x\":{\"type\":\"field\",\"field\":\"x\"},\"y\":{\"type\":\"field\",\"field\":\"y\"},\"fill_color\":\"#30a2da\",\"fill_alpha\":0.5,\"hatch_color\":\"#30a2da\"}},\"nonselection_glyph\":{\"type\":\"object\",\"name\":\"Patch\",\"id\":\"p1957\",\"attributes\":{\"tags\":[\"apply_ranges\"],\"x\":{\"type\":\"field\",\"field\":\"x\"},\"y\":{\"type\":\"field\",\"field\":\"y\"},\"line_alpha\":1,\"fill_color\":\"#30a2da\",\"fill_alpha\":0.5,\"hatch_color\":\"#30a2da\",\"hatch_alpha\":0.1}},\"muted_glyph\":{\"type\":\"object\",\"name\":\"Patch\",\"id\":\"p1958\",\"attributes\":{\"tags\":[\"apply_ranges\"],\"x\":{\"type\":\"field\",\"field\":\"x\"},\"y\":{\"type\":\"field\",\"field\":\"y\"},\"line_alpha\":0.2,\"fill_color\":\"#30a2da\",\"fill_alpha\":0.2,\"hatch_color\":\"#30a2da\",\"hatch_alpha\":0.2}}}}],\"toolbar\":{\"type\":\"object\",\"name\":\"Toolbar\",\"id\":\"p1928\",\"attributes\":{\"tools\":[{\"type\":\"object\",\"name\":\"WheelZoomTool\",\"id\":\"p1917\",\"attributes\":{\"tags\":[\"hv_created\"],\"renderers\":\"auto\",\"zoom_together\":\"none\"}},{\"type\":\"object\",\"name\":\"HoverTool\",\"id\":\"p1918\",\"attributes\":{\"tags\":[\"hv_created\"],\"renderers\":[{\"id\":\"p1959\"}],\"tooltips\":[[\"target\",\"@{target}\"],[\"Density\",\"@{target_density}\"]]}},{\"type\":\"object\",\"name\":\"SaveTool\",\"id\":\"p1941\"},{\"type\":\"object\",\"name\":\"PanTool\",\"id\":\"p1942\"},{\"type\":\"object\",\"name\":\"BoxZoomTool\",\"id\":\"p1943\",\"attributes\":{\"overlay\":{\"type\":\"object\",\"name\":\"BoxAnnotation\",\"id\":\"p1944\",\"attributes\":{\"syncable\":false,\"level\":\"overlay\",\"visible\":false,\"left\":{\"type\":\"number\",\"value\":\"nan\"},\"right\":{\"type\":\"number\",\"value\":\"nan\"},\"top\":{\"type\":\"number\",\"value\":\"nan\"},\"bottom\":{\"type\":\"number\",\"value\":\"nan\"},\"left_units\":\"canvas\",\"right_units\":\"canvas\",\"top_units\":\"canvas\",\"bottom_units\":\"canvas\",\"line_color\":\"black\",\"line_alpha\":1.0,\"line_width\":2,\"line_dash\":[4,4],\"fill_color\":\"lightgrey\",\"fill_alpha\":0.5}}}},{\"type\":\"object\",\"name\":\"ResetTool\",\"id\":\"p1949\"}],\"active_drag\":{\"id\":\"p1942\"},\"active_scroll\":{\"id\":\"p1917\"}}},\"left\":[{\"type\":\"object\",\"name\":\"LinearAxis\",\"id\":\"p1936\",\"attributes\":{\"ticker\":{\"type\":\"object\",\"name\":\"BasicTicker\",\"id\":\"p1937\",\"attributes\":{\"mantissas\":[1,2,5]}},\"formatter\":{\"type\":\"object\",\"name\":\"BasicTickFormatter\",\"id\":\"p1938\"},\"axis_label\":\"Density\",\"major_label_policy\":{\"type\":\"object\",\"name\":\"AllLabels\",\"id\":\"p1939\"}}}],\"below\":[{\"type\":\"object\",\"name\":\"LinearAxis\",\"id\":\"p1931\",\"attributes\":{\"ticker\":{\"type\":\"object\",\"name\":\"BasicTicker\",\"id\":\"p1932\",\"attributes\":{\"mantissas\":[1,2,5]}},\"formatter\":{\"type\":\"object\",\"name\":\"BasicTickFormatter\",\"id\":\"p1933\"},\"axis_label\":\"target\",\"major_label_policy\":{\"type\":\"object\",\"name\":\"AllLabels\",\"id\":\"p1934\"}}}],\"center\":[{\"type\":\"object\",\"name\":\"Grid\",\"id\":\"p1935\",\"attributes\":{\"axis\":{\"id\":\"p1931\"},\"grid_line_color\":null}},{\"type\":\"object\",\"name\":\"Grid\",\"id\":\"p1940\",\"attributes\":{\"dimension\":1,\"axis\":{\"id\":\"p1936\"},\"grid_line_color\":null}}],\"min_border_top\":10,\"min_border_bottom\":10,\"min_border_left\":10,\"min_border_right\":10,\"output_backend\":\"webgl\"}},{\"type\":\"object\",\"name\":\"Spacer\",\"id\":\"p1964\",\"attributes\":{\"name\":\"HSpacer02700\",\"stylesheets\":[\"\\n:host(.pn-loading):before, .pn-loading:before {\\n  background-color: #c3c3c3;\\n  mask-size: auto calc(min(50%, 400px));\\n  -webkit-mask-size: auto calc(min(50%, 400px));\\n}\",{\"id\":\"p1910\"},{\"id\":\"p1908\"},{\"id\":\"p1909\"}],\"margin\":0,\"sizing_mode\":\"stretch_width\",\"align\":\"start\"}}]}}],\"defs\":[{\"type\":\"model\",\"name\":\"ReactiveHTML1\"},{\"type\":\"model\",\"name\":\"FlexBox1\",\"properties\":[{\"name\":\"align_content\",\"kind\":\"Any\",\"default\":\"flex-start\"},{\"name\":\"align_items\",\"kind\":\"Any\",\"default\":\"flex-start\"},{\"name\":\"flex_direction\",\"kind\":\"Any\",\"default\":\"row\"},{\"name\":\"flex_wrap\",\"kind\":\"Any\",\"default\":\"wrap\"},{\"name\":\"gap\",\"kind\":\"Any\",\"default\":\"\"},{\"name\":\"justify_content\",\"kind\":\"Any\",\"default\":\"flex-start\"}]},{\"type\":\"model\",\"name\":\"FloatPanel1\",\"properties\":[{\"name\":\"config\",\"kind\":\"Any\",\"default\":{\"type\":\"map\"}},{\"name\":\"contained\",\"kind\":\"Any\",\"default\":true},{\"name\":\"position\",\"kind\":\"Any\",\"default\":\"right-top\"},{\"name\":\"offsetx\",\"kind\":\"Any\",\"default\":null},{\"name\":\"offsety\",\"kind\":\"Any\",\"default\":null},{\"name\":\"theme\",\"kind\":\"Any\",\"default\":\"primary\"},{\"name\":\"status\",\"kind\":\"Any\",\"default\":\"normalized\"}]},{\"type\":\"model\",\"name\":\"GridStack1\",\"properties\":[{\"name\":\"mode\",\"kind\":\"Any\",\"default\":\"warn\"},{\"name\":\"ncols\",\"kind\":\"Any\",\"default\":null},{\"name\":\"nrows\",\"kind\":\"Any\",\"default\":null},{\"name\":\"allow_resize\",\"kind\":\"Any\",\"default\":true},{\"name\":\"allow_drag\",\"kind\":\"Any\",\"default\":true},{\"name\":\"state\",\"kind\":\"Any\",\"default\":[]}]},{\"type\":\"model\",\"name\":\"drag1\",\"properties\":[{\"name\":\"slider_width\",\"kind\":\"Any\",\"default\":5},{\"name\":\"slider_color\",\"kind\":\"Any\",\"default\":\"black\"},{\"name\":\"value\",\"kind\":\"Any\",\"default\":50}]},{\"type\":\"model\",\"name\":\"click1\",\"properties\":[{\"name\":\"terminal_output\",\"kind\":\"Any\",\"default\":\"\"},{\"name\":\"debug_name\",\"kind\":\"Any\",\"default\":\"\"},{\"name\":\"clears\",\"kind\":\"Any\",\"default\":0}]},{\"type\":\"model\",\"name\":\"FastWrapper1\",\"properties\":[{\"name\":\"object\",\"kind\":\"Any\",\"default\":null},{\"name\":\"style\",\"kind\":\"Any\",\"default\":null}]},{\"type\":\"model\",\"name\":\"NotificationAreaBase1\",\"properties\":[{\"name\":\"js_events\",\"kind\":\"Any\",\"default\":{\"type\":\"map\"}},{\"name\":\"position\",\"kind\":\"Any\",\"default\":\"bottom-right\"},{\"name\":\"_clear\",\"kind\":\"Any\",\"default\":0}]},{\"type\":\"model\",\"name\":\"NotificationArea1\",\"properties\":[{\"name\":\"js_events\",\"kind\":\"Any\",\"default\":{\"type\":\"map\"}},{\"name\":\"notifications\",\"kind\":\"Any\",\"default\":[]},{\"name\":\"position\",\"kind\":\"Any\",\"default\":\"bottom-right\"},{\"name\":\"_clear\",\"kind\":\"Any\",\"default\":0},{\"name\":\"types\",\"kind\":\"Any\",\"default\":[{\"type\":\"map\",\"entries\":[[\"type\",\"warning\"],[\"background\",\"#ffc107\"],[\"icon\",{\"type\":\"map\",\"entries\":[[\"className\",\"fas fa-exclamation-triangle\"],[\"tagName\",\"i\"],[\"color\",\"white\"]]}]]},{\"type\":\"map\",\"entries\":[[\"type\",\"info\"],[\"background\",\"#007bff\"],[\"icon\",{\"type\":\"map\",\"entries\":[[\"className\",\"fas fa-info-circle\"],[\"tagName\",\"i\"],[\"color\",\"white\"]]}]]}]}]},{\"type\":\"model\",\"name\":\"Notification\",\"properties\":[{\"name\":\"background\",\"kind\":\"Any\",\"default\":null},{\"name\":\"duration\",\"kind\":\"Any\",\"default\":3000},{\"name\":\"icon\",\"kind\":\"Any\",\"default\":null},{\"name\":\"message\",\"kind\":\"Any\",\"default\":\"\"},{\"name\":\"notification_type\",\"kind\":\"Any\",\"default\":null},{\"name\":\"_destroyed\",\"kind\":\"Any\",\"default\":false}]},{\"type\":\"model\",\"name\":\"TemplateActions1\",\"properties\":[{\"name\":\"open_modal\",\"kind\":\"Any\",\"default\":0},{\"name\":\"close_modal\",\"kind\":\"Any\",\"default\":0}]},{\"type\":\"model\",\"name\":\"BootstrapTemplateActions1\",\"properties\":[{\"name\":\"open_modal\",\"kind\":\"Any\",\"default\":0},{\"name\":\"close_modal\",\"kind\":\"Any\",\"default\":0}]},{\"type\":\"model\",\"name\":\"TemplateEditor1\",\"properties\":[{\"name\":\"layout\",\"kind\":\"Any\",\"default\":[]}]},{\"type\":\"model\",\"name\":\"MaterialTemplateActions1\",\"properties\":[{\"name\":\"open_modal\",\"kind\":\"Any\",\"default\":0},{\"name\":\"close_modal\",\"kind\":\"Any\",\"default\":0}]},{\"type\":\"model\",\"name\":\"copy_to_clipboard1\",\"properties\":[{\"name\":\"fill\",\"kind\":\"Any\",\"default\":\"none\"},{\"name\":\"value\",\"kind\":\"Any\",\"default\":null}]}]}};\n",
       "  var render_items = [{\"docid\":\"5917eae1-a82b-4fce-b19c-27db8f4e77dc\",\"roots\":{\"p1907\":\"e3eae93c-1625-456c-93e5-7b43dfe73fee\"},\"root_ids\":[\"p1907\"]}];\n",
       "  var docs = Object.values(docs_json)\n",
       "  if (!docs) {\n",
       "    return\n",
       "  }\n",
       "  const py_version = docs[0].version.replace('rc', '-rc.').replace('.dev', '-dev.')\n",
       "  function embed_document(root) {\n",
       "    var Bokeh = get_bokeh(root)\n",
       "    Bokeh.embed.embed_items_notebook(docs_json, render_items);\n",
       "    for (const render_item of render_items) {\n",
       "      for (const root_id of render_item.root_ids) {\n",
       "\tconst id_el = document.getElementById(root_id)\n",
       "\tif (id_el.children.length && (id_el.children[0].className === 'bk-root')) {\n",
       "\t  const root_el = id_el.children[0]\n",
       "\t  root_el.id = root_el.id + '-rendered'\n",
       "\t}\n",
       "      }\n",
       "    }\n",
       "  }\n",
       "  function get_bokeh(root) {\n",
       "    if (root.Bokeh === undefined) {\n",
       "      return null\n",
       "    } else if (root.Bokeh.version !== py_version) {\n",
       "      if (root.Bokeh.versions === undefined || !root.Bokeh.versions.has(py_version)) {\n",
       "\treturn null\n",
       "      }\n",
       "      return root.Bokeh.versions.get(py_version);\n",
       "    } else if (root.Bokeh.version === py_version) {\n",
       "      return root.Bokeh\n",
       "    }\n",
       "    return null\n",
       "  }\n",
       "  function is_loaded(root) {\n",
       "    var Bokeh = get_bokeh(root)\n",
       "    return (Bokeh != null && Bokeh.Panel !== undefined)\n",
       "  }\n",
       "  if (is_loaded(root)) {\n",
       "    embed_document(root);\n",
       "  } else {\n",
       "    var attempts = 0;\n",
       "    var timer = setInterval(function(root) {\n",
       "      if (is_loaded(root)) {\n",
       "        clearInterval(timer);\n",
       "        embed_document(root);\n",
       "      } else if (document.readyState == \"complete\") {\n",
       "        attempts++;\n",
       "        if (attempts > 200) {\n",
       "          clearInterval(timer);\n",
       "\t  var Bokeh = get_bokeh(root)\n",
       "\t  if (Bokeh == null || Bokeh.Panel == null) {\n",
       "            console.warn(\"Panel: ERROR: Unable to run Panel code because Bokeh or Panel library is missing\");\n",
       "\t  } else {\n",
       "\t    console.warn(\"Panel: WARNING: Attempting to render but not all required libraries could be resolved.\")\n",
       "\t    embed_document(root)\n",
       "\t  }\n",
       "        }\n",
       "      }\n",
       "    }, 25, root)\n",
       "  }\n",
       "})(window);</script>"
      ],
      "text/plain": [
       ":Distribution   [target]   (Density)"
      ]
     },
     "execution_count": 57,
     "metadata": {
      "application/vnd.holoviews_exec.v0+json": {
       "id": "p1907"
      }
     },
     "output_type": "execute_result"
    }
   ],
   "source": [
    "df_with_target['target'].log().plot.kde()"
   ]
  },
  {
   "cell_type": "code",
   "execution_count": 58,
   "id": "b1989b73-874c-4178-80e6-4295959ed34c",
   "metadata": {},
   "outputs": [
    {
     "data": {
      "text/html": [
       "<div><style>\n",
       ".dataframe > thead > tr,\n",
       ".dataframe > tbody > tr {\n",
       "  text-align: right;\n",
       "  white-space: pre-wrap;\n",
       "}\n",
       "</style>\n",
       "<small>shape: (2, 2)</small><table border=\"1\" class=\"dataframe\"><thead><tr><th>disengage</th><th>count</th></tr><tr><td>bool</td><td>u32</td></tr></thead><tbody><tr><td>false</td><td>67819</td></tr><tr><td>true</td><td>32180</td></tr></tbody></table></div>"
      ],
      "text/plain": [
       "shape: (2, 2)\n",
       "┌───────────┬───────┐\n",
       "│ disengage ┆ count │\n",
       "│ ---       ┆ ---   │\n",
       "│ bool      ┆ u32   │\n",
       "╞═══════════╪═══════╡\n",
       "│ false     ┆ 67819 │\n",
       "│ true      ┆ 32180 │\n",
       "└───────────┴───────┘"
      ]
     },
     "execution_count": 58,
     "metadata": {},
     "output_type": "execute_result"
    }
   ],
   "source": [
    "y = (df_with_target['target'] < 5 * 60).alias('disengage')\n",
    "y.value_counts() # note used here '<' rather than '<='. important?"
   ]
  },
  {
   "cell_type": "markdown",
   "id": "cf0dca1f-9a06-441b-92f5-38711e7e1e65",
   "metadata": {},
   "source": [
    "### For the sake of train/test split, I've decided to group by users, after all if the same user is used in both, we can potentially leak information."
   ]
  },
  {
   "cell_type": "code",
   "execution_count": 59,
   "id": "8edfaea0-5788-4b81-a5a7-0560a78949ca",
   "metadata": {},
   "outputs": [],
   "source": [
    "groups = df_with_sessions['user']"
   ]
  },
  {
   "cell_type": "code",
   "execution_count": 60,
   "id": "4941d84a-bfa8-4cb8-a860-df2c264a631b",
   "metadata": {},
   "outputs": [],
   "source": [
    "# ### The requested .75/.25 split here is based on users. We may end with a differnt ratio with respect to the hits (or also with respect to sessions). "
   ]
  },
  {
   "cell_type": "code",
   "execution_count": 61,
   "id": "a37e1bc2-9637-4bff-9f48-8246a8d44ec6",
   "metadata": {},
   "outputs": [],
   "source": [
    "# gss = GroupShuffleSplit(n_splits=2, train_size=.75, random_state=1)"
   ]
  },
  {
   "cell_type": "code",
   "execution_count": 62,
   "id": "846da7ca-e91d-4922-91a1-67f0403c9ce7",
   "metadata": {},
   "outputs": [],
   "source": [
    "# for i, (train_index, test_index) in enumerate(gss.split(df_with_sessions, groups=groups)):\n",
    "#     print(f\"Fold {i}:\")\n",
    "#     print(f\"  Train: index={len(train_index)}, group={len(np.unique(groups[train_index]))}\")\n",
    "#     print(f\"  Test:  index={len(test_index)}, group={len(np.unique(groups[test_index]))}\")"
   ]
  },
  {
   "cell_type": "code",
   "execution_count": 63,
   "id": "7dc21f6f-4b8a-4a74-8358-b3fd3284ca09",
   "metadata": {},
   "outputs": [],
   "source": [
    "sgkf = StratifiedGroupKFold(n_splits=4)"
   ]
  },
  {
   "cell_type": "code",
   "execution_count": 64,
   "id": "5beb0c5a-4a57-4a13-8f9f-9bc4a8422a17",
   "metadata": {},
   "outputs": [
    {
     "name": "stdout",
     "output_type": "stream",
     "text": [
      "Fold 0:\n",
      "  Train: index=74976\n",
      "         group=703\n",
      "  Test:  index=25023\n",
      "         group=240\n",
      "Fold 1:\n",
      "  Train: index=75013\n",
      "         group=691\n",
      "  Test:  index=24986\n",
      "         group=252\n",
      "Fold 2:\n",
      "  Train: index=75013\n",
      "         group=726\n",
      "  Test:  index=24986\n",
      "         group=217\n",
      "Fold 3:\n",
      "  Train: index=74995\n",
      "         group=709\n",
      "  Test:  index=25004\n",
      "         group=234\n"
     ]
    }
   ],
   "source": [
    "for i, (train_index, test_index) in enumerate(sgkf.split(df_with_target, y, groups)):\n",
    "     print(f\"Fold {i}:\")\n",
    "     print(f\"  Train: index={len(train_index)}\")\n",
    "     print(f\"         group={len(np.unique(groups[train_index]))}\")\n",
    "     print(f\"  Test:  index={len(test_index)}\")\n",
    "     print(f\"         group={len(np.unique(groups[test_index]))}\")"
   ]
  },
  {
   "cell_type": "code",
   "execution_count": null,
   "id": "8de22422-a96f-427b-bc18-bfe55e9a463f",
   "metadata": {},
   "outputs": [],
   "source": []
  }
 ],
 "metadata": {
  "kernelspec": {
   "display_name": "Python 3 (ipykernel)",
   "language": "python",
   "name": "python3"
  },
  "language_info": {
   "codemirror_mode": {
    "name": "ipython",
    "version": 3
   },
   "file_extension": ".py",
   "mimetype": "text/x-python",
   "name": "python",
   "nbconvert_exporter": "python",
   "pygments_lexer": "ipython3",
   "version": "3.10.13"
  }
 },
 "nbformat": 4,
 "nbformat_minor": 5
}
