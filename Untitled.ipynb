{
 "cells": [
  {
   "cell_type": "code",
   "execution_count": 1,
   "id": "634f78c0-3724-4dec-a1b4-b5ceb8f7e19b",
   "metadata": {},
   "outputs": [],
   "source": [
    "%load_ext autoreload\n",
    "%autoreload 2"
   ]
  },
  {
   "cell_type": "code",
   "execution_count": 2,
   "id": "05b97ea7-a532-409a-b528-1188ee8d8cd3",
   "metadata": {},
   "outputs": [],
   "source": [
    "from common import (\n",
    "    get_starting_df,\n",
    "    find_sessions,\n",
    "    add_regression_target,\n",
    "    calc_y,\n",
    "    add_fold,\n",
    ")\n",
    "import polars as pl\n",
    "import gymnasium as gym\n",
    "# from IPython import display\n",
    "from sklearn.ensemble import GradientBoostingClassifier\n",
    "from sklearn.ensemble import RandomForestClassifier\n",
    "from sklearn.preprocessing import StandardScaler\n",
    "from sklearn.pipeline import make_pipeline\n",
    "from sklearn.linear_model import LogisticRegression\n",
    "from sklearn.metrics import accuracy_score\n",
    "from sklearn.metrics import confusion_matrix\n",
    "import lightgbm\n",
    "import matplotlib.pyplot as plt"
   ]
  },
  {
   "cell_type": "code",
   "execution_count": 3,
   "id": "110d8cf5-f972-47f1-ac1a-7c7e2719afb8",
   "metadata": {},
   "outputs": [],
   "source": [
    "df = (\n",
    "    get_starting_df()\n",
    ")"
   ]
  },
  {
   "cell_type": "code",
   "execution_count": 4,
   "id": "e3180b56-d970-4039-ad97-61bfd9c48711",
   "metadata": {},
   "outputs": [
    {
     "data": {
      "text/html": [
       "<div><style>\n",
       ".dataframe > thead > tr,\n",
       ".dataframe > tbody > tr {\n",
       "  text-align: right;\n",
       "  white-space: pre-wrap;\n",
       "}\n",
       "</style>\n",
       "<small>shape: (5, 2)</small><table border=\"1\" class=\"dataframe\"><thead><tr><th>user_id</th><th>timestamp</th></tr><tr><td>str</td><td>datetime[μs]</td></tr></thead><tbody><tr><td>&quot;54999c8d9cd118282b001784&quot;</td><td>2014-12-23 04:53:19</td></tr><tr><td>&quot;54999c91bb7b56040d0011e8&quot;</td><td>2014-12-23 04:53:20</td></tr><tr><td>&quot;54999c8fbb7b565d7e000a7c&quot;</td><td>2014-12-23 04:53:21</td></tr><tr><td>&quot;54999cb29cd1184d77000539&quot;</td><td>2014-12-23 04:53:24</td></tr><tr><td>&quot;54068fab91ad6b597e000f97&quot;</td><td>2014-12-23 04:53:28</td></tr></tbody></table></div>"
      ],
      "text/plain": [
       "shape: (5, 2)\n",
       "┌──────────────────────────┬─────────────────────┐\n",
       "│ user_id                  ┆ timestamp           │\n",
       "│ ---                      ┆ ---                 │\n",
       "│ str                      ┆ datetime[μs]        │\n",
       "╞══════════════════════════╪═════════════════════╡\n",
       "│ 54999c8d9cd118282b001784 ┆ 2014-12-23 04:53:19 │\n",
       "│ 54999c91bb7b56040d0011e8 ┆ 2014-12-23 04:53:20 │\n",
       "│ 54999c8fbb7b565d7e000a7c ┆ 2014-12-23 04:53:21 │\n",
       "│ 54999cb29cd1184d77000539 ┆ 2014-12-23 04:53:24 │\n",
       "│ 54068fab91ad6b597e000f97 ┆ 2014-12-23 04:53:28 │\n",
       "└──────────────────────────┴─────────────────────┘"
      ]
     },
     "execution_count": 4,
     "metadata": {},
     "output_type": "execute_result"
    }
   ],
   "source": [
    "df.head()"
   ]
  },
  {
   "cell_type": "code",
   "execution_count": 33,
   "id": "d0e17de8-5a6d-480c-aeeb-41f2927c69a2",
   "metadata": {},
   "outputs": [],
   "source": [
    "def find_sessions(df):\n",
    "    return (\n",
    "        df.sort(['user_id', 'timestamp'])\n",
    "        .with_columns(user_diff=(pl.col('user_id').ne(pl.col('user_id').shift())).fill_null(True))\n",
    "        .with_columns(user=pl.col(\"user_diff\").cum_sum())\n",
    "        .with_columns(ts_diff=(pl.col('timestamp').diff().dt.total_seconds().fill_null(0)))\n",
    "        .with_columns(cont_session=pl.col('ts_diff') > 5 * 60)\n",
    "        .with_columns(agg_session=pl.col('ts_diff') > 30 * 60)\n",
    "        .with_columns(cont_session=(pl.col(\"cont_session\") | pl.col(\"user_diff\")).cum_sum())\n",
    "        .with_columns(agg_session=(pl.col(\"agg_session\") | pl.col(\"user_diff\")).cum_sum())\n",
    "    )"
   ]
  },
  {
   "cell_type": "code",
   "execution_count": 34,
   "id": "e5472431-b7d3-4c7c-ba9a-cedb57b81ce0",
   "metadata": {},
   "outputs": [
    {
     "data": {
      "text/html": [
       "<div><style>\n",
       ".dataframe > thead > tr,\n",
       ".dataframe > tbody > tr {\n",
       "  text-align: right;\n",
       "  white-space: pre-wrap;\n",
       "}\n",
       "</style>\n",
       "<small>shape: (5, 7)</small><table border=\"1\" class=\"dataframe\"><thead><tr><th>user_id</th><th>timestamp</th><th>user_diff</th><th>user</th><th>ts_diff</th><th>cont_session</th><th>agg_session</th></tr><tr><td>str</td><td>datetime[μs]</td><td>bool</td><td>u32</td><td>i64</td><td>u32</td><td>u32</td></tr></thead><tbody><tr><td>&quot;54aac9549cd11825500000f8&quot;</td><td>2015-01-05 05:26:57</td><td>true</td><td>943</td><td>7347</td><td>3053</td><td>2289</td></tr><tr><td>&quot;54aac9549cd11825500000f8&quot;</td><td>2015-01-05 05:27:23</td><td>false</td><td>943</td><td>26</td><td>3053</td><td>2289</td></tr><tr><td>&quot;54aac9549cd11825500000f8&quot;</td><td>2015-01-05 05:27:48</td><td>false</td><td>943</td><td>25</td><td>3053</td><td>2289</td></tr><tr><td>&quot;54aac9549cd11825500000f8&quot;</td><td>2015-01-05 05:27:52</td><td>false</td><td>943</td><td>4</td><td>3053</td><td>2289</td></tr><tr><td>&quot;54aac9549cd11825500000f8&quot;</td><td>2015-01-05 05:28:02</td><td>false</td><td>943</td><td>10</td><td>3053</td><td>2289</td></tr></tbody></table></div>"
      ],
      "text/plain": [
       "shape: (5, 7)\n",
       "┌─────────────────────────┬──────────────┬───────────┬──────┬─────────┬──────────────┬─────────────┐\n",
       "│ user_id                 ┆ timestamp    ┆ user_diff ┆ user ┆ ts_diff ┆ cont_session ┆ agg_session │\n",
       "│ ---                     ┆ ---          ┆ ---       ┆ ---  ┆ ---     ┆ ---          ┆ ---         │\n",
       "│ str                     ┆ datetime[μs] ┆ bool      ┆ u32  ┆ i64     ┆ u32          ┆ u32         │\n",
       "╞═════════════════════════╪══════════════╪═══════════╪══════╪═════════╪══════════════╪═════════════╡\n",
       "│ 54aac9549cd11825500000f ┆ 2015-01-05   ┆ true      ┆ 943  ┆ 7347    ┆ 3053         ┆ 2289        │\n",
       "│ 8                       ┆ 05:26:57     ┆           ┆      ┆         ┆              ┆             │\n",
       "│ 54aac9549cd11825500000f ┆ 2015-01-05   ┆ false     ┆ 943  ┆ 26      ┆ 3053         ┆ 2289        │\n",
       "│ 8                       ┆ 05:27:23     ┆           ┆      ┆         ┆              ┆             │\n",
       "│ 54aac9549cd11825500000f ┆ 2015-01-05   ┆ false     ┆ 943  ┆ 25      ┆ 3053         ┆ 2289        │\n",
       "│ 8                       ┆ 05:27:48     ┆           ┆      ┆         ┆              ┆             │\n",
       "│ 54aac9549cd11825500000f ┆ 2015-01-05   ┆ false     ┆ 943  ┆ 4       ┆ 3053         ┆ 2289        │\n",
       "│ 8                       ┆ 05:27:52     ┆           ┆      ┆         ┆              ┆             │\n",
       "│ 54aac9549cd11825500000f ┆ 2015-01-05   ┆ false     ┆ 943  ┆ 10      ┆ 3053         ┆ 2289        │\n",
       "│ 8                       ┆ 05:28:02     ┆           ┆      ┆         ┆              ┆             │\n",
       "└─────────────────────────┴──────────────┴───────────┴──────┴─────────┴──────────────┴─────────────┘"
      ]
     },
     "execution_count": 34,
     "metadata": {},
     "output_type": "execute_result"
    }
   ],
   "source": [
    "df.pipe(find_sessions).tail()"
   ]
  },
  {
   "cell_type": "code",
   "execution_count": null,
   "id": "7c064853-671e-474f-888c-6f3a39b42df9",
   "metadata": {},
   "outputs": [],
   "source": []
  }
 ],
 "metadata": {
  "kernelspec": {
   "display_name": "Python 3 (ipykernel)",
   "language": "python",
   "name": "python3"
  },
  "language_info": {
   "codemirror_mode": {
    "name": "ipython",
    "version": 3
   },
   "file_extension": ".py",
   "mimetype": "text/x-python",
   "name": "python",
   "nbconvert_exporter": "python",
   "pygments_lexer": "ipython3",
   "version": "3.10.13"
  }
 },
 "nbformat": 4,
 "nbformat_minor": 5
}
